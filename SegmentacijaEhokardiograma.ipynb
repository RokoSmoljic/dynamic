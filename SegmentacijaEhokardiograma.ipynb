{
  "nbformat": 4,
  "nbformat_minor": 0,
  "metadata": {
    "colab": {
      "name": "SegmentacijaEhokardiograma.ipynb",
      "provenance": [],
      "collapsed_sections": [
        "bzY_2uZHU5s3",
        "zTmG-p_Rz8zy",
        "oY7Z5-3aWqS5",
        "oYByKY-t0AmZ",
        "7EmWQyFaz_qz"
      ],
      "include_colab_link": true
    },
    "kernelspec": {
      "name": "python3",
      "display_name": "Python 3"
    },
    "language_info": {
      "name": "python"
    },
    "accelerator": "GPU"
  },
  "cells": [
    {
      "cell_type": "markdown",
      "metadata": {
        "id": "view-in-github",
        "colab_type": "text"
      },
      "source": [
        "<a href=\"https://colab.research.google.com/github/RokoSmoljic/dynamic/blob/master/SegmentacijaEhokardiograma.ipynb\" target=\"_parent\"><img src=\"https://colab.research.google.com/assets/colab-badge.svg\" alt=\"Open In Colab\"/></a>"
      ]
    },
    {
      "cell_type": "markdown",
      "source": [
        "\n",
        "\n",
        "# Segmentacija Ehokardiograma\n",
        "## Računska inteligencija - seminarski rad \n"
      ],
      "metadata": {
        "id": "9ZYm-Fu_Ciqh"
      }
    },
    {
      "cell_type": "markdown",
      "source": [
        "\n",
        "## Dataset \n",
        "---\n",
        "Naziv: EchoNet-Dynamic\n",
        "\n",
        "Dataset link: [https://echonet.github.io/dynamic/](https://echonet.github.io/dynamic/)\n",
        "\n",
        "Sadržaj: 10,030 ehokardiograma snimljenih između 2016. i 2018. u sveučilišnoj bolnici sveučilišta Stanford. Snimke su rezolucije 112 x 112 piksela.\n",
        "\n",
        "\n"
      ],
      "metadata": {
        "id": "W_z6KeCjA6mc"
      }
    },
    {
      "cell_type": "code",
      "execution_count": null,
      "metadata": {
        "id": "EyHYinzMANNp",
        "colab": {
          "base_uri": "https://localhost:8080/"
        },
        "outputId": "27fef38f-a970-465a-ea6f-3d84db08ff6f"
      },
      "outputs": [
        {
          "output_type": "stream",
          "name": "stdout",
          "text": [
            "Mounted at /content/drive/\n"
          ]
        }
      ],
      "source": [
        "#@title Default title text\n",
        "from google.colab import drive\n",
        "drive.mount('/content/drive/', force_remount=True)\n"
      ]
    },
    {
      "cell_type": "code",
      "source": [
        "!ls '/content/drive/My Drive/EchoNet-Dynamic'"
      ],
      "metadata": {
        "colab": {
          "base_uri": "https://localhost:8080/"
        },
        "id": "hiekYjyrj9kZ",
        "outputId": "8ebec58c-b318-4684-ce3a-c7d1e00a0b9e"
      },
      "execution_count": null,
      "outputs": [
        {
          "output_type": "stream",
          "name": "stdout",
          "text": [
            "FileList.csv  Videos  VolumeTracings.csv\n"
          ]
        }
      ]
    },
    {
      "cell_type": "markdown",
      "source": [
        "## Upute\n",
        "### Import python modula\n",
        "**All the cells in the notebook have the same access to all the variables you generated within a session. You have to import the libraries you use only once, and you don't have to import anything else. You can just run your cells linearly. The variables/functions/classes you use must just be defined before you use them, just like a regular python script.**\n",
        "### Import python skripti kao modula tamo di triba\n",
        "Najbolje koristi princip iz ovog [videa](https://www.youtube.com/watch?v=YP6APKLRf58) da ih ucitamo na luksicev google drive i importamo otud ko trenutno u kodu"
      ],
      "metadata": {
        "id": "iFZ5AG24HVPs"
      }
    },
    {
      "cell_type": "code",
      "source": [
        "!cp -r '/content/drive/My Drive/dynamic' dynamic"
      ],
      "metadata": {
        "id": "551fsfUQk2uE"
      },
      "execution_count": null,
      "outputs": []
    },
    {
      "cell_type": "code",
      "source": [
        "\n",
        "!pip install '/content/dynamic' \n"
      ],
      "metadata": {
        "id": "boaAfq7QMDwg",
        "colab": {
          "base_uri": "https://localhost:8080/"
        },
        "outputId": "a7245a6e-ded3-4b75-e9a2-99a89fb6f0f4"
      },
      "execution_count": null,
      "outputs": [
        {
          "output_type": "stream",
          "name": "stdout",
          "text": [
            "Looking in indexes: https://pypi.org/simple, https://us-python.pkg.dev/colab-wheels/public/simple/\n",
            "Processing ./dynamic\n",
            "\u001b[33m  DEPRECATION: A future pip version will change local packages to be built in-place without first copying to a temporary directory. We recommend you use --use-feature=in-tree-build to test your packages with this new behavior before it becomes the default.\n",
            "   pip 21.3 will remove support for this functionality. You can find discussion regarding this at https://github.com/pypa/pip/issues/7555.\u001b[0m\n",
            "Requirement already satisfied: click in /usr/local/lib/python3.7/dist-packages (from echonet==1.0.0) (7.1.2)\n",
            "Requirement already satisfied: numpy in /usr/local/lib/python3.7/dist-packages (from echonet==1.0.0) (1.21.6)\n",
            "Requirement already satisfied: pandas in /usr/local/lib/python3.7/dist-packages (from echonet==1.0.0) (1.3.5)\n",
            "Requirement already satisfied: torch in /usr/local/lib/python3.7/dist-packages (from echonet==1.0.0) (1.11.0+cu113)\n",
            "Requirement already satisfied: torchvision in /usr/local/lib/python3.7/dist-packages (from echonet==1.0.0) (0.12.0+cu113)\n",
            "Requirement already satisfied: opencv-python in /usr/local/lib/python3.7/dist-packages (from echonet==1.0.0) (4.1.2.30)\n",
            "Requirement already satisfied: scikit-image in /usr/local/lib/python3.7/dist-packages (from echonet==1.0.0) (0.18.3)\n",
            "Requirement already satisfied: tqdm in /usr/local/lib/python3.7/dist-packages (from echonet==1.0.0) (4.64.0)\n",
            "Requirement already satisfied: sklearn in /usr/local/lib/python3.7/dist-packages (from echonet==1.0.0) (0.0)\n",
            "Requirement already satisfied: pytz>=2017.3 in /usr/local/lib/python3.7/dist-packages (from pandas->echonet==1.0.0) (2022.1)\n",
            "Requirement already satisfied: python-dateutil>=2.7.3 in /usr/local/lib/python3.7/dist-packages (from pandas->echonet==1.0.0) (2.8.2)\n",
            "Requirement already satisfied: six>=1.5 in /usr/local/lib/python3.7/dist-packages (from python-dateutil>=2.7.3->pandas->echonet==1.0.0) (1.15.0)\n",
            "Requirement already satisfied: tifffile>=2019.7.26 in /usr/local/lib/python3.7/dist-packages (from scikit-image->echonet==1.0.0) (2021.11.2)\n",
            "Requirement already satisfied: imageio>=2.3.0 in /usr/local/lib/python3.7/dist-packages (from scikit-image->echonet==1.0.0) (2.4.1)\n",
            "Requirement already satisfied: scipy>=1.0.1 in /usr/local/lib/python3.7/dist-packages (from scikit-image->echonet==1.0.0) (1.4.1)\n",
            "Requirement already satisfied: PyWavelets>=1.1.1 in /usr/local/lib/python3.7/dist-packages (from scikit-image->echonet==1.0.0) (1.3.0)\n",
            "Requirement already satisfied: networkx>=2.0 in /usr/local/lib/python3.7/dist-packages (from scikit-image->echonet==1.0.0) (2.6.3)\n",
            "Requirement already satisfied: pillow!=7.1.0,!=7.1.1,>=4.3.0 in /usr/local/lib/python3.7/dist-packages (from scikit-image->echonet==1.0.0) (7.1.2)\n",
            "Requirement already satisfied: matplotlib!=3.0.0,>=2.0.0 in /usr/local/lib/python3.7/dist-packages (from scikit-image->echonet==1.0.0) (3.2.2)\n",
            "Requirement already satisfied: pyparsing!=2.0.4,!=2.1.2,!=2.1.6,>=2.0.1 in /usr/local/lib/python3.7/dist-packages (from matplotlib!=3.0.0,>=2.0.0->scikit-image->echonet==1.0.0) (3.0.9)\n",
            "Requirement already satisfied: kiwisolver>=1.0.1 in /usr/local/lib/python3.7/dist-packages (from matplotlib!=3.0.0,>=2.0.0->scikit-image->echonet==1.0.0) (1.4.3)\n",
            "Requirement already satisfied: cycler>=0.10 in /usr/local/lib/python3.7/dist-packages (from matplotlib!=3.0.0,>=2.0.0->scikit-image->echonet==1.0.0) (0.11.0)\n",
            "Requirement already satisfied: typing-extensions in /usr/local/lib/python3.7/dist-packages (from kiwisolver>=1.0.1->matplotlib!=3.0.0,>=2.0.0->scikit-image->echonet==1.0.0) (4.1.1)\n",
            "Requirement already satisfied: scikit-learn in /usr/local/lib/python3.7/dist-packages (from sklearn->echonet==1.0.0) (1.0.2)\n",
            "Requirement already satisfied: threadpoolctl>=2.0.0 in /usr/local/lib/python3.7/dist-packages (from scikit-learn->sklearn->echonet==1.0.0) (3.1.0)\n",
            "Requirement already satisfied: joblib>=0.11 in /usr/local/lib/python3.7/dist-packages (from scikit-learn->sklearn->echonet==1.0.0) (1.1.0)\n",
            "Requirement already satisfied: requests in /usr/local/lib/python3.7/dist-packages (from torchvision->echonet==1.0.0) (2.23.0)\n",
            "Requirement already satisfied: certifi>=2017.4.17 in /usr/local/lib/python3.7/dist-packages (from requests->torchvision->echonet==1.0.0) (2022.6.15)\n",
            "Requirement already satisfied: idna<3,>=2.5 in /usr/local/lib/python3.7/dist-packages (from requests->torchvision->echonet==1.0.0) (2.10)\n",
            "Requirement already satisfied: urllib3!=1.25.0,!=1.25.1,<1.26,>=1.21.1 in /usr/local/lib/python3.7/dist-packages (from requests->torchvision->echonet==1.0.0) (1.24.3)\n",
            "Requirement already satisfied: chardet<4,>=3.0.2 in /usr/local/lib/python3.7/dist-packages (from requests->torchvision->echonet==1.0.0) (3.0.4)\n",
            "Building wheels for collected packages: echonet\n",
            "  Building wheel for echonet (setup.py) ... \u001b[?25l\u001b[?25hdone\n",
            "  Created wheel for echonet: filename=echonet-1.0.0-py3-none-any.whl size=21182 sha256=ef8df364a0a242a021c52cb579b46c08fb2a5e138db2b7c8c1667a11ce8c98d9\n",
            "  Stored in directory: /tmp/pip-ephem-wheel-cache-7qp3r_y3/wheels/ff/e9/32/ccda2a834131021715637595ea02fb68326ecdc53018cb41b6\n",
            "Successfully built echonet\n",
            "Installing collected packages: echonet\n",
            "Successfully installed echonet-1.0.0\n"
          ]
        }
      ]
    },
    {
      "cell_type": "code",
      "source": [
        "%load_ext autoreload\n",
        "%autoreload 2"
      ],
      "metadata": {
        "id": "FJ-y5HK_jRZd"
      },
      "execution_count": null,
      "outputs": []
    },
    {
      "cell_type": "code",
      "source": [
        "import echonet\n",
        "echonet"
      ],
      "metadata": {
        "colab": {
          "base_uri": "https://localhost:8080/"
        },
        "id": "iAw2f3I8mFg4",
        "outputId": "2fce3eb9-f78e-4e53-bde8-3e9808c88e77"
      },
      "execution_count": null,
      "outputs": [
        {
          "output_type": "execute_result",
          "data": {
            "text/plain": [
              "<module 'echonet' from '/usr/local/lib/python3.7/dist-packages/echonet/__init__.py'>"
            ]
          },
          "metadata": {},
          "execution_count": 6
        }
      ]
    },
    {
      "cell_type": "code",
      "source": [
        "!nvidia-smi"
      ],
      "metadata": {
        "colab": {
          "base_uri": "https://localhost:8080/"
        },
        "id": "hENSbhWs03o3",
        "outputId": "09b9fa13-c881-4d65-b6bd-ecc5a6b2f12f"
      },
      "execution_count": null,
      "outputs": [
        {
          "output_type": "stream",
          "name": "stdout",
          "text": [
            "Mon Jun 20 10:22:33 2022       \n",
            "+-----------------------------------------------------------------------------+\n",
            "| NVIDIA-SMI 460.32.03    Driver Version: 460.32.03    CUDA Version: 11.2     |\n",
            "|-------------------------------+----------------------+----------------------+\n",
            "| GPU  Name        Persistence-M| Bus-Id        Disp.A | Volatile Uncorr. ECC |\n",
            "| Fan  Temp  Perf  Pwr:Usage/Cap|         Memory-Usage | GPU-Util  Compute M. |\n",
            "|                               |                      |               MIG M. |\n",
            "|===============================+======================+======================|\n",
            "|   0  Tesla P100-PCIE...  Off  | 00000000:00:04.0 Off |                    0 |\n",
            "| N/A   39C    P0    27W / 250W |      0MiB / 16280MiB |      0%      Default |\n",
            "|                               |                      |                  N/A |\n",
            "+-------------------------------+----------------------+----------------------+\n",
            "                                                                               \n",
            "+-----------------------------------------------------------------------------+\n",
            "| Processes:                                                                  |\n",
            "|  GPU   GI   CI        PID   Type   Process name                  GPU Memory |\n",
            "|        ID   ID                                                   Usage      |\n",
            "|=============================================================================|\n",
            "|  No running processes found                                                 |\n",
            "+-----------------------------------------------------------------------------+\n"
          ]
        }
      ]
    },
    {
      "cell_type": "code",
      "source": [
        "!zip -r ./output.zip ./output/"
      ],
      "metadata": {
        "id": "C5u6tJJx9bhH"
      },
      "execution_count": null,
      "outputs": []
    },
    {
      "cell_type": "code",
      "source": [
        "!echonet segmentation --model_name=\"deeplabv3_resnet50\" --num_epochs=200 --output=\"output/training_size/segmentation/256\" --num_train_patients=256 --run_test --save_video --data_dir='/content/drive/My Drive/EchoNet-Dynamic'"
      ],
      "metadata": {
        "colab": {
          "base_uri": "https://localhost:8080/"
        },
        "id": "cS5roiSU0foS",
        "outputId": "b18ee311-69bb-4bf5-ab42-4e9360b71c15"
      },
      "execution_count": null,
      "outputs": [
        {
          "output_type": "stream",
          "name": "stdout",
          "text": [
            "/usr/local/lib/python3.7/dist-packages/torch/utils/data/dataloader.py:490: UserWarning: This DataLoader will create 4 worker processes in total. Our suggested max number of worker in current system is 2, which is smaller than what this DataLoader is going to create. Please be aware that excessive worker creation might get DataLoader running slow or even freeze, lower the worker number to avoid potential slowness/freeze if necessary.\n",
            "  cpuset_checked))\n",
            "100% 16/16 [00:56<00:00,  3.56s/it]\n",
            "Epoch #0\n",
            "100% 12/12 [00:19<00:00,  1.66s/it, 0.5820 (0.2623) / 0.3128 0.1435, 0.0375, 0.0380]\n",
            "100% 65/65 [01:21<00:00,  1.26s/it, 2231.1632 (2963.8004) / 0.3145 0.1385, 0.0000, 0.0000]\n",
            "Epoch #1\n",
            "100% 12/12 [00:17<00:00,  1.49s/it, 0.2719 (0.2637) / 0.3125 0.1425, 0.0000, 0.0000]\n",
            "100% 65/65 [01:19<00:00,  1.22s/it, 5.5341 (4.0112) / 0.3145 0.1385, 0.0000, 0.0000]\n",
            "Epoch #2\n",
            "100% 12/12 [00:17<00:00,  1.45s/it, 0.2099 (0.1661) / 0.3126 0.1425, 0.0540, 0.0435]\n",
            "100% 65/65 [01:21<00:00,  1.25s/it, 0.3834 (0.3948) / 0.3145 0.1385, 0.2831, 0.4050]\n",
            "Epoch #3\n",
            "100% 12/12 [00:16<00:00,  1.38s/it, 0.1598 (0.1256) / 0.3132 0.1429, 0.5810, 0.6675]\n",
            "100% 65/65 [01:19<00:00,  1.22s/it, 0.1430 (0.1528) / 0.3145 0.1385, 0.6631, 0.7551]\n",
            "Epoch #4\n",
            "100% 12/12 [00:16<00:00,  1.41s/it, 0.1299 (0.1140) / 0.3134 0.1430, 0.6685, 0.7355]\n",
            "100% 65/65 [01:19<00:00,  1.22s/it, 0.1180 (0.1539) / 0.3145 0.1385, 0.6782, 0.7452]\n",
            "Epoch #5\n",
            "100% 12/12 [00:17<00:00,  1.46s/it, 0.1122 (0.1031) / 0.3135 0.1424, 0.7153, 0.7735]\n",
            "100% 65/65 [01:21<00:00,  1.25s/it, 0.1048 (0.1187) / 0.3145 0.1385, 0.7389, 0.7873]\n",
            "Epoch #6\n",
            "100% 12/12 [00:17<00:00,  1.43s/it, 0.1025 (0.0939) / 0.3121 0.1422, 0.7299, 0.7888]\n",
            "100% 65/65 [01:18<00:00,  1.21s/it, 0.1035 (0.1164) / 0.3145 0.1385, 0.7236, 0.8332]\n",
            "Epoch #7\n",
            "100% 12/12 [00:16<00:00,  1.39s/it, 0.0956 (0.0895) / 0.3112 0.1416, 0.7457, 0.8176]\n",
            "100% 65/65 [01:19<00:00,  1.22s/it, 0.0950 (0.0962) / 0.3145 0.1385, 0.7453, 0.7905]\n",
            "Epoch #8\n",
            "100% 12/12 [00:17<00:00,  1.42s/it, 0.0891 (0.0802) / 0.3133 0.1435, 0.7684, 0.8168]\n",
            "100% 65/65 [01:21<00:00,  1.26s/it, 0.0890 (0.0915) / 0.3145 0.1385, 0.7679, 0.8418]\n",
            "Epoch #9\n",
            "100% 12/12 [00:17<00:00,  1.43s/it, 0.0819 (0.0782) / 0.3123 0.1435, 0.7861, 0.8355]\n",
            "100% 65/65 [01:20<00:00,  1.24s/it, 0.0895 (0.0858) / 0.3145 0.1385, 0.7674, 0.8515]\n",
            "Epoch #10\n",
            "100% 12/12 [00:17<00:00,  1.43s/it, 0.0796 (0.0792) / 0.3106 0.1429, 0.7891, 0.8373]\n",
            "100% 65/65 [01:22<00:00,  1.26s/it, 0.0802 (0.1788) / 0.3145 0.1385, 0.7892, 0.8387]\n",
            "Epoch #11\n",
            "100% 12/12 [00:17<00:00,  1.42s/it, 0.0782 (0.0682) / 0.3136 0.1424, 0.7921, 0.8496]\n",
            "100% 65/65 [01:19<00:00,  1.22s/it, 0.0785 (0.0627) / 0.3145 0.1385, 0.8004, 0.8382]\n",
            "Epoch #12\n",
            "100% 12/12 [00:16<00:00,  1.38s/it, 0.0740 (0.0719) / 0.3141 0.1432, 0.8057, 0.8596]\n",
            "100% 65/65 [01:19<00:00,  1.22s/it, 0.0819 (0.0620) / 0.3145 0.1385, 0.7997, 0.8302]\n",
            "Epoch #13\n",
            "100% 12/12 [00:17<00:00,  1.44s/it, 0.0685 (0.0738) / 0.3122 0.1434, 0.8141, 0.8687]\n",
            "100% 65/65 [01:21<00:00,  1.26s/it, 0.0785 (0.0601) / 0.3145 0.1385, 0.7899, 0.8339]\n",
            "Epoch #14\n",
            "100% 12/12 [00:16<00:00,  1.41s/it, 0.0655 (0.0650) / 0.3132 0.1428, 0.8287, 0.8703]\n",
            "100% 65/65 [01:19<00:00,  1.22s/it, 0.0765 (0.0694) / 0.3145 0.1385, 0.8085, 0.8653]\n",
            "Epoch #15\n",
            "100% 12/12 [00:16<00:00,  1.39s/it, 0.0625 (0.0627) / 0.3120 0.1420, 0.8325, 0.8749]\n",
            "100% 65/65 [01:19<00:00,  1.22s/it, 0.0792 (0.0707) / 0.3145 0.1385, 0.7948, 0.8673]\n",
            "Epoch #16\n",
            "100% 12/12 [00:16<00:00,  1.41s/it, 0.0605 (0.0615) / 0.3112 0.1426, 0.8346, 0.8842]\n",
            "100% 65/65 [01:22<00:00,  1.26s/it, 0.0710 (0.0891) / 0.3145 0.1385, 0.8289, 0.8645]\n",
            "Epoch #17\n",
            "100% 12/12 [00:17<00:00,  1.45s/it, 0.0567 (0.0550) / 0.3128 0.1426, 0.8498, 0.8883]\n",
            "100% 65/65 [01:20<00:00,  1.24s/it, 0.0675 (0.0523) / 0.3145 0.1385, 0.8240, 0.8795]\n",
            "Epoch #18\n",
            "100% 12/12 [00:17<00:00,  1.46s/it, 0.0574 (0.0480) / 0.3126 0.1419, 0.8428, 0.8886]\n",
            "100% 65/65 [01:21<00:00,  1.25s/it, 0.0705 (0.0617) / 0.3145 0.1385, 0.8143, 0.8590]\n",
            "Epoch #19\n",
            "100% 12/12 [00:19<00:00,  1.61s/it, 0.0607 (0.0706) / 0.3123 0.1426, 0.8341, 0.8824]\n",
            "100% 65/65 [01:20<00:00,  1.24s/it, 0.0651 (0.0934) / 0.3145 0.1385, 0.8352, 0.8849]\n",
            "Epoch #20\n",
            "100% 12/12 [00:17<00:00,  1.47s/it, 0.0562 (0.0598) / 0.3129 0.1420, 0.8466, 0.8924]\n",
            " 26% 17/65 [00:24<01:09,  1.45s/it, 0.0716 (0.0645) / 0.3136 0.1442, 0.8205, 0.8530]"
          ]
        }
      ]
    },
    {
      "cell_type": "code",
      "source": [
        "#@title Imports -> stavit sve importe ako nisu vec navedeni\n",
        "\n",
        "import math\n",
        "import os\n",
        "import time\n",
        "import collections\n",
        "import pandas\n",
        "\n",
        "import click\n",
        "import matplotlib.pyplot as plt\n",
        "import numpy as np\n",
        "import scipy.signal\n",
        "import skimage.draw\n",
        "import torch\n",
        "import torchvision\n",
        "import tqdm"
      ],
      "metadata": {
        "id": "Q-lMCrPSI5UO"
      },
      "execution_count": null,
      "outputs": []
    },
    {
      "cell_type": "markdown",
      "source": [
        "Projekt je organiziran u obliku python package-a. Vrhovni modul ***echonet*** se sastoji od datoteka \\_\\_init__.py, \\_\\_main__.py, \\_\\_version__.py, config.py i submodula ***datasets*** i ***utils***. Submodul ***datasets*** sadrži datoteke \\_\\_init__.py i echo.py, a submodul ***utils*** \\_\\_init__.py, segmentation.py i video.py. Cijelu strukturu modula echonet je moguće prikazati na sljedeći način:<br>\n",
        "<li>echonet</li>\n",
        "<ul>\n",
        "<li>__init__.py</li>\n",
        "<li>__main__.py</li>\n",
        "<li>__version__.py</li>\n",
        "<li>config.py</li>\n",
        "<li>datasets\n",
        "<ul>\n",
        "<li>__init__.py</li>\n",
        "<li>echo.py</li>\n",
        "</ul>\n",
        "</li>\n",
        "<li>utils\n",
        "<ul>\n",
        "<li>__init__.py</li>\n",
        "<li>segmentation.py</li>\n",
        "<li>video.py</li>\n",
        "</ul>\n",
        "</li>\n",
        "</ul>\n",
        "<br>\n",
        "Datoteka __init__.py se koristi kako bi se naznačilo da se direktorij koristi kao python package. Poziva se pri importanju modula, a obično se koristi za inicijalizaciju package-a. Datoteka __main__.py predstavlja sučelje package-a prema komandnoj liniji, odnosno ta datoteka se automatski izvršava pri pozivu package-a kao skripte iz terminala, dok datoteka __version__.py daje informaciju o trenutnoj verziji.\n",
        "\n"
      ],
      "metadata": {
        "id": "WLDTu_blK5xN"
      }
    },
    {
      "cell_type": "markdown",
      "source": [
        "## segmentation.py"
      ],
      "metadata": {
        "id": "k8YXI0naIz1l"
      }
    },
    {
      "cell_type": "markdown",
      "source": [
        "Datoteka segmentation.py započinje importanjem potrebnih modula među kojima je zanimljiv modul ***click***. Ovaj modul omogućava kreiranje sučelja prema komandnoj liniji na brz i jednostavan način. Omogućava ugnježivanje naredbi, učitavanje podnaredbi tijekom izvođenja i automatsko generiranje *help* stranice. Naredba @click.command() definira ime naredbe kojom se skripta u terminalu poziva, @click.option() definira argumente koje je moguće proslijediti skripti prilikom pokretanja. Parametar *default* određuje vrijednost argumenta kada ona nije definirana pri pozivu, dok parametar *type* određuje tip vrijednosti koju taj argument prima."
      ],
      "metadata": {
        "id": "Aj3qGGAlZM1d"
      }
    },
    {
      "cell_type": "code",
      "source": [
        "import math\n",
        "import os\n",
        "import time\n",
        "\n",
        "import click\n",
        "import matplotlib.pyplot as plt\n",
        "import numpy as np\n",
        "import scipy.signal\n",
        "import skimage.draw\n",
        "import torch\n",
        "import torchvision\n",
        "import tqdm\n",
        "\n",
        "import echonet\n",
        "\n",
        "\n",
        "@click.command(\"segmentation\")\n",
        "@click.option(\"--data_dir\", type=click.Path(exists=True, file_okay=False), default=None)\n",
        "@click.option(\"--output\", type=click.Path(file_okay=False), default=None)\n",
        "@click.option(\"--model_name\", type=click.Choice(\n",
        "    sorted(name for name in torchvision.models.segmentation.__dict__\n",
        "           if name.islower() and not name.startswith(\"__\") and callable(torchvision.models.segmentation.__dict__[name]))),\n",
        "    default=\"deeplabv3_resnet50\")\n",
        "@click.option(\"--pretrained/--random\", default=False)\n",
        "@click.option(\"--weights\", type=click.Path(exists=True, dir_okay=False), default=None)\n",
        "@click.option(\"--run_test/--skip_test\", default=False)\n",
        "@click.option(\"--save_video/--skip_video\", default=False)\n",
        "@click.option(\"--num_epochs\", type=int, default=50)\n",
        "@click.option(\"--lr\", type=float, default=1e-5)\n",
        "@click.option(\"--weight_decay\", type=float, default=0)\n",
        "@click.option(\"--lr_step_period\", type=int, default=None)\n",
        "@click.option(\"--num_train_patients\", type=int, default=None)\n",
        "@click.option(\"--num_workers\", type=int, default=4)\n",
        "@click.option(\"--batch_size\", type=int, default=20)\n",
        "@click.option(\"--device\", type=str, default=None)\n",
        "@click.option(\"--seed\", type=int, default=0)"
      ],
      "metadata": {
        "id": "s4nKaU-BbUvJ"
      },
      "execution_count": null,
      "outputs": []
    },
    {
      "cell_type": "markdown",
      "source": [
        "Metoda **run** obavlja ...\n",
        "Ona prima argumente:\n",
        "- **data_dir** koji prima putanju direktorija u kojem se nalazi dataset\n",
        "-*output* kojom je definirana putanja direktorija u kojem će se spremiti izlazni podaci\n",
        "- **model_name** definira model koji će se koristiti za segmentaciju\n",
        "- **pretrained** određuje hoće li model koristiti pretrenirane težine\n",
        "- **weights** predstavlja putanju do direktorija u kojem se nalaze inicijalizacijske težine modela\n",
        "- **run_test** određuje hoćemo li nad modelom provesti test\n",
        "- **save_video** hoćemo li spremiti segmentirani video\n",
        "- **num_epochs** definira broj epoha koji će se izvršiti pri treniranju modela\n",
        "- **lr** definira vrijednost parametra *Learning rate* u algoritmu učenja *Stochastic Gradient Descent*. Taj parametar određuje intenzitet kojim se mijenjaju težine modela u svakom koraku učenja\n",
        "- **weight_decay** je dodatni parametar koji definira eksponencijalno opadanje promjena težina prema nuli\n",
        "- **lr_step_period** predstavlja period u kojem dolazi do opadanja parametra *learning rate*, defaultne vrijednosti jednake beskonačnosti\n",
        "- **num_workers** je broj podprocesa koji učitavaju podatke, *batch_size* broj uzoraka po *batchu*\n",
        "- **device** definira uređaj na kojem se izvršava skripta."
      ],
      "metadata": {
        "id": "0HawAXyjbabd"
      }
    },
    {
      "cell_type": "code",
      "source": [
        "def run(\n",
        "    data_dir=None,\n",
        "    output=None,\n",
        "\n",
        "    model_name=\"deeplabv3_resnet50\",\n",
        "    pretrained=False,\n",
        "    weights=None,\n",
        "\n",
        "    run_test=False,\n",
        "    save_video=False,\n",
        "    num_epochs=50,\n",
        "    lr=1e-5,\n",
        "    weight_decay=1e-5,\n",
        "    lr_step_period=None,\n",
        "    num_train_patients=None,\n",
        "    num_workers=4,\n",
        "    batch_size=20,\n",
        "    device=None,\n",
        "    seed=0,\n",
        "):"
      ],
      "metadata": {
        "id": "a9Uz-5Mxb-O2"
      },
      "execution_count": null,
      "outputs": []
    },
    {
      "cell_type": "markdown",
      "source": [
        "Na samom početku metode *run* se resetiraju generatori slučajnih brojeva (postavljanje parametra *seed* na 0). Zatim se metodom *os.path.join()* vrši interakcija sa operacijskim sustavom i stvara jedinstvena izlazna putanja, a metodom *os.makedirs()* se rekurzivno stvara cijelo podstablo direktorija prema navedenoj putanji, Parametar *exist_ok* je postavljen na vrijednost True što označava da se neće prijaviti greška *FileExistsError* ukoliko željeno podstablo već postoji. Sljedećim linijama koda se učitava željeni model iz modula *torchvision* te se vrši postavljanje posljednjeg izlaznog sloja mreže na sloj dvodimenzionalne konvolucije sa jednim izlaznim kanalom. "
      ],
      "metadata": {
        "id": "lGPqD0_UQ0dR"
      }
    },
    {
      "cell_type": "code",
      "source": [
        " # Seed RNGs\n",
        "    np.random.seed(seed)\n",
        "    torch.manual_seed(seed)\n",
        "\n",
        "    # Set default output directory\n",
        "    if output is None:\n",
        "        output = os.path.join(\"output\", \"segmentation\", \"{}_{}\".format(model_name, \"pretrained\" if pretrained else \"random\"))\n",
        "    os.makedirs(output, exist_ok=True)\n",
        "\n",
        "    # Set device for computations\n",
        "    if device is None:\n",
        "        device = torch.device(\"cuda\" if torch.cuda.is_available() else \"cpu\")\n",
        "\n",
        "    # Set up model\n",
        "    model = torchvision.models.segmentation.__dict__[model_name](pretrained=pretrained, aux_loss=False)\n",
        "\n",
        "    model.classifier[-1] = torch.nn.Conv2d(model.classifier[-1].in_channels, 1, kernel_size=model.classifier[-1].kernel_size)  # change number of outputs to 1"
      ],
      "metadata": {
        "id": "i3QvVi1WkMCP"
      },
      "execution_count": null,
      "outputs": []
    },
    {
      "cell_type": "markdown",
      "source": [
        "Ukoliko je to definirano, provjerava li se da li je dostupno postaviti *device* na \"cuda\", ukoliko nije postavlja se na \"cpu\". Ako je \"cuda\", tada se prethodno definirani model paralelizira na najvišem levelu na način da se model dijele na *chunk-ove* dimenzije definirane batch_size-om i replicira na svaki dostupni uređaj gdje svaki dio modela prima odgovarajući dio ulaza. "
      ],
      "metadata": {
        "id": "_ZTfKnRpmuB3"
      }
    },
    {
      "cell_type": "code",
      "source": [
        "if device.type == \"cuda\":\n",
        "        model = torch.nn.DataParallel(model)\n",
        "    model.to(device)"
      ],
      "metadata": {
        "id": "tMcngmhEqd6v"
      },
      "execution_count": null,
      "outputs": []
    },
    {
      "cell_type": "markdown",
      "source": [
        "Program učitava prethodno spremljene težine modela, ukoliko su dostupne, postavlja parametre za optimiziranje treniranja te pomoću metode *get_mean_and_std* iz submodula *utils* računa statističke parametre (srednje grešku i standardnu devijaciju) podataka za treniranje."
      ],
      "metadata": {
        "id": "fEXR0d8Qqp5v"
      }
    },
    {
      "cell_type": "code",
      "source": [
        "if weights is not None:\n",
        "        checkpoint = torch.load(weights)\n",
        "        model.load_state_dict(checkpoint['state_dict'])\n",
        "\n",
        "    # Set up optimizer\n",
        "    optim = torch.optim.SGD(model.parameters(), lr=lr, momentum=0.9, weight_decay=weight_decay)\n",
        "    if lr_step_period is None:\n",
        "        lr_step_period = math.inf\n",
        "    scheduler = torch.optim.lr_scheduler.StepLR(optim, lr_step_period)\n",
        "\n",
        "    # Compute mean and std\n",
        "    mean, std = echonet.utils.get_mean_and_std(echonet.datasets.Echo(root=data_dir, split=\"train\"))"
      ],
      "metadata": {
        "id": "uisg01TxsKx9"
      },
      "execution_count": null,
      "outputs": []
    },
    {
      "cell_type": "markdown",
      "source": [
        "Objekt kwargs je *dictionary* u kojem se pohranjuju key-value parovi koji se prosljeđuju kao parametri metodi *echonet.datasets.Echo* koja vraća odgovarajući *dataset*. Ukoliko je definirani broj pacijenata manji od dužine dataset-a, tada se slučajnim izborom odabire odgovaraući broj uzoraka iz dataseta."
      ],
      "metadata": {
        "id": "r8yBS8R6sNgO"
      }
    },
    {
      "cell_type": "code",
      "source": [
        " tasks = [\"LargeFrame\", \"SmallFrame\", \"LargeTrace\", \"SmallTrace\"]\n",
        "    kwargs = {\"target_type\": tasks,\n",
        "              \"mean\": mean,\n",
        "              \"std\": std\n",
        "              }\n",
        "\n",
        "    # Set up datasets and dataloaders\n",
        "    dataset = {}\n",
        "    dataset[\"train\"] = echonet.datasets.Echo(root=data_dir, split=\"train\", **kwargs)\n",
        "    if num_train_patients is not None and len(dataset[\"train\"]) > num_train_patients:\n",
        "        # Subsample patients (used for ablation experiment)\n",
        "        indices = np.random.choice(len(dataset[\"train\"]), num_train_patients, replace=False)\n",
        "        dataset[\"train\"] = torch.utils.data.Subset(dataset[\"train\"], indices)\n",
        "    dataset[\"val\"] = echonet.datasets.Echo(root=data_dir, split=\"val\", **kwargs)"
      ],
      "metadata": {
        "id": "0M67XUGptx7u"
      },
      "execution_count": null,
      "outputs": []
    },
    {
      "cell_type": "markdown",
      "source": [
        "Iz datoteke *checkpoint.pt*,koja se nalazi u izlaznom direktoriju, se učitavaju parametri modela. Isto tako učitavaju se parametri objekta optim koji na temelju sadašnjih parametara modela računa gradijente i nove vrijednosti parametara. Treba napomenuti da je ovim mehanizmom moguće pojedinačno pokretati epohe treniranja i slijedno ih nastavljati jednu na drugu, pri čemu se u *checkpoint[\"epoch\"]* sprema redni broj prethodno obrađene epohe, a u *checkpoint[\"best_loss\"]* najmanja vrijednost gubitka tokom validacije u bilo kojoj dosadašnjoj epohi. \n",
        "\n",
        "Ukoliko nije moguće učitati sadržaj datoteke *checkpoint.pt*, treniranje modela se pokreće od početne (prve) epohe"
      ],
      "metadata": {
        "id": "zfdsOLGMkSbg"
      }
    },
    {
      "cell_type": "code",
      "source": [
        "with open(os.path.join(output, \"log.csv\"), \"a\") as f:\n",
        "        epoch_resume = 0\n",
        "        bestLoss = float(\"inf\")\n",
        "        try:\n",
        "            # Attempt to load checkpoint\n",
        "            checkpoint = torch.load(os.path.join(output, \"checkpoint.pt\"))\n",
        "            model.load_state_dict(checkpoint['state_dict'])\n",
        "            optim.load_state_dict(checkpoint['opt_dict'])\n",
        "            scheduler.load_state_dict(checkpoint['scheduler_dict'])\n",
        "            epoch_resume = checkpoint[\"epoch\"] + 1\n",
        "            bestLoss = checkpoint[\"best_loss\"]\n",
        "            f.write(\"Resuming from epoch {}\\n\".format(epoch_resume))\n",
        "        except FileNotFoundError:\n",
        "            f.write(\"Starting run from scratch\\n\")"
      ],
      "metadata": {
        "id": "gcq7nIkVnFyT"
      },
      "execution_count": null,
      "outputs": []
    },
    {
      "cell_type": "markdown",
      "source": [
        "Upotrebom for petlje se nastavlja izvršavanje postupka treniranja od trenutno dostignute epohe do krajnje definirane epohe. U svakoj iteraciji petlje se provodi treniranje i validacija modela. Početno odgovarajući dio dataset-a pošalje kao parametar konstruktoru objekta *dataloader* klase *torch.utils.data.DataLoader* čime se omogućuje jednostavan obilazak podataka, što je i detaljno objašnjeno u nastavku teksta. Objekt *dataloader* se kao parametar prosljeđuje metodi *run_epoch* . Na temelju njenih povratnih vrijednosti se računaju parametri ***large_dice***, ***small_dice***, ***overall_dice***.\n",
        "Sasvim općenito, *Dice Coefficient* je parametar koji služi za metriku modela koji obavlja semantičku segmentaciju. Definira se kao postotak pikesela na slici koji su ispravno segmentirani. Promotrimo li primjer na donjoj slici, jasno je da se računa kao omjer dvostrukog broja preklapajućih piksela segmentirane slike i njene maske i ukupnog broja piksela na maski i segmentiranoj slici koji su obuhvaćeni unutar traženog oblika. U našem slučaju definiramo tri *Dice Coefficient-a*:\n",
        "\n",
        "\n",
        "*   **overall_dice**: Definira se aritmetički prosjek *Dice Coefficient-a* za sve ehokardiograme u *dataset-u* i to za *frame-ove* na kojima je srce u  sistoli i za one na kojima je srce u dijastoli\n",
        "*   **large_dice**: Definira se kao aritmetički prosjek *Dice Coefficient-a* za sve ehokardiograme i to za *frame-ove* na kojima je srce u dijastoli\n",
        "*   **small_dice**: Definira se kao aritmetički prosjek *Dice Coefficient-a* za sve ehokardiograme i to za *frame-ove* na kojima je srce u sistoli\n",
        "\n",
        "\n",
        "\n",
        "![dice.png](data:image/png;base64,iVBORw0KGgoAAAANSUhEUgAAAa0AAAF8CAIAAADzVnPqAABDMklEQVR42uz9DVhTZ7b3j68kQMKLJCkC0YqGGcR0RBtFa3ypUqd9BB0fo+0pwZkpME+nQue0QvUZy0xbSo8zQMcp6Mw8UP9tgekcgf6PEqZjiUcL8VQhjqJRsUZkKogvAaTZIC87vCS/a2fHgFatSgJ7J+tz9TIQaNh73Wt/91rrXvu+vaxWKyCIU/noo4+MRuOhQ4fobzs6Oq5du3avXw4PDw8MDASAqVOnPvXUU+vXr58xY4abGUSn0xEEodPp6G/b2toMBsO9flkulwuFQgCQSCQymUwul4tEInQql8JBHUTGSH5+vkajaW9vv3TpUk9Pz9DQ0FidksMRCoVTp04NDg5WKpVJSUnsEgKtVqvT6dra2vR6fbONMX6gSCSSy+UymSw0NDQmJkahUAgEAnQ81EFk4iO+v/3tb6dPnyYI4i4/9g0AQQA8HmH/du4K6p17ce4o9Ng+pPMadHdCb9d3fyUgICA6OlqpVKalpTE24tNoNIcPH9Zqtd/9abSYH8L3mh3oQ387X8wXcDn3+qiG7oHuQQsAtPYPtfYN1ZtIs+XOi1ShUKxatSrGBnoj6iAyfpw5cyYzM/PIkSM3bty47Qc+ApgWCcJgmP8sRMyDJxRj/UsdraD7B1ysh2+NcOnsHcooEokWLVr01ltvLVu2bGINYjQay8rKDhw4oNVqSZJ0vB8V6LMkyDeYz4sW88N8vcP8vMb4h7oGLee6zRd7BjvMw7WdZG1n/+ifxsTErFq1SqVSSaVS9FLUQcQlEASxdevWysrK2+SP5wUh02H+c/DcSyCd7fKD+OwPUP/flCYOjMiNr6+vUql88803586dO54GIUmyrKysvLxco9E43gzz81oS5PtMsO+SIN8QPs/Vx1Dd0VfXSda09zV0DzjelMvlmzZtUiqVEokE/RZ1EHEO27dvLykpaWpqGnkrMAjkz0Dcy04I+h45VFT/GU4ehOvfON6bMmXKCy+88N5777m6jKjRaMrLy8vKyhzR38pgv1USv5XBfmMP+h45VKzp6Kvp6Fdf7XGkz0qlMj4+XqlUYhkRdRB59AAwOTn573//u8ViGcl8FT+BDenjEfo9IL1dUPw2HNsP3Z12V+Zwli9fXlJS4vTpZpIkCwsLc3NzjUajI/P9+YzAOIn/OIR+D4jZYlVf7am81lvd0ecoIGzevDktLQ2nm1EHkTEoIM+LivvWvw7R/4u5B31eR2XNZ7+CoQGHGu7atcspyfIdChjm5xU/bZJyakBEgDdj7dHaN6S+1lN+5WZTz6BDDVNSUjBZRh1EHlIBfQSwNhV+nsmmc/i8AMpyHJMq8+bNKy4ufmQ1vEMBowJ9tkSK4yT+LLJHbWf/jkaCnlQRCAQpKSnbtm1DNUQdRO5ObGzswYMHWayA91ZDhUJRVVX1sIlhTk7Ozp072auA91HDtLS0zMxMrBuiDiIjfPTRR6+//np/v60Pw18IqjcpEXQDjuyDj38DJkrIuFzur3/96+zs7Af5/3Q6XWpqql6vB4AlQb5bI0VLgnzdwB4N3QN/bDRVGXvpx1QKCgqUSiX6P+qgp9PS0rJ69eqvv/4a6Dpg/DZ48f+620ke/Ct88hvo7wGAyZMnl5SUrF69+j6VgYyMjMLCQroOmDtn8spgPzezR73J/M7XN+pNZjoJyMvLk8lkeC2gDnooL7/88ieffGIf+qhlkPGfVDDornzwMny1F2wne680ubi4OD09nSAIPo/z2g9Fr0WI+Pd+3oPtlLR0/97wbdegBdNk1EEP5cyZMytWrLA/DBcYRCngRHUCjicdrfDev0GrAQB8fHz++te/xsfH0z8xGo0JCQn0w3Arg/1y50yeqE7A8aRr0PJ7w7clLd0AIJPJSktL5XI56iDiEeTn52/ZssVisQCXC6oMN0yEHzhNTkhI2LNnj1arTVCpjG1tIXxevjzY/RLhB0yTBQJBXl5eSkoK6iDi5sTExBw+fJj6SiyB9w9CcJgnWqG3C95eC9+cAQChUNjV1QUAcRL//CeDhd5cD7SH2WL93flvd1+i7KBSqQoKCjyz6Rp10MNyYcVP4M2/ebpF/n+/hv27Ke8HSP2h8J0ngjzcHlXG3rTTN7oGhz02R+aiTLh9Ljxv3jxKBHle8KtdKILQcIRzVA0APlyOFeDjS93lrTc93CRxEv9DTz8eLeYbDIbFixcXFxd7mgV47777LoqFu7J9+/Zt27ZRIb9YAjuPwpzlnm6Rk4dgezz0dcdJ/P//iinDVvinidS09dHdgp5sGKE394Vpk/qGrMdu9FZWVtKFFMyLEdbz8ssvf/zxx0B3xmz/BxoEqvfArlcBYGukeEejiX5v55PBvz57w2yxJs4IzJ0zGY1U3nrz1w2d5mFLSkpKQUEB6iDCYtavX69WU9kfLH8B3vgIDQKfF8DHGQCQO2fytrO3rSO7Z5Ek9WR716BFOTVgpzzYjTsHH/R+0dGXerKja3BYpVIVFRV5Qnch6qAbsnjxYvuWQM+9BL/ahQaBT7Ngbx6fx3k/avLm0x3f/fmh5dOer7vWNWhZGexXMD/EM+eOR9PQPfB83fWuweHY2NjS0lK3n0RGHXQ3Zs6caV85deNvPa5D8K7sehWq9/B5nKIFoRuPGe/1W8dXTt+gu9baNxQV6LN38VSUwta+Idogcrm8pqbGvaUQ54vdLRKkRJDDga2foAjaI8HqPUJv7v6lj99HBAFgYfXl/Usfjwr0aegeSD3Z/t2tkTyNMD8v2iB6vT4hIWH0BiyogwhziY2NtafDr+6EZRvQILA3j06H9zw15dn/ufK9vz73YMvexVPD/LyqO/pSTraj/UL4PNogGo0mISEBdRBhOi+//PKBAwfs6fBzL6FBoHoPfJpFp8Nrjl59wP9p1oHmfYqpIXxelbH3jukUz0TozaUMIvBSq9Wpqamogwhz2b59u71F5rmXMB0Guk/Q1iLzftTk+6fDd02Q9yyaIvTmlrR0O9prPDxB3vOUROjNKywsdNd2Y5wncQcRfPvttwGfmRslgpzsn1oHze/NDnrnXOejfca+xVMSjhnNFmvunMmJMwLRqLWd/Qn/bDMPWwoKCtxvRQbUQXZz5MiR5cuXU4OIzdI07Zch/Wno7RrdLP1oFC0ITT7Rxudy9i2eGi3mo2mrjL3JJ9oEfH6NVqtQKFAHEUZAEERYWFhPTw+IJVBkQIPAAAlvr4ULx+Mk/vQa9GOEFtMwP69DT0/DThoA2NFo2tFokkqlp06dcqdOGhxaFrNy5UpKBHle8P5BtAbQXTIXjof5eeU/Geysy35JkG9r31Da3bqvPZCtkeIlQb7Nzc3JycnudF6og2wlIyPj1KlT1FcpH3joYoJ3cGw/fF7A53EK54XOOtDsrE8tnB9CTx/Ti/QhtEHUanV+fj7mxchEMlIWxLkRmltlwbHMjdyLfYunbKi7joVCB7Wd/RvqrrtToRB1kJVMmjQJy4K3se05J5YF75oPYqHwjoqBOxUKcUTZx/r167EseBufFzi3LHjXy54uFP7e8C3ae3ShMCMjww1OB3WQZZw5c8a+oJbyNSwLUpja4K/vAsB7PwpyYlnwuxTOD+FzOSUt3Q3dA2h1u0F4nMLCQnrbe9RBZPxYu3Yt0Hst/TwTrUHxyW9g0Bwn8U8+0ebSvzP3YMvWSDEApOnx0WOgnz7eOpMyiBvMHaMOson8/PzLly9TX2XuRWuAbbMR+Govn8cZn6WkX/mBMCLAu6F7AOeORxtEr9ezfe4Y50lYA0EQoaGhAwMDMO/HqINAd02/sRyuNP5W9tjvxqtst2eRZOMxo9Cb+1VMWAifh4NQ3dG38ZhRJBKdP39eIpFgPIi4FpVKRYmgjwC2foLWAHp65EpjVKDPKz8Qjtvf3HjMGCfx7xq0OL07h6WsDPaLk/gTBJGeno55MeJazpw5Y19W6+eZ4C9Eg4CpDcpyAOC92UEzvrg0nn85d85kPpejvtaDEyYjBuFxysrK2DthgjrIDpKSkoCeHlmbitag2JdPT49sqLs+zn957sEWegWaP+KqXDZC+LzE6ZRBsrKyUAcRV0EQhP1Ou2EzWgPoymD1HgD4ZfjErIj17xEiPpdTZezFkHDEIDyOWq1maUiIOsgCkpOTrVYr+AgwGLRzoAh6u6ICfcY/GMSQ0C1DQtRBFgSDf//736mvUAQdweC+fADYYuvmm8gICENCdwkJUQdZEAxaLBYqGMTGaUcwaGqLCvRxdeM0hoSeExKiDmIwiMHgWEPC1r4hHJlbISFXrVY3NzejDiJOIzc3lwoGeV4YDNo59SWY2sL8vCY2GHSEhHESfwAov3ITR4YOCeNC/QCguLgYdRBxGnv27KFenlCgKewc2QcA8dMmMeRwXgwLAAD1tR4cmdEGKS8vRx1EnENLS4v9aeKfvoXWoOjtAt0/GKWDG48ZQ/i8pp7BepMZx4d+vCSEzzMYDDqdDnUQcQL2ld18AzAetPPVXhg0R4v5C6svM+eglFOpCOgzTI1vN0hJSQnqIOIEqqqqqJeFsWiK0Unxi4wJBmnWTbWnxmYLLlkyYpCysjKSJFEHkbFd8keOEAQB9APFCL0DScMRPpdDhxvMYc3RqxEB3l2Dlur2PhwlAIgW8yMCvAmC0Gg0qIPImNi+fTv1EhyGi06PJMUAcRJ/ly46PZZMsPJaL47SaIOwaLYEdZChHDt2jHpZ/gKaws6pL205lz8DDy3W1j1T04Hx4G0GwXgQGROEDZtD/QKtAXT79IXjALAkyJeBR/fs/1wJ4fO6Bi34jB1NVKBPCJ83sj4I6iDyCNjbUH0EmBTbaTwBg+aoQB8GJsU0z4T40Rv74liNNohWq0UdRB4R+4500yLRFHYajjA2GKRZ8piAygSNmBrfZpDKykrUQeQROX36tO2WmoCmGK2DsRI/5l72No2uN5HYPTPaIDqdjhXdM6iDjGOkOLhyI1oDbhUH+VxOtFjA2GNcWH05zM/LbLHWm0gcMQAI8/MK8/MiSZIVD5agDjIOe3HQX4j7kNixFQejxYJx3ofkYVkZTJcIUQdvMwgrSoSog4zD3m2AxUEHtpniaDGf4Ye5OIgKV8/hlPHtBrEXeVAHkYfi/Pnz1EvEfDSFneYGAJgd6MPww4wIoI6wtW8QR2y0QVixFiHqIOP49lvbluRPLEJT2Gm/7LiomMzMAG8AuNiDOnibQQwGA+og8tD09toez5q1EE1h50ojAIT5ejH8MGd8cSmEzzNbrLg8NQ2fywnh80iSZH5IiDrILM6cOWO1WoHLxQ5qO6Y26O0K4fMY20E9mqhAPhUS9mKJ8DaDMD8kRB1kFvbdSALEaAo7l846LifmE2HLBDEevMMgGA8iD8fXX39NvQiD0RR2bMXBMD8vVhzsNNtx/gtLhLcb5MKFC6iD96apauempUs5dpYu3VTV5Ol+Y88gHo/AS8jO1YsA8ENbWMGW8KcJdfB2g2BefG+qNi2duTptd23trTdqa3evnsnZVOXRfnPzpm1590mP4SVkp7eLio+92JG4CLgcACDx0bo7DML4R+smyL2adi5dvbv2bj/ZvXrpzib0H4SVhPC90AhsNMjE6GDVH9JuieCS/ItWq9V68Yv8Jbfiws/2e64Q3rhxg3qZ/gReQnZYVR/k28Kf1n7Mi28zCM6T3D0abGxwqGDJZlspLCJuc8ktJXSCEDbtdJQdb0u0qzY5qpEYdSIIMoE6ePFrezS45MU1d5sQiIoc6zRBxIiq7l7tUMKqTat336G/TMNstm2DKw5F17Rjqw8GevPYkQYKqOPsHrTguI02iH39JNTB24n70EpzdLQYjajjj2aO/W9EbD76xSujldBWkqTfeOWLo5sZOiE7OGhLqYKm4iU0WgfZMk9Cr4jThTp4e16MOvgQmez23fcNEh9FbkeUcOnSxFslyVe++DAOHRRBEKbpYNWmmQ6Zest5sdqIEtbWskoFfSeha94WVvA4aATEvXVwVMbqdJkaUUJWxYL9N9E1R2Mexo48xJ11sGlUKLgk/6Knp6ze3rYHJ/q60TXt2BblZsumHy2rwx1FMcQxcAKBAHXwe0RwVCjogtmLkSliG6MmjxmaAPJtCwpc+xdeQqN1sN3MjpUL2slhxyQp4jCIRCJBHbyPRo0WQVeEgqMaZZYsYYUSennhAwm34yNAGyBuq4NVmzgOEbTlwxEuVMFXvjh69G4NhcxDJBJRL8ZmdM1bFgmxxYPD7Ah/bMcZwsd48DaDYDx4L4VaOjpdrU2byRmNM571uK1dkAo1b2soZPrTJAP9eAmNhi3zJGaLxVYfxOXsbjMI1gfvpVC1rv4bd2sXHNVGk5bITCV8/PHHbe7Th5eQnZDpLFrBhT5OAc6T3GEQ1MHv4nhuZJxVkBVKKBbbVqK27ciBwK15ErasbEqvRM2WVSHGzSBSqZThxzkBAxb3odX6oUv/QsTmo9bNE/bXx0R0dLRarYYbV/ESuhUhz2TRyqa0XrNl1dhxM8isWbMwHkQegpiYGOqlD/uob2Hbz/4yS1ayau0fYsXWeuNsEObHg6iDzGLZsmXUy9AAvb4AAiHTwUfQ1DNItygznIs9A7Z9e31w3EYbRCaToQ4iD4evry/1cupLNMXo1JgV+6PT+XsE5sW3GwR1EHlo7C2Etv0qEbg1Zdzax3QdPBIThiLIRhFEHWQiM2bMoF6+OYOmsGMrETJ/qoQuYmJSfIdBUAeRR2H27NnUS/M5NMXovPgkYWb4YZ40mXGS5LsGYf4kCeogE0lKSqJeiDY0hZ2oZQBQ28n0Z2xqO0kAWByED0TfZpAVK1agDiIPzbJly7y8vMBqhYN/RWsAXR8Mmd41aNm/9HHGHmPL6vB6E8nncpYE+eKI0Stu1ROkQCCwt4KhDiIPiz2VOPwZmmJ0SFjTwdzHDetNpNlijRYLhN54Td0yyLBVoVDY5/1QB5GHxZ5K4JTxnakxydgDrOmg0vYlmBTfbhBWJMWogwzFXiLs7cJu6tE6WG8iGdtNXdPehzr4XYOwIilGHWQoy5Yts3dTV+9BawBdIgyfY7ZY601MDAkvrJI2dA/wuZxoMeog0DuXNnQPCAQChUKBOog8Ovauq5pSNMXokFBjZGKJUGPsBYBosQB3JhltEIVCwfwVt1AHGc1LL71EvTQ3YGpsZ9EaAFBf62Fgalx5jbrs1031x1EabZD4+Hi2HDDqIENJS0vz8vICiwX270Zr2OPBkOnt5uGjDGskPPPcjOqOPj6XEydBHQR6Lf7qjj6BQKBUKlEHkbGydOlS6gW7CB2s3AgAn7X2MOqgyltvUocW4ofbkow2SGxsLPO3JUEdZAHbt2+nXjpaMTUerYNVxl5GpcblV25iUvxdg7AoKUYdZDTLli0LCAigvip+G60B9KzxrIVmi1V9lSkh4aHl05p6BoXeXEyKaRq6B5p6BkUiEYuSYtRBprN27VrqpbYSTWHnmQRbxMEUHfyMzgEl/jhTPNogSqWSLTPFqIMsIDs7G+iG6iP70BoUTz8P3vzazv5Dy6dN+LG0rA5XX6MUOX5aAI4M/Uyx+novACQmJrLryFEHGc2MGTPmzZtHffXxb9AaQG9fF/sLAPhjo2nCj6WkpbvdPBwV6INrK4wYhBySy+VseYwEdZA1FBcXUy8mI4aEdjakgTe/ytg7sSFhy+rwPzcRALAlUoxjQgeDtEEyMzNZd/Cog0xn7ty59pBwXz5ag0IcSoeEdClqwoNBnCEZbRC5XM6uGRLUQbaFhN+cwUWqHSEhx5tfcrn7zHMzMBjEYBB10FNCwunTp1Nf7UpFa9AhoVXxE/Ow/drDYBCDQdRBj+D999/HkPCOkJC6/CYiJMRg0M2CQdRB1hAfH28PCbOeR2tQhM+Bp583D1u3nb0xzn95R6MJg8HvGoS9wSDqIJv4/PPPORwOmIzw2R/QGhS/+D34C6uMvXsWjd9zrEdiwnZ/0wUAuXOCcQTo/VR3X+oGgIKCAvaeBeoga5g7d+66deuorz77Az5xDPTEsepNAHjnXOe4PXH8zrlOs8UaHzYpWszHEbAbZNiSlJTEliVXUQdZT0VFha+vLwwNwI5foDUo1qZC+BwqJPlmPG4MRQtCqzv6Qvi838oeQ9vTa15Ud/RJJBL7g0+og8j4sGvXLurl1Jc4YWIn5QMA2HHR5OoJk5bV4XQtckukGJfYoqdHaINkZmayaIkt1EF34OWXX/7Rj35kS0j+N1qDYtZCiP2Fediapu9w6d9xTI8kzghEq4+eHklJSWH7uaAOso/S0lIulwvdnZDzM7QGRfw2jiikuqPvvdlBLvoL+xZP+VMTwedy8uUhaG/bHqr9f2oiBAJBUVGRG5wO6iD7mDt37h//+EfqK90/cLVqoNuqt34CAL8zfLt/6eNO//gzz81IOdkOAL994rGoQB+0d7t5OOVUB70eklwud4Mz4litVhxXNhITE3P48GHgeUHhKQgOQ4NAWQ6U5YT5eR16etqsA81O/OAlQb61nf1xEv+iBaFoZgDYUHe9trNfqVRWVFS4xxmhDrI5DBKLCYIAsQSKDGgNird+Ag1H4iT+VbZ9I53C1kjxjkYTLa9Cb8yfYEejaUejSSqVnjp1SiQSucdJ4biymMOHD3O5XDAZsVBoZ8vHHFFIlbHXWYXCfYun7Gg08bmcwnmhKIJ0WXBHo0kgEJSWlrqNCKIOspvbCoWfF6BBRhcK9y2eMsYPO75yuqMsiF3TANDaN+QoC7K6axrzYjckNjb2wIEDwOHAlo9h2QY0COzNg0+zAr15+xZPefZ/rjzaZ1xYJX32qyutfUNYFqTpGrTQBnGnsiDqoFsxe/bsr7/+Grhc+N0X8IQCDQKFb4DmkxA+b//SxxdWX37Y/7tldfiGumv1JvOSIN/SRRLcg8lssdIGiYmJqaqqYtceTKiDHsTUqVOvX7+O08cjZP8Uju1/tOnjlcF+1R19EQHe+5c+jmVBANh4zFjd0SeTyerq6typLOgAx9hN+PrrrydPngzDQ/CrhbgKA9jmTGD+s619Q8/XXXuoVRjiwyZVd/SF+XmVPjUFRRAANp/uqO7ok0qlVVVVbimCqIPug0gkOnHihK+vLwyQkDofpRB8BJQUhs9p6B5IPt72gFK4NVJc3npT6M0tWiAJ8/NCv9rRaCpvvSkSiSoqKqRSqbueJubFbsWZM2eio6OHhoYoFfjLcUyQwdQG256D9stRgT57F0+9f4IcHzapvPUmn8spXSTBrTjpSLC89aZAIKiqqmLdVpwYD3ouc+fOrampuRUVRsN5nadbRBwK2/9BR4Vrjl49vnL6XX+rZXV4nMSfjgRRBOmJkeQTbXQk6PYiiPGge9LS0hIVFdXT0wM8L0jfjc000NsF770AF46H+XkVLZDc0UxzYZV04z+v15vM9E/xCeKuQQttEKlUWlFR4R5PEKMOeiIEQcycOfPGjRvA4cCrO+G5lzzdIgMk5PwMTh4K9OaVPiVZc/Qq/fbxldMT/nm9qWcwKtAHa4J0szRtELlc7t41QdRBT2HmzJlNTU3UV8+9BL/ahQaBXa9C9R4+j/N+1OTNpzv2L308+YSx3TwcLebvwdlhgHqTObm+rZ0cUigUbjw7jDrocSxevFins1UJp/wAdtSAv9DTLfJpFuzNA4C5Qv6ZLjMAxEn8C+eHYLP0n5qI3xm+BQClUllaWup+zdL3AedJ3Jy6urrXXnuNw+HA9W8gcSbU/7enW+TnmfDL94HDoUUw5QfCogWhHi6CXYOWjceMtAhmZ2dXVFR4lAhiPOgpfPHFFy+88EJ/fz/myHDwr1CQBhYL/R2fx30/Kig+bBLmwhKJpKKiws0WUMB4EBlh9erV165ds29scvCvkDofOlo9zgq9XZD1PPzldbBYJk+efOHChZSUFPOwZfPpjs2nO7oGLZ5mD7PF+qcmYs3Rq+3kUGxs7Pnz5z1TBFEHPQiRSHTu3LmRHPmVufDByx50/p/9ARJnwqkvAWDVqlUdHR2RkZEFBQX0OnrlrTefqr5c0tLtOfao7uj78f9cceTCHjUrgnkxQuXIiYmJN27coL7xDaByZPduMGw+R4WBJiMABAQE5OXlvfzybTcAg8GQnp6u0WgAIFrMz50T7N4thO3m4W1nb9BLdisUiry8PI8NA1EHPZ2MjIz333/fQpfJfjAXMv7TDR/C6+2CHb+gY0AOh7Nu3br7LJynVqtTU1ONRkouXwkXbokUu18bjdli3f1N146LhHnYIhKJMjMz09LS8FpAHfRoWlpaVCqVvauGy4WnVsNrf3Gfxpq/vA7Ve2B4CAAiIiL27t07d+7c+/8fBEHk5ubm5OQAQAif9+8RosQZgW4zlVzeenPHRVNrH2WQpKSk7Oxstm++jjqIODNNjo+P7+npsbkDB2Yvhc0FLI4Ne7ug+G2HAvr4+OTm5j5U1GMwGJKTk+nbg9Cb+8tw4S/DheyNDc0Wq/pqj0MBZTJZQUGB2z8vjDqIPGKavHPnTntjDYcDkQsgNR+ks1mmgH/6FfzzC7onxsvLKzEx8aOPPnq0D1Or1VlZWXq9nlbDl2YE/jJcGMLnsUsBS1q6/9xEtJuHAUAqlWZmZiYlJaG3ow4i9yM/Pz8rK4sgCPv3YTL436+y4Nnk+v+Gz/4AF+tpBfT19d28eXN2dvbYP1ir1WZlZWm1WlunIUc1bdKL0yYxf8+mpp7B8is3y1tv0gool8szMzOVSiV6OOog8qhqyPOCJxTw07cYt/NJ8znYlwe6f8AASb/hRAW8lxpSdwc/r/hpk+KnTWLaogzt5uEqY++nLd0N3QP0O6iAqIPImPjoo4/y8vLOnz8/4iG+AbBsA7z4fye4etjbBXt+D7WVdCsMTURExK9+9SuXzn7qdLqSkpKysjLHHSJazH9pemCsxH9iq4dmi7XK2Ft5rdexe71AIFCpVImJiVgHRB1EnMPrr79eWVl5+fKoXd98BBA+B6L/F6x5Zfzmlz8vgCP74PJ56O9xvDd58uR169bt2LFjPHuAy8rKKisr1Wo1Sdrj0KhAn2dC/BYHCZYG+Y7b/HJtZ39NR39tZ3+9yex4MzY2Nj4+XqVSedoDwqiDyHjQ0tLyH//xH5WVlfYGbAf+QohcAPOfhTnLnTyv0tFK5bwnD8G/9NDdOfonvr6+y5cvf+utt5YtWzZRBiEIQq1Wl5eX0w3YDpYE+T4T7Bst5kcE+Dh3XqVr0HKu21xvMtd1kkc7+82WkStXLpfT8uchywWiDiITz/bt2/fv39/Q0GDvtrlNogLAmw/Tn4DHJDAz2v7m2tTv+cSDfwWylwr0zhyGzmuU6n1nnykfH5+IiIgf//jHW7ZsmTFjBqMMotFoDh8+rNVq7c2Yo4gW84VevPlifjCfNzPA26GV9//AepPZbLGQFutJk7m1f6i1b6jeRI4WProDJiYmZsWKFbGxsZ78SBzqIDLBEATx5z//ed++fZcuXerp6RkaGnLu54tEosmTJ69YseL111//3i5oJkCSpFarPXDggF6vb7bhxA8XCAQKhUIqldLah13QqIMIQ/noo4+MRuOhQ4euXr3qyKBHpp7vho+Pj5+fH53tRkZGRkREREVFJSUluUeMo9PpCILQ6XQtLS0OWXRMPd8VmUxGa5xIJHryySelNhQKBZb8UAcRBEFcBa67hSAI6iCCIAjqIIIgCOoggiAI6iCCIAjqIIIgCOoggiAI6iCCIAjqIIIgCOoggiAI6iCCIAjqIIIgCOoggiAI6iCCIAjqIIIgCOoggiAI6iCCIAjqIIIgCOoggiAI6iCCIAjqIIIgCOoggiAI6iCCIIhbYrVai4qKYmJi0BQIgjAfqVSqUqmuX79udR5QVFSElkUQhF1IJJL+/n5n6SCvpaXFaDSiWREEYRE9PT0RERFyudwpn8YlCAJtiiAI63CidnGVSiUaFEEQdiEQCJypXf39/UlJSWhWBEHYgkQiqaqqcuI8CcdqtaJZEQTxZLB/EEEQ1EEEQRDUQQRBENRBBEEQ1EEEQRDUQQRBENRBBEEQ1EEEQRDUQQRBENRBBEEQ1EEEQRBPwgtN8F0IgtDr9QaDwbEy47Fjx0iSvOsvSySSWbNm0V/HxMRIJBKZTIY2RO6FTqcjCEKn09HftrW1GQyGe/2yXC4XCoW0m8lkMrlcLhKJ0IZOB9dZAKPRqNPp9Hr9hQsXjEajVqsd+2fK5XKpVPrkk0/KZDKFQiGVStHVPBOtVqvT6dra2vR6fbONMX6gSCSSy+UymSw0NDQmJkahUAgEArQz6uAjRnxarfbAgQNarfYud2N/IYTPgWmRIAqxuV4I9fW9MLXB1Yv2rxuOANEOVxrv+BWpVBobG7tixQo6YES3c/uIT6PRHD58+K731GgxP4TvNTvQh/52vpgv4HLu9VEN3QPdgxYAaO0fau0bqjeRZsudF6xCoVi1alWMDTQ+6uD3o9fry8vLNRqNXq8feddHAFHLIHIBhEyn/otcQL0zRi6dpfSx8QQlkQ1HqK9vIZPJYmJi1q1bFxsbi/7nTllFWVkZfWcdXUKJCvRZEuQbzOdFi/lhvt5hfmOtRHUNWs51my/2DHaYh2s7ydrO/tE/jYmJWbVqlUqlwhQEdfBOmpuby8rKSkpKbgv9Zi2k5G/ej6l/Xc2VRjj1JSWIp76EAftFIpFIVCrVpk2bsJ7IXkiSLCsro2+ujjfD/LyWBPk+E+y7JMg3hM9z9TFUd/TVdZI17X0N3QOjKzObNm1SKpWYf3i6DhIEoVarS0pKRtITfyEsWkP9F7WM+npCuHAc/vkFfLUX2i87IsRNmzapVCp0WRah0WjKy8vLysoc0d/KYL9VEr+VwX5jD/oeOVSs6eir6ehXX+1xpM9KpTI+Pl6pVGIZ0eN00Gg05ubmFhYWjmQoi9bAsg3Uvz6M8YYLx6GmlBLE3i6Hy2ZmZjprCy7ERQFgYWFhbm6uo5cgKtDn5zMC4yT+4xD6PSBmi1V9tafyWm91Rx/9jkgk2rx5c1paGk43e4QO0gpYUFhophVw1kJ4JgGefn7Cor8H4dh+OLKP+teWMqMaskIBw/y84qdNUk4NiAjwZuwxt/YNqa/1lF+52dQz6FDDlJQUzDzcVgfvVMBFa0D1JoTPYc0JmNpgXz4cKEI1ZLgCRgX6bIkUx0n8WXQKtZ39OxoJelJFIBCkpKRs27YN1dCtdJAgiIyMjKLiYrYq4H3VMDs7GydSJpCcnJydO3eyVwHvo4ZpaWmZmZlYN3QHHSwrK0tPT7cXa1ZupBQwZDrrh2WUGvIFgje3bXvzzTfRX8cZnU6XmppKt1gtCfLdGilaEuTrBufV0D3wx0ZTlbGXblooKCjATcxZrIMGgyE9Pd3erxC1DFI+uF+3M0vV8JPfwFd76U7sgoICbDkczwyjsLCQrgPmzpm8MtjPzc6x3mR+5+sb9SYzAMTGxubl5Xly2sFKHSRJMicnJyc3l0qExaHwi9/D08+77RA1HIHCN+hnVJRKZUFBAZZ1XEpxcXF6ejpBEHwe57Ufil6LEPHv/bwH2ylp6f694duuQYuHp8ns00G9Xp+QkGDviF6bSiXCTJ4LdhZ78zj78q29XUKRqLCgQKVSoWA5HaPRmJCQQHebrgz2y50zeaI6AceTrkHL7w3flrR0062spaWlHjg7xzIdLCwsTEtPp8LAWQupRJilkyFjTpNTUlLy8vKwYuhEtFptgkplbGsL4fPy5cHulwg/YJosEAjy8vJSUlJQB5kIQRCpqallZWXUN8+nw88zPfR6rd5DpckDpFwuLy0txalkp/Duu+9mZWUBQJzEP//JYKG3J67LabZYf3f+292XugBApVIVFBR4TtM1O3RwJBf2F8KWj2H+sx591V5phJyfwZVGzJGdmAvzedzfysSvhAs93CBVxt600ze6Boc9KkdmgQ4WFxenpKbac+E3/wbiULx6YYCkosLqPXSOXFBQgCYZSy4c5udVOC80WsxHm9BPoaScaqNz5IKCgqSkJLc/Zd67777L5OPLycl57bXXhoeGqFx4y8fgG4Buahs3L1i0BkKmw6kvTxzTnT59WqlUennh6uIPgUajWbt2LdHVFSfx3/PUlHB/b7QJjdCb+8K0SX1D1mM3eisrK+nlvDAenDAyMjJycnI4PgJrygewciM66F24dBbeewFMbbGxsRUVFThz8uBJRnJyMgBsjRRvjRSjQe5KeevNXzd0moctbp9zMFcHk5OTi4uLwUdA5cIeXhC8P+2X4a2fQPtluVxeU1ODC4p8L/n5+enp6QCQO2dy4oxANMh9qO7oSz3Z0TU4rFKpioqK3PVGy0QdJEly/fr1Go0G/IWw/R+e1RzzyFKY/VO4dFYul1dUVOBaxN+bZPB53PejguLDJqFBvpeG7oHn6653DQ7HxsaWlpa65Y2WcTo4IoIh0yHjP1EEH5TeLioqvHRWKpXW1NSgFN4nyeDzOEULQj2tQ3AstPYNbdBda+0bctecg3F9UiMiiJHgQ+EvhNyDMP/Z5ubm9evXEwSBJvluJFhcXCz05u5f+jiK4EMR5ue1f+njUYE+dAfbvfawRR102u16RATdYNmYcYaupc5aqNfr4+Li3M9Zx0KODT6Ps+epKVG39opDHpwQPm/v4qlhfl4ajSYhIQF10LW3a46/EN75LxTBR5fCd/4LpkXqdLr169ejPWiKi4szMjL4PG7RAmwSfHSE3tx9iqkhAi+1Wp2amupOp8aU/sH8/Py3336buoyz1PCDuehzY5LCBavg2P6m0/UtLS24tJxGo/m3f/s3APhg7uS1U7D/dKxS+PRk38prvUf/edyd+goZoYPFxcX228tvy2DO0+htY8VfCPN+zDn8mf74MbPZ/Oyzz3qyCK5XKoeGh9+bHYQtMs5KkKPFfPX1vi9rtBKJZMGCBW5wUhM/X2wwGOTz5plJEl7/f9gs7UwuHOe8vdY6QFZUVHhmVNjc3Dxv3jyCILBZ2ulUGXuTT7QJ+PwarVahULD9dCa4Pkh3yVAiuDYVRdDJzFpoTfkAAJKSk5ubmz3t7EmSTEhIIAgiTuKPIuh0aKuSZjNtZNTBMZGammowGGDWQs9dR8ulrNwIKzd2EYRb9jrcn4yMDJ1OF+bnlf9kMDqCK9gaKV4S5Nvc3Ew/oYg6+IgU2+DQS2n54IOxrsG2bYtOp8vIyPCck1ar1fn5+Xwep3BeqGcuJjg+FM4PCeHzaGuz+kQmrD44Uhbc8rE77y7CBK40whvLwWMKhY6y4Huzg3A9QVdT29m/oe462wuFE3OrHCkLrtyIIuhypkWCJxUKHWVBFMFxwLajKesLhROjgzk5OQaDwXF9Ii7nVqGQXmfFjcnPz8ey4DjjKBSyt/YyAXlxc3Oz7IknqGAw9yDMWohuNE70dnH+/Smrqc2Ns2Oj0RgeHk6SZNGC0DiJP475uNFuHl5Yfdk8bD116hQbl/KfgHgwnd5wbuVGFMFxxV9otU3Kp6enu+vcMX1qcRJ/FMFxJoTP2zpTTC8RgHnx96O2Af5CbJSZmOw4fE5zc3NOTo77nZxWqy0rK+PzOLlzJuNQjz+v/EAYEeCt1+vZOHc8rnkxSZJPPPFEc3MzpHwAsb9A15kALp2F9KcFAsH58+fdaY1CkiTnzZtnMBh+K3vstQhckXtiqO7o23jMKBKJzp8/L5FIMB68Ozk5OZQIhs9BEZwwbMYnSdLNJkzy8/MNBkNUoM8rP8A54onLN4L94iT+BAun48YvHnTUsCHvK1xgdSIxtXHeWG41tbG0pH0f19q3eMqSIF8c4QmEpRMm4xcP5ubmUiK4aA2K4AQjDrVuSAOArKws9zgh2rXiJP4oghNOCJ+XOD2Qdd41TvEgBoPMorcLkmfBAOkGISFJklOmTCEIAoNBDAmZHg8WFxdjMMgg/IWwKtk9QsLCwkKCIKICfVAEMSRkdDxIkqQ0PLzNaISM/6SkEGECpjbY9CTbQ0KSJMPDw41GIzZOY0jI9HiwsLCQEsHwOSiCDEIcSoeEH374IauDQaPRGBXogyKIISGj40HHHRuDQQaGhJxNT/K5cOnSJXZ1e2EwyJKQsNU8bLl06RLzO1VdHg9qNBpKBEOmowgyMCS0LlpDkmRxcTEbD592rTA/LxRBZoaEcaF+9NwA5sVQXl4O9BNdCAN5JgEASkpK2HjstGvFT5uEw8hMXgwLGFEAT86LCYKYMmUKSZKw+wxuScxQkmeBqa2uro5di2g6XOv4yulhfl44jMxk7sGWdvMw873LtfFgWVkZJYKzFqIIMpdlG9gYEtKuFS3mowgyGeXUAFZ4F3c8kmJb8oUwWQfVajW7FuOiXetFTIqZzTqbDtrjIc/UwebmZq1WCz4CXHmf0cxaCNMijUajRqNhyyHTrsXncuhwA2Es0WJ+RIA3QRAM9y6uSzMX6mXRGvDHJUBYEBKyop492rXiJP64Fx1bUmOGe5cL3ejAgQOOawxhNLaWJhbFg7RrrZuK7TIsINbW1eSh8SBJkjqdjvoqahm6AtMJnwPiUIIg9Ho98w/W4Vr4QDEriAr0CeHzGO5drtJBnU5HkiR1gWFSzArm/Zhe2p75R0q7VlSgDybFbOGZED+Ge5erPMl+zhgMsuauTY1UZWUl84+Udi0MBlnEkscEDPcuV+ng4cOH4VbhCWGLDtqjeGZDu1asxA8HjTU6aLtpMdm7XKKDJEnW6XTgI4DIBegE7CBkOoRMH6nqMhX6CPlcTrRYgIPGFsL8vML8vJjsXS7RQZ1OZyZJSgR90FnZw/xnmV8ipGOKaLGAz+XgiLGIlcGMLhG6SgeBbtBFWMTspQBw+vRphusg3Z2Lw8UuFgcJmOxdLtFB+9lKo3D42cS0SPpRDSYfI+1aswN9cLjYRUSAD5O9yyU6aD9b23WFsIbHZwKAwWBg8jHSrkVfVAiLmBngzWTvcokO2s8W15hhFz4CEIeSJMnkkJB2rTBfXGOGZfC5nBA+j7He5XwdNBqNBEGAOBQ7qNmHbTdBxt60adcK4fOwg5qNRAXyGetdzvcn+9MzuD8na1NjxsaDtGvRlxPCOiJsqbGnxIP288SkmI3YRu3ChQvMPDratXDhVZYyzTZwzPQu5+ug/TxtkQXCxniQsXkx7Vo/tIUVCEvjQU/JiwmCoF6wOMhGbH3vTn74qWoTh8NZurPJWa4l9MLiICsR2FrfmfloHboUMgpRCNoAcREhfOYWNLA+iNwZDzJ2ngTrg6yGfhTSU+ZJEARB2AXWB5E782L7CDIP+sACvXk4UKzMiwU8xnoX6iByZ148Rk+1zYuMYvVuAKhNmzn6vUebNsF5EjfIiz1FBxEEQTw9L7bjjU3/Hkrch9bb+OIVAFiSf3H0e0c3Rzx6WMHDlQcRtujgoBmNi7gC87AVjYAwXQdFIhH1MkCicdmHbdQEAoauIk67ltmCOsjOG5ht4JjpXS7TQaIdB5592EZNIpEwWQfbzUM4UGyknRxmrHc5XwcZG00gbAddC3ERzm/Nt+u9qQ2Nyz5so+bkO3bch1brh050rXbzMA4UK+NBsyfFg3ZwnoSN2EaN4WEXzpOwFLPF4kH1wRkzZgDOk7AUZs+T0K5F4jwJOyE9cZ7k6kUceBamLpcBQCqVMvPoaNf6V88gDhQbae0bYqx3OV8HZTIZ6iBbsY3arFmzmHl0tGs1oQ6yE/oGxkzvcpkO2iILBONBp7vW5X7UQXbGg/2eFA9KpVKBQABXGrFEyNJ40H4nYx60azX1DGIrNRu52DPAWO/iuu6+jakx+7jSyGQddBzbRUyNWQhd0PAgHbSHvpgaowi6xrVa+1AHUQTZEg/ariuENdjuWwzXQZwqYSl0VdezdNA+JdR4AoefTdjGi7GTJKNd6ySBXfos46TJzGTvcokOxsTEUC8NR3D42YRtvFasWMHkY6Rdq7azH4eLXdR2kkz2LlfVBynh7+2CC8fRA9jBAAmNJwQCgf0exlRo1+oatNSbMCRkDWaLtZ4gmexdXJfet+HUl+gErEmKB0iFQmF/HIjxIWFNRx8OGluoN5HmYSuTvctVOmgPgDE1Zgu2OxbDk+LRrkXnWQgrqOnoZ7h3uTgetEUZ6Acs4OShkVFjQzxIhRjYTc0WHWzvY7h3uUoHpVKpXC6nq07oB0yntwsunRUIBAqFgvkHS7uW2WKtN+EtlgV0DVoaugcY7l1cV9+34dh+dAWmYxsjhULBlgWfadfSGLFEyAI0xl7me5cLdXDdunXUy5F9mBoznSP7ACA+Pp4tx0u7lvpaD6bGzKfyWi/zvcu18aBUKgVTG86WMBpTG5w8JBAIlEolWw6Zdq128/BRbCRkNu3m4eqOPuZ7F9eln56YmEi91JSiQzCX6j0AEBsby9ht6u7jWp+19uAAMpny1pus8C7X6mBSUhLQ5SdMjRmL7S7FoqR4tGtVGXsxNWa0Dl65yQrvcq0OSqVShUJBiaCtAoUwjktn4UqjSCRiUVI82rXMFqv6KoaEDKWhe6CpZ5AV3sUdn/wFdZDJSbFSqWTj1sC0a5VfQR1kKJ/ZkmJWeJfLdVClUlFWOHmICj0QRjFAcmz3J/u9im3QrlXb2d/QPYCDyTSoUP16L1u8y+U6KBKJUlJSqK8OFKFzMIsDRVZTm1wuZ8VjJPdxrT82mnAwmUZJS3c7OcQW7+JYrS4vMxuNRml4uNkC8OFpEIeiizAkGIRNT4KpraKignXFwdGuFR4eTpLkoeXTogJ9cFSZEwwu/PJyu3mYLd7FHYe/IZFIElQq6sLbl48uwpxgEGzBIHtFkHYtOiSkS1EIg4JB8zCLvIs7Pn9m8+bNjmsPvYQpOgiQmZnJ9vPYtm2bgM8vuUxdeDiqDAkG/9xEsMu7xkkH7XcGDAkZwrH9cKVRJpOxOhh0hITK9evNw/ZrD8FgkLk6OHJzqN6DIeHEU5YDAJs2bXKPs9m2bRt1+WFIiMEg83XQfn/o7YJPs9BdJhLNJ3DprFQqtc/jsx+5XK5SqczD1m1nb+DwTiw7Gk2sCwbHVQcBIC8vTyAQUCEh7lsyUZjaOOW5I2PhLuTl5YlEoipjbzWu1z9xNPUM7r7UDQAFBQXsOvJx1UGpVEqnMFD4BjrNxFCeazW1KW2402lJJBI6EXvnXCc+cTxRUMYftiQlJbFiQd/RjEf/4GhIkpw3b57BYID/kw1rU9F1xpVLZyH9aYFAcP78eYbvU/xozJs3T6/X/1b22GsRIhztcabK2Jt8ok0ikZw6dYpdaxeNdzwIAAKBIC8vjxLgshycMBlvdr0KAGlpaW4pgo50bMdFE06YjDNmi704m5mZyToRnAAdpBcjU6lUVpwwGWds0yOO/NEtUSgUKSkp5mFrmr4DB3w8cUyPsHTybbzzYhqj0Sh74okugoDX/x+s3Ihu5HKuNHLeWG4dIKuqqmJjY934RI1G4zy53NjW9t7soFfChTjy40BtZ/+GuusCgaCurk4ul7PxFLgT8lclEklxkW3ZhcI34EojepJrGSAh52fWATItLc29RZB2rdKyMgD4ncFUbzLj4LuadvNwyikq+s7OzmapCAIA7913352QPyyTydra2k4c08G/9LDiReB5oUu5ir+8Dqe1CoXi008/9fJyfzvT1c8va7RfdfbHT5sk4HHQBVzHz4+3GW4OKJXK/HwWPyo2MXkxzcjc8dpU+D/Z6FIuoXoP7HpVKBLpT51y1+mRu/LMM89otdo4iX/RAlziyFXsaDTtaDRJpdJTp06JRCyeo+dO4N8WCAQVFRUCgQA+L8Btjl3ClUaOrVWzuKjIo0QQAEpLSyWhoVXG3t2XutARXEFtZ/+ORpNAICgtLWW1CE6wDtLZMd3rwNn1KhYKnUxvl6Ms6GZd0w/C6EJhLW7v6Wxa+4YcZUHWdU1/lwmrDzqQy+VtbW0n6o7CiQOwaA344xyfMxgg4d31cOms55QFv4tUKhUIBAcOHtK09T8T4hfC56FfOIWuQcua2qvX+4fYXhZ0MJH1QQckSa5fv16j0UD4HNj+D5RCJ5D9Uzi2XyaT1dXVsT1nGSOpqamFhYUhfN7+pY+H+eF03FgxW6wb6q7Vm8wxMTFVVVXu8ZQ6I3SQlsLFixfr9XqIWgbv/Bf4CNDhHp3CN0DziUQiqaur87Sy4F1Zv369Wq0O8/M69PQ0oTcXDTIWNh4zVnf0udktlik+IRAIampqqIu24Qj86VfobY9OWQ5oPhGKRFVVVSiCNKWlpbGxsa19Q8/XXcNVGMbC5tMd1R19Uqm0qqrKnfIMBt0bRSJRTU1NqEQCX+2ln4RFHprqPVCWwxcIykpL2dvU6oq7bKnNIA3dA8nH21AKH40djaby1psikaiiosLNbrFMyYsd6PX6mGee6SIIWLkRUj7ABPkh2JtHP7JdWlqqUqnQHndgNBoXL17c3NwcFeizd/FUTJAfNhIsb70pEAiqqqpYutErO+JBGrlcrq2pEYpEVGiT8zMYINEFH4iPM+DTLL4t8EERvCsSiaSmpoaOCtccvdraN4Q2eRDMFmvyiTY6EnRLEWRiPEhjMBji4uKam5txBvmB2PUqVO+h+9Ld/gniMUIQRFxcnE6nC/PzKlogwV2P70/XoGXjP6/Xm8xSqbSiosJdiy0M1UEAaG5uXr9+vV6vh5DplBSGTEenvAu2NRTg5CG6uoo1wQfB0acl9ObteUoSLeajTe5Ka99Qwj+vN/UMyuVy96sJMjovdiCVSmtqaqggvP0ybHsOGo6gX96JqQ3eXgsnD0mlUvYueTT+0EWupKSkrsHhDbrr5bgH/N2oN5nX1F5r6hlUKBT2Xg73ZeKfJ7m/v6pUqnPnzhn09VC9h3orahk6qJ2Thzhvr4Xr38hksoMHD0ZERKBJHgqlUmk2mw9/9ZWmra+1f2hliJ8XB1emsfOnJiLlVHvvkEWpVH7++ecBAQHufb7MzYtHk5OTk5GRYdfBLR+D2ONXEPk0C/bmAYBKpSooKPDwJ0bGQllZWWpqKkEQEQHexQskEQHeHm6QrkFL6sl2etu/7OzsN9980xPOmh06CAA6nW79+vVGo5ESwS0fe25gaGqDnJ/BheP0Ti9uswfxBGIwGBISEvR6PZ/HfT8qKD5skifnwsn1be3kkEQiqaiocIMFFNxNB+mZvoSEBI1GQ33zfDrEb/O47sJj+zm7XrX2dslkslLslHYeJEmmp6cXFhYCQHzYpPd+FORp3YVmi3X3N12/M3xL7yDkBktpua0O3pkjh0yHlA9g/rMeMVBXGuGT38DJQ5gLj0OOLPTm/kb2WOKMQA858eqOvnfOdTb1DHpULsxuHaRz5OTkZIPBQH2zaA2lhm5cMRwgoTyX83mBdYCUSCR5eXnYJu3SHDk9PZ3OOaLF/Nw5we7dYNhuHt529kaVsZfe7S8vL89zcmHW66AjMMzKyiJJksqO47dRmbI7JsJQ+Aa90XNaWlpmZiaGgeOAWq1OTU01Go0A8Eq4cEuk2P3SZDoR3nGRMA9bRCJRZmZmWlqax444i3WQfmI0OTnZXjEMmQ6qN91nF9CGI1CWQ3dNKhSKgoICrAaOJwRB5Obm5uTkUJ7F5/17hChxRiCf6yaNNeWtN3dcNNFPFiYlJWVnZ7Nx83XUwdvQaDTJycn03dsd1HCUAopEouzsbJwUnsA0OTk5WafTAYDQm/vLcOEvw4XsjQ3NFqv6ao9DAeldMdzyeWFP1EF6vq+wsDA3N5fdanhsP+zLhwvHaQXcvHlzWloaJsJMSJOzsrL0ej2thi/NCPxluJBdq/ybLdaSlu4/NxHt5mH6Ya3MzMykpCQcXLfSwdFquHPnzubmZrsarkqGp59n+rPJvV2UAn5eAJfOogIyFq1Wm5WVpdVqAYDP46imTXpx2iTmP5vc1DNYfuVmeetNWgHlcnlmZqYH7tvlQTrooLi4OCsry66G9FMoKzcycROoY/vhyD7qX9vyYqiA7FJDAAjz84qfNil+2iSm7XzSbh6uMvZ+2tLd0D1Av4MK6HE6SFNWVlZeXq5Wq+3f+whg2QZKDRetmeAju3QWDhRR8mebCAaAmJiYxMREpVKJCsgKdDpdSUlJWVkZQRD0O9Fi/kvTA2Ml/hNbPTRbrFXG3sprvXQrjOMh/cTERKwDeqgO0hiNRrVaXVJSQle77YIYtQzm/Zj6N3zOOB3HlUZoOAKnvqT+7bXvLC6TyRITE1UqFW4kwt57bWVlpVqtJkn7gsFRgT7PhPgtDhIsDfIdt/nl2s7+mo7+2s7+epPZ8WZsbGx8fLxKpXKPLeVQB51Dc3NzcXFxeXm5vQGbRhxq18SQ6c5/ZvnCcbh6kRK+hiPQftnxtkwmi42N3bRpk0wmQxd0AwiCUKvV5eXl9hauWywJ8n0m2DdazI8I8HHuvErXoOVct7neZK7rJI929o/ecUUul9PyhzdX1MHviRC1Wu3hw4c1Gs1IDZHGX0hFiCHTqf8iF9ifX6a/vV8x5rJd5i6dBaKdkj/HO7eQSCQxMTGrVq2KiYlBB3VjNBrN4cOHtVrtSP5xi2gxX+jFmy/mB/N5M28tbLMkyPf+H1hvMpstFtJiPWkyt/YPtfYN1ZvIO7aakslkMTExK1asiI2NxdIK6uCjBIlarfbAgQNGo1Gn0zmyG6cgl8slEgmtfdgF7WmQJEm7ll6vb7bhxA8XCAQKhUIqldLa5+Fd0KiDzk9w9Hq9wWAwGo3Hjh2jZfH+TiwSiRwaJ5fLQ0NDaQfFoA+5A51ORxCETqdraWlxeJRj6vmuyGQyWuNEItGTTz5J+5VCocCSH+oggiCIM8EtXBEEQR1EEARBHUQQBEEdRBAEQR1EEARBHUQQBEEdRBAEQR1EEARBHUQQBEEdRBAEQR1EEARBHUQQBEEdRBAEQR1EEARBHUQQBEEdRBAEQR1EEARBHUQQBEEdRBAEQR1EEARBHUQQBEEdRBAEQR1EEARBHUQQBEEdRBAEQR1EEARBHUQQBEEdRBAEQR1EEARBHUQQBEEdRBAEQR1EEARBHUQQBGE7/18AAAD//+4e6VwrCGffAAAAAElFTkSuQmCC)\n",
        "\n",
        "Nakon završetka izvršavanja metode *run_epoch* ispisujemo rezultate obrade u datoteku log.cvs u izlaznom direktoriju. Tu su prikazani razni parametri poput rednog broja epohe, maksimalne alocirane memorije, parametara overall_dice, small_dice, vremena izvršavanja itd...\n",
        "\n"
      ],
      "metadata": {
        "id": "HB7MWtjsnG6t"
      }
    },
    {
      "cell_type": "code",
      "source": [
        "for epoch in range(epoch_resume, num_epochs):\n",
        "            print(\"Epoch #{}\".format(epoch), flush=True)\n",
        "            for phase in ['train', 'val']:\n",
        "                start_time = time.time()\n",
        "                for i in range(torch.cuda.device_count()):\n",
        "                    torch.cuda.reset_peak_memory_stats(i)\n",
        "\n",
        "                ds = dataset[phase]\n",
        "                dataloader = torch.utils.data.DataLoader(\n",
        "                    ds, batch_size=batch_size, num_workers=num_workers, shuffle=True, pin_memory=(device.type == \"cuda\"), drop_last=(phase == \"train\"))\n",
        "\n",
        "                loss, large_inter, large_union, small_inter, small_union = echonet.utils.segmentation.run_epoch(model, dataloader, phase == \"train\", optim, device)\n",
        "                overall_dice = 2 * (large_inter.sum() + small_inter.sum()) / (large_union.sum() + large_inter.sum() + small_union.sum() + small_inter.sum())\n",
        "                large_dice = 2 * large_inter.sum() / (large_union.sum() + large_inter.sum())\n",
        "                small_dice = 2 * small_inter.sum() / (small_union.sum() + small_inter.sum())\n",
        "                f.write(\"{},{},{},{},{},{},{},{},{},{},{}\\n\".format(epoch,\n",
        "                                                                    phase,\n",
        "                                                                    loss,\n",
        "                                                                    overall_dice,\n",
        "                                                                    large_dice,\n",
        "                                                                    small_dice,\n",
        "                                                                    time.time() - start_time,\n",
        "                                                                    large_inter.size,\n",
        "                                                                    sum(torch.cuda.max_memory_allocated() for i in range(torch.cuda.device_count())),\n",
        "                                                                    sum(torch.cuda.max_memory_reserved() for i in range(torch.cuda.device_count())),\n",
        "                                                                    batch_size))\n",
        "                f.flush()\n",
        "            scheduler.step()"
      ],
      "metadata": {
        "id": "vtDOI6J8sfTv"
      },
      "execution_count": null,
      "outputs": []
    },
    {
      "cell_type": "markdown",
      "source": [
        "U sljedećem koraku vrši se spremanje dosadašnjih rezultata obrade u objekt *save*, tipa dictionary, koji se sprema u izlazni direktorij pod nazivom \"checkpoint.pt\". Ukoliko je gubitak upravo obrađene epohe manji od najmanjeg dosadašnjeg zabilježenog gubitka, dictionary *save* se sprema u datoteku *best.pt*."
      ],
      "metadata": {
        "id": "-dbeyyZxtpdI"
      }
    },
    {
      "cell_type": "code",
      "source": [
        " # Save checkpoint\n",
        "            save = {\n",
        "                'epoch': epoch,\n",
        "                'state_dict': model.state_dict(),\n",
        "                'best_loss': bestLoss,\n",
        "                'loss': loss,\n",
        "                'opt_dict': optim.state_dict(),\n",
        "                'scheduler_dict': scheduler.state_dict(),\n",
        "            }\n",
        "            torch.save(save, os.path.join(output, \"checkpoint.pt\"))\n",
        "            if loss < bestLoss:\n",
        "                torch.save(save, os.path.join(output, \"best.pt\"))\n",
        "                bestLoss = loss"
      ],
      "metadata": {
        "id": "NG9qBTZGudT8"
      },
      "execution_count": null,
      "outputs": []
    },
    {
      "cell_type": "markdown",
      "source": [
        "Nakon obrade svih epoha model učitava parametre modela iz epohe sa najmanjim gubitkom.\n",
        "Ukoliko je argument *run_test* zadan kao True, izvršava se testiranje modela. Metodom echonet.datasets.Echo se učitava dio dataseta predviđen za testiranje i validaciju. Ponovno se formira objekt dataloader koji omogućuje lakše rukovanje i prosljeđivanje podataka modelu, a zatim se metodom *run_epoch* pokreće testiranje i validacija. Provodi se proračun već objašnjenih parametara *overall_dice*, *small_dice*, *large_dice*. Razlika je što su to ovog puta jednodimenzinalne liste, duljine jednake broju uzoraka dataset-a. Dakle, za svaki uzorak dataset-a, odnosno svaki ehokardiogram se računaju zasebni parametri spremljeni kao pojedinačni element liste i potom spremaju u odgovarajuće datoteke *val_dice.csv*, odnosno *test_dice.csv*."
      ],
      "metadata": {
        "id": "eqdtyhJ_ueK9"
      }
    },
    {
      "cell_type": "code",
      "source": [
        "if run_test:\n",
        "            # Run on validation and test\n",
        "            for split in [\"val\", \"test\"]:\n",
        "                dataset = echonet.datasets.Echo(root=data_dir, split=split, **kwargs)\n",
        "                dataloader = torch.utils.data.DataLoader(dataset,\n",
        "                                                         batch_size=batch_size, num_workers=num_workers, shuffle=False, pin_memory=(device.type == \"cuda\"))\n",
        "                loss, large_inter, large_union, small_inter, small_union = echonet.utils.segmentation.run_epoch(model, dataloader, False, None, device)\n",
        "\n",
        "                overall_dice = 2 * (large_inter + small_inter) / (large_union + large_inter + small_union + small_inter)\n",
        "                large_dice = 2 * large_inter / (large_union + large_inter)\n",
        "                small_dice = 2 * small_inter / (small_union + small_inter)\n",
        "                with open(os.path.join(output, \"{}_dice.csv\".format(split)), \"w\") as g:\n",
        "                    g.write(\"Filename, Overall, Large, Small\\n\")\n",
        "                    for (filename, overall, large, small) in zip(dataset.fnames, overall_dice, large_dice, small_dice):\n",
        "                        g.write(\"{},{},{},{}\\n\".format(filename, overall, large, small))\n",
        "\n",
        "                f.write(\"{} dice (overall): {:.4f} ({:.4f} - {:.4f})\\n\".format(split, *echonet.utils.bootstrap(np.concatenate((large_inter, small_inter)), np.concatenate((large_union, small_union)), echonet.utils.dice_similarity_coefficient)))\n",
        "                f.write(\"{} dice (large):   {:.4f} ({:.4f} - {:.4f})\\n\".format(split, *echonet.utils.bootstrap(large_inter, large_union, echonet.utils.dice_similarity_coefficient)))\n",
        "                f.write(\"{} dice (small):   {:.4f} ({:.4f} - {:.4f})\\n\".format(split, *echonet.utils.bootstrap(small_inter, small_union, echonet.utils.dice_similarity_coefficient)))\n",
        "                f.flush()"
      ],
      "metadata": {
        "id": "OcWzYpTSykx8"
      },
      "execution_count": null,
      "outputs": []
    },
    {
      "cell_type": "markdown",
      "source": [
        "U idućem koraku, ukoliko parametar *save_video* ima vrijednost True i ukoliko u izlaznom direktoriju u poddirektoriju *videos* ne postoje sve datoteke imena iz liste *dataloader.dataset.fnames*, odnosno svi videi iz testnog dijela *dataset-a*, pokreće se blok koda koji ima sljedeće funkcionalnosti.\n",
        "\n",
        "Metoda *model.eval()* isključuje određene slojeve modela koji se ponašaju drugačije za vrijeme treniranja i evaluacije. To bi primjerice bili *DropOut* i *BatchNorm* slojevi.\n",
        "\n",
        "Metodom *torch.no_grad()* se mijenja kontekst modela čime se isključuju algoritmi za gradijentne proračune. Ova metoda rezultira uštedom u potrošnji memorije prilikom proračuna.\n",
        "\n",
        "Obilazimo sve uzorke (ehokardiograme) u testnom dataset-u i pomoću metode *tqdm.tqdm(dataloader)* pratimo napredak na *progress bar-u*. \n",
        "\n",
        "Pošto, bi segmentacija cijelog videa bila riskantna zbog potencijalne prevelike duljine videa, video se segmentira u manjim dijelovima, duljine (brojem *frameova*) određene parametrom *batch_size*. Takvi segmentirani odsječci se naposljetku konkataniraju u jedan cjelovit segmentirani video. \n",
        "\n",
        "U sljedećem koraku za svaki ehokardiogram imamo par originalnog videa koji je reprezentiran tenzorom *video* i izlaznog videa iz modela zadanog tenzorom *logit*. Nakon što denormalniziramo *video*, odnosno pomnožimo svaki piksel videa sa standardnom devijacijom, a zatim na tu vrijednost dodamo srednju grešku, konkateniramo dva identična tenzora videa jedan pored drugoga, odnosno po osi 3 (odgovara osi koja određuje širinu frame-ova videa). 'Lijeva' kopija videa će biti originalni video, dok će 'desna' kopija predstavljati segmentirani video. Segmentirani video se dobija na način da se za one piksela tenzora *logit* koji imaju vrijednost 1, u 'desnoj' kopiji tenzora *video* u plavom kanalu (kanal 0, pošto radimo sa BGR modelom) postavlja vrijednost 255, a za one piksele tenzora *logit* koji imaju vrijednost 0 se postavlja vrijednost 0."
      ],
      "metadata": {
        "id": "v_7_UWvWyqe9"
      }
    },
    {
      "cell_type": "code",
      "source": [
        "# Save videos with segmentation\n",
        "    if save_video and not all(os.path.isfile(os.path.join(output, \"videos\", f)) for f in dataloader.dataset.fnames):\n",
        "        # Only run if missing videos\n",
        "\n",
        "        model.eval()\n",
        "\n",
        "        os.makedirs(os.path.join(output, \"videos\"), exist_ok=True)\n",
        "        os.makedirs(os.path.join(output, \"size\"), exist_ok=True)\n",
        "        echonet.utils.latexify()\n",
        "\n",
        "        with torch.no_grad():\n",
        "            with open(os.path.join(output, \"size.csv\"), \"w\") as g:\n",
        "                g.write(\"Filename,Frame,Size,HumanLarge,HumanSmall,ComputerSmall\\n\")\n",
        "                for (x, (filenames, large_index, small_index), length) in tqdm.tqdm(dataloader):\n",
        "                    # Run segmentation model on blocks of frames one-by-one\n",
        "                    # The whole concatenated video may be too long to run together\n",
        "                    y = np.concatenate([model(x[i:(i + batch_size), :, :, :].to(device))[\"out\"].detach().cpu().numpy() for i in range(0, x.shape[0], batch_size)])\n",
        "\n",
        "                    start = 0\n",
        "                    x = x.numpy()\n",
        "                    for (i, (filename, offset)) in enumerate(zip(filenames, length)):\n",
        "                        # Extract one video and segmentation predictions\n",
        "                        video = x[start:(start + offset), ...]\n",
        "                        logit = y[start:(start + offset), 0, :, :]\n",
        "\n",
        "                        # Un-normalize video\n",
        "                        video *= std.reshape(1, 3, 1, 1)\n",
        "                        video += mean.reshape(1, 3, 1, 1)\n",
        "\n",
        "                        # Get frames, channels, height, and width\n",
        "                        f, c, h, w = video.shape  # pylint: disable=W0612\n",
        "                        assert c == 3\n",
        "\n",
        "                        # Put two copies of the video side by side\n",
        "                        video = np.concatenate((video, video), 3)\n",
        "\n",
        "                        # If a pixel is in the segmentation, saturate blue channel\n",
        "                        # Leave alone otherwise\n",
        "                        video[:, 0, :, w:] = np.maximum(255. * (logit > 0), video[:, 0, :, w:])  # pylint: disable=E1111"
      ],
      "metadata": {
        "id": "CSDe-05SbaLL"
      },
      "execution_count": null,
      "outputs": []
    },
    {
      "cell_type": "markdown",
      "source": [
        "U idućim koracimo računamo segmentirani broj piksela po svakom *frame-u*, odnosno segmentiranu površinu po *frame-u* i zapisujemo te vrijenosti u jednodimenzionalni tenzor *size*. Iz sortiranog tenzora nalazimo dvije vrijednosti *trim_min* i *trim_max*. One predstavljaju minimalnu, odnosno maksimalnu segmentiranu površinu, a dobijene su kao vrijednosti koje se nalaze na indeksu 0.05*len(size), odnosno indeksu 0.95*len(size) sortiranog tenzora size. Pomoću metode *scipy.signal.find_peaks* pronalazimo lokalne maksimume tenzora *size*. Pošto je unutar same metode proslijeđena invertirana (negirana) verzija tenzora size, tada lokalni maksimumi, u biti odgovaraju segmentiranoj površini *frame-ova* koji prikazuju srce u položaju sistole. Ova metoda zaista vraća istinite vrijednosti, pošto su njeni parametri *distance* i *prominence* postavljeni na 20 odnosno na polovicu razlike maksimalne i minimalne segmentirane površine. *Distance* definira minimalni razmak dva framea na kojem je detektirana sistola, a *prominence* definira relativnu granicu iznad koje se detektira lokalni maksimum."
      ],
      "metadata": {
        "id": "-keKNjicbiI9"
      }
    },
    {
      "cell_type": "code",
      "source": [
        "  # Compute size of segmentation per frame\n",
        "                        size = (logit > 0).sum((1, 2))\n",
        "\n",
        "                        # Identify systole frames with peak detection\n",
        "                        trim_min = sorted(size)[round(len(size) ** 0.05)]\n",
        "                        trim_max = sorted(size)[round(len(size) ** 0.95)]\n",
        "                        trim_range = trim_max - trim_min\n",
        "                        systole = set(scipy.signal.find_peaks(-size, distance=20, prominence=(0.50 * trim_range))[0])\n",
        "\n",
        "                        # Write sizes and frames to file\n",
        "                        for (frame, s) in enumerate(size):\n",
        "                            g.write(\"{},{},{},{},{},{}\\n\".format(filename, frame, s, 1 if frame == large_index[i] else 0, 1 if frame == small_index[i] else 0, 1 if frame in systole else 0))\n"
      ],
      "metadata": {
        "id": "Ud7pmM59hZZO"
      },
      "execution_count": null,
      "outputs": []
    },
    {
      "cell_type": "markdown",
      "source": [
        "Sljedeći dijelovi koda služe za grafički prikazivanje rezultata segmentacije. Naime, prikazujemo vremensku ovisnost površine lijeve ventrikule uz korištenje modula *patplotlib.pyplot*. Prvo, iscrtavamo *scatter* graf koji se sastoji od vrijednosti iz tenzora *size*, a zatim uz pomoć metode *plot* iscrtavamo vertikalne ravne linije u vremenskim trenucima koji odgovaraju položaju sistole, odnosno minimalne površine lijeve ventrikule srca. Ovaj postupak je popraćen i dodatnim kodom koji se odnosi na uređivanje i labeliranje samog grafa."
      ],
      "metadata": {
        "id": "57nG4QIHhlct"
      }
    },
    {
      "cell_type": "code",
      "source": [
        "# Plot sizes\n",
        "                        fig = plt.figure(figsize=(size.shape[0] / 50 * 1.5, 3))\n",
        "                        plt.scatter(np.arange(size.shape[0]) / 50, size, s=1)\n",
        "                        ylim = plt.ylim()\n",
        "                        for s in systole:\n",
        "                            plt.plot(np.array([s, s]) / 50, ylim, linewidth=1)\n",
        "                        plt.ylim(ylim)\n",
        "                        plt.title(os.path.splitext(filename)[0])\n",
        "                        plt.xlabel(\"Seconds\")\n",
        "                        plt.ylabel(\"Size (pixels)\")\n",
        "                        plt.tight_layout()\n",
        "                        plt.savefig(os.path.join(output, \"size\", os.path.splitext(filename)[0] + \".pdf\"))\n",
        "                        plt.close(fig)"
      ],
      "metadata": {
        "id": "eADuiBIimJ4W"
      },
      "execution_count": null,
      "outputs": []
    },
    {
      "cell_type": "markdown",
      "source": [
        "Na samom početku se jednodimenzionalni tenzor *size* normalizira. Ukoliko se od vrijednosti svakog elementa tenzora oduzme minimalna vrijednost, a zatim podijeli sa maksimalnom vrijednosti takvog umanjenog tenzora, dobije se tenzor čije su vrijednosti unutar intervala [ 0 , 1 ]. \n",
        "U nastavku, iteriramo kroz elemente niza *size*, i na svakom *framae-u* videa bijelom bojom označavamo piksel videa koji je povezan sa  vrijednosti trenutnog elementa niza *size*, što rezultira tankom horizontalnom bijelom linijom. Sličan postupak se obavlja i ukoliko je trenutni element, jedan od frameova zabilježen u listi *systole*.\n",
        "\n",
        "Metoda *dash* stvara listu indeksa prema sljedećem pravilu. Ukoliko *dash* ima sljedeći poziv:\n",
        "\n",
        "*dash(10,30,on=2,off=5)* \n",
        "\n",
        ",tada je povratna vrijednost metode lista [10,11,17,18,24,25], odnosno listu *extenda* sa onoliko brojeva u nizu koliki je parametar on, krenuvši napočetku od broja *start*, zatim preskače *off* vrijednosti, ponovno dodaje *on* vrijednosti i tako u krug dok ne dostigne vrijednost definiranu parametrom *stop*.\n",
        "Ova lista služi za indeksiranje piksela koji obojiti u zeleno, ukoliko je trenutni *frame* od strane vanjskih ekperata označen kao *frame* u kojem je srce u položaju dijastole. Isto tako pikseli indeksirani na temelju ove liste će se obojiti u crveno ukoliko je trenutni *frame* označen kao *frame* u kojem se srce nalazi u položaju sistole. Ovakvo označavanje će rezultirati nizom jednako udaljenih, paralelnih o relativno debelih vertikalnih linija.\n",
        "\n",
        "Nadalje, iscrtavamo bijeli krug sa središtem određenim indeksom trenutnog *framea* i površinom lijeve ventrikule koja se nalazi na njemu, radiusa 4.1 incha.\n",
        "\n"
      ],
      "metadata": {
        "id": "_GgW08udmMaI"
      }
    },
    {
      "cell_type": "code",
      "source": [
        " # Normalize size to [0, 1]\n",
        "                        size -= size.min()\n",
        "                        size = size / size.max()\n",
        "                        size = 1 - size\n",
        "\n",
        "                        # Iterate the frames in this video\n",
        "                        for (f, s) in enumerate(size):\n",
        "\n",
        "                            # On all frames, mark a pixel for the size of the frame\n",
        "                            video[:, :, int(round(115 + 100 * s)), int(round(f / len(size) * 200 + 10))] = 255.\n",
        "\n",
        "                            if f in systole:\n",
        "                                # If frame is computer-selected systole, mark with a line\n",
        "                                video[:, :, 115:224, int(round(f / len(size) * 200 + 10))] = 255.\n",
        "\n",
        "                            def dash(start, stop, on=10, off=10):\n",
        "                                buf = []\n",
        "                                x = start\n",
        "                                while x < stop:\n",
        "                                    buf.extend(range(x, x + on))\n",
        "                                    x += on\n",
        "                                    x += off\n",
        "                                buf = np.array(buf)\n",
        "                                buf = buf[buf < stop]\n",
        "                                return buf\n",
        "                            d = dash(115, 224)\n",
        "\n",
        "                            if f == large_index[i]:\n",
        "                                # If frame is human-selected diastole, mark with green dashed line on all frames\n",
        "                                video[:, :, d, int(round(f / len(size) * 200 + 10))] = np.array([0, 225, 0]).reshape((1, 3, 1))\n",
        "                            if f == small_index[i]:\n",
        "                                # If frame is human-selected systole, mark with red dashed line on all frames\n",
        "                                video[:, :, d, int(round(f / len(size) * 200 + 10))] = np.array([0, 0, 225]).reshape((1, 3, 1))\n",
        "\n",
        "                            # Get pixels for a circle centered on the pixel\n",
        "                            r, c = skimage.draw.disk((int(round(115 + 100 * s)), int(round(f / len(size) * 200 + 10))), 4.1)\n",
        "\n",
        "                            # On the frame that's being shown, put a circle over the pixel\n",
        "                            video[f, :, r, c] = 255."
      ],
      "metadata": {
        "id": "plYGq6lS0QGV"
      },
      "execution_count": null,
      "outputs": []
    },
    {
      "cell_type": "markdown",
      "source": [
        "Na samom kraju, segmenitrani video transponiramo. Posjetimo on je do ovog trenutka bio tenzor oblika [ f , c , h , w ], a nakon transponiranja ima oblik [ c , f , h , w ]. Takav video spremamo u poddirektorij *videos* izlaznog direktorija (sa ekstenzijom .avi)."
      ],
      "metadata": {
        "id": "lsECt-j56yRU"
      }
    },
    {
      "cell_type": "code",
      "source": [
        "# Rearrange dimensions and save\n",
        "                        video = video.transpose(1, 0, 2, 3)\n",
        "                        video = video.astype(np.uint8)\n",
        "                        echonet.utils.savevideo(os.path.join(output, \"videos\", filename), video, 50)"
      ],
      "metadata": {
        "id": "7cVf3pHC7Lfj"
      },
      "execution_count": null,
      "outputs": []
    },
    {
      "cell_type": "markdown",
      "source": [
        ""
      ],
      "metadata": {
        "id": "hLp_mtIphaLW"
      }
    },
    {
      "cell_type": "markdown",
      "source": [
        "## utils/\\_\\_init\\_\\_.py"
      ],
      "metadata": {
        "id": "aSdQjj-GT5O5"
      }
    },
    {
      "cell_type": "markdown",
      "source": [
        "[link text](https://)### loadvideo()"
      ],
      "metadata": {
        "id": "Yc8Ui6bfVPdn"
      }
    },
    {
      "cell_type": "markdown",
      "source": [
        "Metoda za argument prima putanju/path do videa koji je potrebno učitati. Učitavanje se izvodi korištenjem cv2(OpenCV 2) modula. \n",
        "\n",
        "Prvo se putem `cv2.VideoCapture` metode definira video objekt iz kojeg se izvlače informacije o rezoluciji(width*height) i broju frame-ova videa. Podaci za video se zatim učitavaju frame-by-frame i to na način da se za svaki frame vrate R,G,B vrijednosti u obliku niza od 3 8-bitna integera/vrijednosti 0-255) za svaki njegov pixel.\n",
        "\n",
        "Nakon učitavanja podataka za sve frame-ove videa rezultat je tenzor čiji je format [frame][X][Y] = [R,G,B] odnosno [frame, height, width,channels]. Za potrebe našeg računanja želimo [channels, frame, height, width] format što postižemo korištenjem **numpy** `transpose()` metode koja mijenja položaj osi tenzora."
      ],
      "metadata": {
        "id": "RYIx1KHulm-b"
      }
    },
    {
      "cell_type": "code",
      "source": [
        "def loadvideo(filename: str) -> np.ndarray:\n",
        "\n",
        "    if not os.path.exists(filename):\n",
        "        raise FileNotFoundError(filename)\n",
        "    # Kreiraj video objekt\n",
        "    capture = cv2.VideoCapture(filename)\n",
        "\n",
        "    frame_count = int(capture.get(cv2.CAP_PROP_FRAME_COUNT))\n",
        "    frame_width = int(capture.get(cv2.CAP_PROP_FRAME_WIDTH))\n",
        "    frame_height = int(capture.get(cv2.CAP_PROP_FRAME_HEIGHT))\n",
        "    # Tensor [f,h,w,c] formata -> elementi tenzora su 3-člani nizovi 8-bitnih integera\n",
        "    v = np.zeros((frame_count, frame_height, frame_width, 3), np.uint8)\n",
        "\n",
        "    for count in range(frame_count):\n",
        "        # Frame-by-frame čitanje\n",
        "        ret, frame = capture.read()\n",
        "        # Ret označava je li frame procitan ispravno\n",
        "        # Frame je matrica s 3-članim nizovima kao elementima\n",
        "        if not ret:\n",
        "            raise ValueError(\"Failed to load frame #{} of {}.\".format(count, filename))\n",
        "        # Note that the default color format in OpenCV is often referred to as RGB but it is actually BGR (the bytes are reversed) -> pretvori u RGB format\n",
        "        frame = cv2.cvtColor(frame, cv2.COLOR_BGR2RGB)\n",
        "        # Za zadani frame postavi pročitane R,G,B vrijednosti za svaki piksel\n",
        "        v[count, :, :] = frame\n",
        "    # Transpose mehanizam -> 3. os trenutnog tenzora postaje prva os novog tenzora, prva os trenutnog tenzora postaje druga os novog tenzora itd.\n",
        "    # Prije: [f,h,w,c]\n",
        "    v = v.transpose((3, 0, 1, 2))\n",
        "    # Nakon: [c,f,h,w]\n",
        "\n",
        "    return v"
      ],
      "metadata": {
        "id": "8BUSTgVNo75e"
      },
      "execution_count": null,
      "outputs": []
    },
    {
      "cell_type": "markdown",
      "source": [
        "### savevideo()"
      ],
      "metadata": {
        "id": "rt07q-a4Uh6x"
      }
    },
    {
      "cell_type": "markdown",
      "source": [
        ""
      ],
      "metadata": {
        "id": "AN3hfT54VuwF"
      }
    },
    {
      "cell_type": "code",
      "source": [
        "def savevideo(filename: str, array: np.ndarray, fps: typing.Union[float, int] = 1):\n",
        "    c, _, height, width = array.shape\n",
        "\n",
        "    if c != 3:\n",
        "        raise ValueError(\"savevideo expects array of shape (channels=3, frames, height, width), got shape ({})\".format(\", \".join(map(str, array.shape))))\n",
        "    fourcc = cv2.VideoWriter_fourcc('M', 'J', 'P', 'G')\n",
        "    out = cv2.VideoWriter(filename, fourcc, fps, (width, height))\n",
        "\n",
        "                                # f, w ,h , c redoslijed\n",
        "    for frame in array.transpose((1, 2, 3, 0)):\n",
        "        frame = cv2.cvtColor(frame, cv2.COLOR_RGB2BGR)\n",
        "        out.write(frame)"
      ],
      "metadata": {
        "id": "HGHhdvmBVqjE"
      },
      "execution_count": null,
      "outputs": []
    },
    {
      "cell_type": "markdown",
      "source": [
        ""
      ],
      "metadata": {
        "id": "FDq3_br-Qgzq"
      }
    },
    {
      "cell_type": "markdown",
      "source": [
        "### get_mean_and_std()\n",
        "\n",
        "\n",
        "$$\n",
        "( \\frac{1}{n} \\sum_{i=i}^{n} x_{i} ) \\\\\n",
        " \\sqrt{\\frac{1}{N-1} \\sum_{i=1}^N (x_i - \\overline{x})^2}\n",
        "$$\n",
        "\n",
        "\n"
      ],
      "metadata": {
        "id": "7HQCboQLUo0V"
      }
    },
    {
      "cell_type": "markdown",
      "source": [
        ""
      ],
      "metadata": {
        "id": "_SzIGNIHV0v3"
      }
    },
    {
      "cell_type": "code",
      "source": [
        "def get_mean_and_std(dataset: torch.utils.data.Dataset,\n",
        "                     samples: int = 128,\n",
        "                     batch_size: int = 8,\n",
        "                     num_workers: int = 4):\n",
        "    \"\"\"Computes mean and std from samples from a Pytorch dataset.\n",
        "\n",
        "    Args:\n",
        "        dataset (torch.utils.data.Dataset): A Pytorch dataset.\n",
        "            ``dataset[i][0]'' is expected to be the i-th video in the dataset, which\n",
        "            should be a ``torch.Tensor'' of dimensions (channels=3, frames, height, width)\n",
        "        samples (int or None, optional): Number of samples to take from dataset. If ``None'', mean and\n",
        "            standard deviation are computed over all elements.\n",
        "            Defaults to 128.\n",
        "        batch_size (int, optional): how many samples per batch to load\n",
        "            Defaults to 8.\n",
        "        num_workers (int, optional): how many subprocesses to use for data\n",
        "            loading. If 0, the data will be loaded in the main process.\n",
        "            Defaults to 4.\n",
        "\n",
        "    Returns:\n",
        "       A tuple of the mean and standard deviation. Both are represented as np.array's of dimension (channels,).\n",
        "    \"\"\"\n",
        "\n",
        "    if samples is not None and len(dataset) > samples:\n",
        "        indices = np.random.choice(len(dataset), samples, replace=False)\n",
        "        dataset = torch.utils.data.Subset(dataset, indices)\n",
        "    dataloader = torch.utils.data.DataLoader(\n",
        "        dataset, batch_size=batch_size, num_workers=num_workers, shuffle=True)\n",
        "\n",
        "    n = 0  # number of elements taken (should be equal to samples by end of for loop)\n",
        "    s1 = 0.  # sum of elements along channels (ends up as np.array of dimension (channels,))\n",
        "    s2 = 0.  # sum of squares of elements along channels (ends up as np.array of dimension (channels,))\n",
        "    for (x, *_) in tqdm.tqdm(dataloader):\n",
        "        x = x.transpose(0, 1).contiguous().view(3, -1)\n",
        "        n += x.shape[1]\n",
        "        s1 += torch.sum(x, dim=1).numpy()\n",
        "        s2 += torch.sum(x ** 2, dim=1).numpy()\n",
        "    mean = s1 / n  # type: np.ndarray\n",
        "    std = np.sqrt(s2 / n - mean ** 2)  # type: np.ndarray\n",
        "\n",
        "    mean = mean.astype(np.float32)\n",
        "    std = std.astype(np.float32)\n",
        "\n",
        "    return mean, std"
      ],
      "metadata": {
        "id": "umOjWlHKVxDE"
      },
      "execution_count": null,
      "outputs": []
    },
    {
      "cell_type": "markdown",
      "source": [
        "### bootstrap()"
      ],
      "metadata": {
        "id": "EFPtkCWGUzuo"
      }
    },
    {
      "cell_type": "markdown",
      "source": [
        ""
      ],
      "metadata": {
        "id": "HQWDnJbbV5ao"
      }
    },
    {
      "cell_type": "code",
      "source": [
        "def bootstrap(a, b, func, samples=10000):\n",
        "    \"\"\"Computes a bootstrapped confidence intervals for ``func(a, b)''.\n",
        "\n",
        "    Args:\n",
        "        a (array_like): first argument to `func`.\n",
        "        b (array_like): second argument to `func`.\n",
        "        func (callable): Function to compute confidence intervals for.\n",
        "            ``dataset[i][0]'' is expected to be the i-th video in the dataset, which\n",
        "            should be a ``torch.Tensor'' of dimensions (channels=3, frames, height, width)\n",
        "        samples (int, optional): Number of samples to compute.\n",
        "            Defaults to 10000.\n",
        "\n",
        "    Returns:\n",
        "       A tuple of (`func(a, b)`, estimated 5-th percentile, estimated 95-th percentile).\n",
        "    \"\"\"\n",
        "    a = np.array(a)\n",
        "    b = np.array(b)\n",
        "\n",
        "    bootstraps = []\n",
        "    for _ in range(samples):\n",
        "        ind = np.random.choice(len(a), len(a))\n",
        "        bootstraps.append(func(a[ind], b[ind]))\n",
        "    bootstraps = sorted(bootstraps)\n",
        "\n",
        "    return func(a, b), bootstraps[round(0.05 * len(bootstraps))], bootstraps[round(0.95 * len(bootstraps))]"
      ],
      "metadata": {
        "id": "0ctjDKqCV5v5"
      },
      "execution_count": null,
      "outputs": []
    },
    {
      "cell_type": "markdown",
      "source": [
        "### dice_similarity_coefficient()"
      ],
      "metadata": {
        "id": "bzY_2uZHU5s3"
      }
    },
    {
      "cell_type": "markdown",
      "source": [
        ""
      ],
      "metadata": {
        "id": "GrgmfgFqV8n1"
      }
    },
    {
      "cell_type": "code",
      "source": [
        "def dice_similarity_coefficient(inter, union):\n",
        "    \"\"\"Computes the dice similarity coefficient.\n",
        "\n",
        "    Args:\n",
        "        inter (iterable): iterable of the intersections\n",
        "        union (iterable): iterable of the unions\n",
        "    \"\"\"\n",
        "    return 2 * sum(inter) / (sum(union) + sum(inter))"
      ],
      "metadata": {
        "id": "BG0Bro50V-4a"
      },
      "execution_count": null,
      "outputs": []
    },
    {
      "cell_type": "markdown",
      "source": [
        "## echo.py"
      ],
      "metadata": {
        "id": "-akTasgXE-JD"
      }
    },
    {
      "cell_type": "markdown",
      "source": [
        "Budući da želimo odvojiti način učitavanja i rukovanja s podacima od naše programske logike vezane uz segmentaciju zbog bolje modularnosti, čitljivosti i lakšeg održavanja kreiran je **echo.py** modul koji definira procedure koje će biti zajedničke svakoj instanci iz dataseta za treniranje, testiranje i validaciju. \n",
        "\n",
        "Zbog kompleksnosti domene računalnog vida, pisanje programskog koda za rukovanje s podacima \"od nule\" bilo bi iznimno zahtjevno i dugotrajno.\n",
        "\n",
        " Međutim, popularnost područja umjetne inteligencije i strojnog učenja u računalnom svijetu posljednih nekoliko desetljeća uz popratni eksponencijalni rast performansi hardeverskih tehnologija za posljedicu je imala razvoj različitih biblioteka i programskih okvira koji su znatno ubrzali i olakšali razvoj projekata u zadanim domenama.\n",
        "\n",
        " U prethodno navedene programske okvire spada i **PyTorch** koji je korišten u ovom projektu zajedno sa **TorchVision** bibliotekom integriranom unutar njega i specijaliziranom za područje računalnog vida.\n",
        "\n",
        " Kao i svaki programski okvir, **PyTorch** nam pruža različite funkcionalnosti kroz svoje sučelje s ciljem ponovnog korištenja logike koja je zajednička većini projekata u domeni strojnog učenja, ali uz paralelno smanjenje fleksibilnosti budući da moramo slijediti njegova \"pravila\".\n",
        "\n",
        " Upravo je takav princip korišten kod definiranja **dataloadera** za učitavanja dataseta i operacija nad samim instancama dataseta."
      ],
      "metadata": {
        "id": "mBYxE0nKFp3E"
      }
    },
    {
      "cell_type": "markdown",
      "source": [
        "### PyTorch Dataloader\n",
        "Osim definiranja načina učitavanja podataka za potrebe našeg modela, Dataloader služi kao i dodatna razina apstrakcije unutar PyTorch frameworka koja nam omogućava jednostavno iteriranje kroz učitane podatke. Svi parametri PyTorch Dataloader konstruktora navedeni su u [dokumentaciji](https://pytorch.org/docs/stable/data.html#torch.utils.data.DataLoader), a ovdje ćemo navesti one koji su korišteni u ovom projektu:\n",
        "- **dataset**: najvažniji argument koji odgovara prethodno kreiranoj dataset instanci. Više detalja u **PyTorch Dataset** poglavlju.\n",
        "- **batch_size**: jedan od najvažnijih hiperparametara modela koji može drastično utjecati na njegove performanse. Definira broj instanci dataset-a koje se obrađuju u jednoj iteraciji. U našem slučaju ovaj broj je 20 ili 10 ovisno o situaciji.\n",
        "- **num_workers**: broj podprocesa koji će biti korišteni prilikom učitavanja podataka. Ovaj parametar omogućuje paralelizaciju učitavanja podataka. Detaljnije na [linku](https://pytorch.org/docs/stable/data.html#single-and-multi-process-data-loading).\n",
        "- **shuffle**: definira hoće li se u svakoj epohi uzimati isti podaci po redu kako su navedeni(*false*) ili će se u svakoj epohi uzimati drukčiji podaci na random način(*true*). Ovaj parametar je dosta bitan ukoliko želimo izbjeći **overfitting** modela te ga pri tome postavljamo na *true*.\n",
        "- **pin_memory**: definira hoće li podaci učitani podaci biti kopirani u posebni \"pinned memeory\" dio koji služi za prijenos podataka između CPU host i GPU device. Ovaj parametar može značajno utjecati na brzinu prijenosa podataka između host i device, ali naravno zahtjeva dodatne resurse kod host-a. Više informacija o ovom mehanizmu: [članak](https://leimao.github.io/blog/Page-Locked-Host-Memory-Data-Transfer/), [NVIDIA](https://www.google.com/url?sa=t&rct=j&q=&esrc=s&source=web&cd=&ved=2ahUKEwirsMHB1LT4AhWC8rsIHRCuC5sQFnoECAcQAw&url=https%3A%2F%2Fengineering.purdue.edu%2F~smidkiff%2Fece563%2FNVidiaGPUTeachingToolkit%2FMod14DataXfer%2FMod14DataXfer.pdf&usg=AOvVaw3BIkpPbpyqs_hPKd0_-PBi)\n",
        "- **drop_last**: definira sto će se dogoditi s posljednjim batchem ukoliko ukupan broj instanci dataset-a nije djeljiv s batch_size parametrom. *True* će odbaciti zadnji batch iz kalkulacija, dok će *false* uzeti zadnji batch koji će naravno biti manje veličine od batch_size parametra\n",
        "- **collate_fn**: custom funkcija koja spaja instance unutar batch-a sa specificiranom veličinom u jedan tensor. Ukoliko ne specificiramo vlastitu metodu Dataloader će po defualtu spojiti instance dataset-a u formatu niza. `_video_collate_fn()` je primjer custom metode koju koristimo prilikom testiranja te je objašnjena u nastavku.\n",
        "\n",
        "Instanca Dataloadera je iterator koji prolazi kroz sve podatke te u svakoj iteraciji vraća broj instanci dataset-a specificiran u batch_size parametru unutar jednog tenzora."
      ],
      "metadata": {
        "id": "zTmG-p_Rz8zy"
      }
    },
    {
      "cell_type": "markdown",
      "source": [
        "#### _video_collate_fn()"
      ],
      "metadata": {
        "id": "oY7Z5-3aWqS5"
      }
    },
    {
      "cell_type": "markdown",
      "source": [
        "Uloga ove funkcije jest spajanje videa koji se nalaze u trenutnom batchu iteracije dataloadera. \n",
        "\n",
        "Svaka instanca dataset-a se dohvaća u formatu [channels, frame, height , width] specificiranom unutar **\\_\\_getitem()\\_\\_ metode. "
      ],
      "metadata": {
        "id": "4x_u-2Z0W_l_"
      }
    },
    {
      "cell_type": "code",
      "source": [
        "def _video_collate_fn(x):\n",
        "    \"\"\"Collate function for Pytorch dataloader to merge multiple videos.\n",
        "\n",
        "    This function should be used in a dataloader for a dataset that returns\n",
        "    a video as the first element, along with some (non-zero) tuple of\n",
        "    targets. Then, the input x is a list of tuples:\n",
        "      - x[i][0] is the i-th video in the batch\n",
        "      - x[i][1] are the targets for the i-th video\n",
        "\n",
        "    This function returns a 3-tuple:\n",
        "      - The first element is the videos concatenated along the frames\n",
        "        dimension. This is done so that videos of different lengths can be\n",
        "        processed together (tensors cannot be \"jagged\", so we cannot have\n",
        "        a dimension for video, and another for frames).\n",
        "      - The second element is contains the targets with no modification.\n",
        "      - The third element is a list of the lengths of the videos in frames.\n",
        "    \"\"\"\n",
        "    video, target = zip(*x)  # Extract the videos and targets\n",
        "\n",
        "    # ``video'' is a tuple of length ``batch_size''\n",
        "    #   Each element has shape (channels=3, frames, height, width)\n",
        "    #   height and width are expected to be the same across videos, but\n",
        "    #   frames can be different.\n",
        "\n",
        "    # ``target'' is also a tuple of length ``batch_size''\n",
        "    # Each element is a tuple of the targets for the item.\n",
        "\n",
        "    i = list(map(lambda t: t.shape[1], video))  # Extract lengths of videos in frames\n",
        "\n",
        "    # This contatenates the videos along the the frames dimension (basically\n",
        "    # playing the videos one after another). The frames dimension is then\n",
        "    # moved to be first.\n",
        "    # Resulting shape is (total frames, channels=3, height, width)\n",
        "    video = torch.as_tensor(np.swapaxes(np.concatenate(video, 1), 0, 1))#zamijeni prvu(channels) i drugu(frames) os tako da rezultat bude [frame, channel, h, w]\n",
        "\n",
        "    # Swap dimensions (approximately a transpose)\n",
        "    # Before: target[i][j] is the j-th target of element i\n",
        "    # After:  target[i][j] is the i-th target of element j\n",
        "    target = zip(*target)\n",
        "\n",
        "    return video, target, i"
      ],
      "metadata": {
        "id": "bgGWSot9W2U8"
      },
      "execution_count": null,
      "outputs": []
    },
    {
      "cell_type": "markdown",
      "source": [
        "### PyTorch Dataset\n",
        "PyTorch podržava 2 različita tipa/formata datasetova koji se razlikuju po načinu pristupanja:\n",
        "1. **map-style** datasets\n",
        "2. **iterable-style** datasets\n",
        "\n",
        "Za potrebe ovog projekta korišten je **map-style dataset** koji implementira **\\_\\_getitem\\_\\_**() i **\\_\\_len\\_\\_**() metode koje definiraju protokol pristupanja instancama sličan key-value pristupima unutar objekata ili hash mapa. \n",
        "\n",
        "Budući da je srž projekta segmentacija, kako bi imali dataset koji je kompatibilan s **Torchvision** metodama i modelom za segmentaciju potrebno je slijediti pravila programskog okvira koja nalažu da naš dataset moramo definirati kroz sučelje **torchvision.datasets.VisionDataset** klase. \n",
        "\n",
        "Ukoliko želimo koristiti vlastiti dataset(a ne neki javno dostupni i ugrađen u programski okvri) tada se procedura sastoji od nasljeđivanja **torchvision.datasets.VisionDataset** klase i definiranja vlastitog konstruktora(**\\_\\_init\\_\\_** metoda) te vlastitih **\\_\\_getitem\\_\\_**() i **\\_\\_len\\_\\_**() metoda.\n",
        "\n",
        "Upravo je to sadržaj **echo.py** datoteke čije ćemo dijelove objasniti u nastavku."
      ],
      "metadata": {
        "id": "oYByKY-t0AmZ"
      }
    },
    {
      "cell_type": "markdown",
      "source": [
        "### \\_\\_init\\_\\_()"
      ],
      "metadata": {
        "id": "0sSh5FjRNXv7"
      }
    },
    {
      "cell_type": "markdown",
      "source": [
        "Sukladno objektno-orijentiranoj paradigmi, funkcija konstruktora se automatski poziva prilikom kreiranja instance zadane klase(u našem slučaju je to instanca dataset-a). \n",
        "\n",
        "Prilikom kreiranja instance dataset-a u konstruktoru postavljamo određene parametre koji se tiču cjelokupnog dataset-a. Parametri se proslijeđuju kao argumenti konstruktora prilikom kreiranja instance te su navedeni u nastavku:\n",
        "- root (string): Root direktorij u kojem se nalazi dataset (default `echonet.config.DATA_DIR`)\n",
        "- split (string): Definira filter koji određuje koje instance dataset-a uzimamo u obzir ovisno o situaciji. To je ujedno i naziv stupca/labele u `FileList.csv` tablici koji omogućuje zadano filtriranje.  Moguće vrijendosti su:\n",
        "  - `train`(koriste se prilikom treniranja modela)\n",
        "  -  `val`(koriste se prilikom validacije modela)\n",
        "  - `test`(koriste se prilikom testiranja modela)\n",
        "  - `all`(uzmi sve podatke neovisno o labeli)\n",
        "  - `external_test`(uzmi eksterne podatke koji se nalaze na lokaciji specificiranoj u `external_test_location`\n",
        "- target_type (string or list, optional): parametar koji definira koje atribute od svih dostupnih ćemo uzeti u obzir za svaku instancu dataset-a. Svi mogući atributi su:\n",
        "  - `Filename`: ime video datoteke\n",
        "  - `EF(ejection-fraction)`: postotak volumena u odnosu na EDV koji srce potisne prilikom kontrakcije\n",
        "  - `EDV(end-diastolic volume)`: volumen srca u trenutku dijastole, najveći volumen prilikom ciklusa\n",
        "  - `ESV(end-systolic volume)`: volumen srca u trenutku sistole, najmanji volumen prilikom ciklusa\n",
        "  - `LargeIndex`: indeks frame-a videa u kojem se događa EDV\n",
        "  - `SmallIndex`: indeks frame-a videa u kojem se događa ESV\n",
        "  - `LargeFrame`: matrica frame-a videa u kojem se događa EDV s normaliziranim vrijednostima u intervalu [0-1]\n",
        "  - `SmallFrame`: matrica frame-a videa u kojem se događa ESV s normaliziranim vrijednostima u intervalu [0-1] \n",
        "  - `LargeTrace`: segmentacijska matrica `LargeFrame-a` u kojoj su pikseli koji su unutar lijeve komore/klijetke u EDV trenutku označeni s 1, a oni koji su izvan s 0\n",
        "  - `SmallTrace`: segmentacijska matrica `SmallFrame-a` u kojoj su pikseli koji su unutar lijeve komore/klijetke u ESV trenutku označeni s 1, a oni koji su izvan s 0\n",
        "- mean(int, float, or np.array shape=(3,), optional): aritmetička sredina za sve R,G,B kanale zajedno ili za svaki kanal odvojeno. Bitna kod normalizacije piksela videa.\n",
        "-std (int, float, or np.array shape=(3,), optional): standardna devijacija za sve R,G,B kanale zajedno ili za svaki kanal odvojeno. Bitna kod normalizacije piksela videa.\n",
        "- length (int or None, optional): ukupan točan broj frame-ova koje ćemo izvući iz videa. Ako je None uzimamo koliko je dopušteno s `max_length` parametrom.\n",
        "- period (int, optional): definira frameove koje ćemo ekstrahirati iz videa. Npr, ukoliko je period=2 ekstrahirat će se frameovi 1, 3, 5, ...\n",
        "- max_length (int or None, optional): definira maksimalni broj frame-ova koje ćemo uzeti iz videa. Ako je None nema ograničenja.\n",
        "- clips (int, optional): broj mini-videa koje ćemo uzorkovati unutar glavnog videa koji poštuju `length`, `max_length` i `period` vrijednosti. Default 1.\n",
        "- pad (int or None, optional): broj piksela koje je potrebno nadodati sa svake strane frame-a prilikom proširenja rezolucije. U tom slučaju u sredini će biti početni frame-ovi dok će rubovi biti obojani \"srednjom\" bojom frame-a(normalizirana vrijednost 0). \n",
        "- noise (float or None, optional): postotak piksela kod kojih ćemo dodati/uzrokovati šum radi poboljšanja robusnosti modela i smanjenja potencijalnog overfittinga.\n",
        "- target_transform (callable, optional): metoda koja prima sliku i labele te ih transformira na način zadan u metodi.\n",
        "- external_test_location (string): lokacija eksternih podatka za testiranje ukoliko je `split` postavljen na `external_test`\n",
        "\n",
        "Također, sukladno objektno-orijentiranoj paradigmi prilikom nasljeđivanja parent klase potrebno je u child klasi pozvati konstruktor parent klase(u našem slučaju **torchvision.datasets.VisionDataset**). Klasi se proslijeđuju `root` i `target_transform` parametri sukladno specifikaciji **PyTorcha**.\n",
        "\n",
        "Pristup instanci objekta klase za kojeg se poziva konsturktor u Pythonu je omogućen kroz **self** varijablu definiranu od strane Python okruženja i postavljene kao prvi parametar konstruktora.\n",
        "\n",
        "Inicijalizacija parametara koji se tiču cijelog dataset-a zajedno s predefiniranim vrijednostima parametara konsturuktora i pozivom parent klase prikazan je u sljedećem isječku."
      ],
      "metadata": {
        "id": "Y2yOA57Rgtt0"
      }
    },
    {
      "cell_type": "code",
      "source": [
        "    def __init__(self, root=None,\n",
        "                 split=\"train\", target_type=\"EF\",\n",
        "                 mean=0., std=1.,\n",
        "                 length=16, period=2,\n",
        "                 max_length=250,\n",
        "                 clips=1,\n",
        "                 pad=None,\n",
        "                 noise=None,\n",
        "                 target_transform=None,\n",
        "                 external_test_location=None):\n",
        "        if root is None:\n",
        "            root = echonet.config.DATA_DIR\n",
        "\n",
        "        super().__init__(root, target_transform=target_transform)\n",
        "\n",
        "        self.split = split.upper()\n",
        "        if not isinstance(target_type, list):\n",
        "            target_type = [target_type]\n",
        "        self.target_type = target_type\n",
        "        self.mean = mean\n",
        "        self.std = std\n",
        "        self.length = length\n",
        "        self.max_length = max_length\n",
        "        self.period = period\n",
        "        self.clips = clips\n",
        "        self.pad = pad\n",
        "        self.noise = noise\n",
        "        self.target_transform = target_transform\n",
        "        self.external_test_location = external_test_location"
      ],
      "metadata": {
        "id": "LBOpmKvmia9Z"
      },
      "execution_count": null,
      "outputs": []
    },
    {
      "cell_type": "markdown",
      "source": [
        "Nakon inicijalizacije svih parametara prvi korak je učitavanje podataka vezanih za instance dataset-a koje ćemo koristiti. Podaci su pohranjeni u 2 osnovne datoteke:\n",
        "- FileList.csv\n",
        "- VolumeTracings.csv\n",
        "\n",
        "Prvo ćemo dohvatit podatke iz FileList.csv datoteke korištenjem `pandas.read_csv()` metode koja nam omogućuje manipulaciju sa .csv datotekama. `header` atribut će se postaviti na listu imena stupaca tablice, dok će `value` atribut biti niz koji će kao članove sadržavati vrijednosti redaka tablice za svaki video također u obliku niza. Također, moguće je specificiranjem imena stupca dobiti sve vrijednosti tog stupca korištenjem `x[ime_stupca]` sintakse.\n",
        "\n",
        "`header` vrijednost ćemo spremiti u `self.header` varijablu, `value` u `self.outcome` te ćemo u `self.fnames` pohraniti imena svih datoteka koje sadrže videa."
      ],
      "metadata": {
        "id": "H-98YTNMF8C7"
      }
    },
    {
      "cell_type": "code",
      "source": [
        "        self.fnames, self.outcome = [], []\n",
        "\n",
        "        if self.split == \"EXTERNAL_TEST\":\n",
        "            self.fnames = sorted(os.listdir(self.external_test_location))\n",
        "        else:\n",
        "            # Učitaj \"FileList.csv\" datoteku\n",
        "            with open(os.path.join(self.root, \"FileList.csv\")) as f:\n",
        "                data = pandas.read_csv(f)\n",
        "            # Osiguraj da su sve vrijednosti \"Split\" stupca napisane velikim slovima\n",
        "            data[\"Split\"].map(lambda x: x.upper())\n",
        "\n",
        "            if self.split != \"ALL\":\n",
        "                # Uzmi samo one datoteke/videa koji imaju vrijednost \"Split\" atributa jednaku onoj proslijeđenoj u konstruktor\n",
        "                data = data[data[\"Split\"] == self.split]\n",
        "                # U suprotnome uzmi sve datoteke/videa\n",
        "\n",
        "            # Imena stupaca tablice\n",
        "            self.header = data.columns.tolist()\n",
        "            # Imena svih datoteka/videa tablice\n",
        "            self.fnames = data[\"FileName\"].tolist()\n",
        "            # Ukoliko ime nema ekstenziju po defaultu postavi da je riječ o avi formatu\n",
        "            self.fnames = [fn + \".avi\" for fn in self.fnames if os.path.splitext(fn)[1] == \"\"]\n",
        "            # Tenzor koji sadržava vrijednosti atributa tablice svih redaka\n",
        "            self.outcome = data.values.tolist()\n",
        "\n",
        "            # Broj redaka tablice(videa) mora biti jednak broju dostupnih videa odnosno svi videi koji se javljaju u tablici moraju biti dostupni\n",
        "            # Kako provjeriti? \n",
        "            # Duljina self.fnames mora biti jednaka broju datoteka videa u direktoriju\n",
        "            # Python -> razlika set()-ova jednaka je razlici broja elemenata set()-ova\n",
        "            missing = set(self.fnames) - set(os.listdir(os.path.join(self.root, \"Videos\")))\n",
        "            if len(missing) != 0:\n",
        "                print(\"{} videos could not be found in {}:\".format(len(missing), os.path.join(self.root, \"Videos\")))\n",
        "                for f in sorted(missing):\n",
        "                    print(\"\\t\", f)\n",
        "                raise FileNotFoundError(os.path.join(self.root, \"Videos\", sorted(missing)[0]))"
      ],
      "metadata": {
        "id": "g0_IUSdMGKS0"
      },
      "execution_count": null,
      "outputs": []
    },
    {
      "cell_type": "markdown",
      "source": [
        "Time smo učitali sve podatke vezane uz Filelist.csv datoteku.\n",
        "\n",
        "Značenja atributa tablice iz VolumeTracings.csv datoteke nisu intuitivna za razliku od onih iz Filelist.csv datoteke te su usko vezani uz problematiku koju pokušavamo rješiti u našem slučaju.\n",
        "\n",
        "**[STAVI OVDE PRVU SLIKU FILE-A]**\n",
        "\n",
        "Prisjetimo se, naš cilj je segmentirati lijevu komoru/klijetku srca na videozapisu. Kako bi naš model mogao \"naučiti\" razlikovati lijevu klijetku od ostatka srca mi ga moramo istrenirati na način da mu na velikom broju slika označimo gdje se nalazi lijeva klijetka. Upravo je to uloga VolumeTracings.csv datoteke.\n",
        "\n",
        "Međutim, preostaje jedno važno pitanje: Kako računalu na efektivan način predstaviti gdje se na slici/frameu nalazi lijeva komora/klijetka?\n",
        "\n",
        "Neki početni *bruteforce* odgovor bi bio da svakoj slici pridružimo bitmapu koja će s 1 označiti pixele koji predstavljaju lijevu komoru a s 0 ostale piksele. Lako je zaključiti da je ovakav pristup iznimno neefikasan kako memorijski tako i vremenski za labeliranje podataka.\n",
        "\n",
        "U ovom projektu je stoga korištena kreativna ideja u vidu predstavljanja lijeve komore/klijetke dužinama kao što je prikazano na idućoj slici:\n",
        "\n",
        "**[STAVI OVDE DRUGU SLIKU IZ ČLANKA]**\n",
        "\n",
        "Svaka dužina definirana je s 2 točke od kojih svaka ima vlastitu x i y koordinatu unutar koordinatnog sustava slike. Ukoliko povežemo točke dužina ravnim linijama dobit ćemo poligon koji omeđuje lijevu komoru/klijetku srca te ćemo njenu poziciju na slici moći predočiti računalu. \n",
        "\n",
        "VolumeTracings.csv datoteka sadrži koordinate prve(X1,Y1) i druge(X2,Y2) točke dužina grupiranih po imenu videa definiranog u \"FileName\" stupcu i frame-u čiji je redni broj definiran u \"Frame\" stupcu. \n",
        "\n",
        "Način označavanja lijeve komore/klijetke na slici će biti detaljnjije obrađen kasnije. \n",
        "\n",
        "Podatke iz VolumeTracings.csv datoteke ćemo spremati u **self.frames** i **self.trace** atribute koji će biti **collections.defaultdict** Python [tipa](https://www.geeksforgeeks.org/defaultdict-in-python/) koji radi na key-value principu."
      ],
      "metadata": {
        "id": "vCCawydQMXo6"
      }
    },
    {
      "cell_type": "code",
      "source": [
        "self.frames = collections.defaultdict(list)\n",
        "self.trace = collections.defaultdict(_defaultdict_of_lists)\n",
        "\n",
        "def _defaultdict_of_lists():\n",
        "    return collections.defaultdict(list)"
      ],
      "metadata": {
        "id": "gmTARqLBTSCz"
      },
      "execution_count": null,
      "outputs": []
    },
    {
      "cell_type": "markdown",
      "source": [
        "Vidimo da će **self.frames** za value dio sadržavati listu, dok će **self.trace** za value dio sadržavati drugi dictionary koji će zatim za svoj value dio sadržavati listu.Ove razine indeksiranja bit će jasnije kada objasnimo značenje ovih atributa.\n",
        "\n",
        "Uloga **self.frames** atributa je da za svaku datoteku/video za koji imamo podatak u VolumeTracings.csv datoteci zapišemo listu rednih brojeva frame-ova za koje su definirani podaci. Key će biti ime datoteke dok će value biti lista indeksa frame-ova.\n",
        "\n",
        "Uloga **self.trace** atributa je da za svaku datoteku/video za koji imamo podatak u VolumeTracings.csv datoteci za svaki njegov frame zapišemo listu u kojoj će svaki član biti niz od 4 člana koji predstavljaju x1, y1, x2, y2 koordinate točaka dužine. Svi članovi liste za zadani frame predstavljaju potpuni prikaz/oznaku lijeve komore/klijetke srca na zadanom frame-u.\n",
        "\n",
        "Programski kod za inicijalizaciju ovih atributa je sljedeći:\n",
        "\n"
      ],
      "metadata": {
        "id": "SPwbMVaHTlfR"
      }
    },
    {
      "cell_type": "code",
      "source": [
        "             with open(os.path.join(self.root, \"VolumeTracings.csv\")) as f:\n",
        "                header = f.readline().strip().split(\",\")\n",
        "                assert header == [\"FileName\", \"X1\", \"Y1\", \"X2\", \"Y2\", \"Frame\"]\n",
        "                for line in f:\n",
        "                    # line = redak tablice, vrijednosti retka su odvojene zarezom pa ih parsiramo prema tom formatu\n",
        "                    filename, x1, y1, x2, y2, frame = line.strip().split(',')\n",
        "                    x1 = float(x1)\n",
        "                    y1 = float(y1)\n",
        "                    x2 = float(x2)\n",
        "                    y2 = float(y2)\n",
        "                    frame = int(frame)\n",
        "                    if frame not in self.trace[filename]:\n",
        "                        # Dodaj redni broj frame-a u za zadani file za kojeg imamo podatke\n",
        "                        self.frames[filename].append(frame)\n",
        "                    # Dodaj koordinate dužine za zadani file i zadani frame u formatu Python liste\n",
        "                    self.trace[filename][frame].append((x1, y1, x2, y2))\n",
        "            for filename in self.frames:\n",
        "                for frame in self.frames[filename]:\n",
        "                    #Pretvori iz tliste u NumPy niz\n",
        "                    self.trace[filename][frame] = np.array(self.trace[filename][frame])\n",
        "\n",
        "            # Zadrzi podatke samo za ona videa koji imaju podatke u VolumeTracings.csv datoteci\n",
        "            # U slucaju da neki videi nemaju zadane tracing podatke\n",
        "            keep = [len(self.frames[f]) >= 2 for f in self.fnames]\n",
        "            self.fnames = [f for (f, k) in zip(self.fnames, keep) if k]\n",
        "            self.outcome = [f for (f, k) in zip(self.outcome, keep) if k]"
      ],
      "metadata": {
        "id": "E01LF2jLXaVL"
      },
      "execution_count": null,
      "outputs": []
    },
    {
      "cell_type": "markdown",
      "source": [
        "Time je završena obrada uloge i same implementacija **\\_\\_init\\_\\_()** konstruktora našeg dataset-a."
      ],
      "metadata": {
        "id": "g3zdaeqlY5kr"
      }
    },
    {
      "cell_type": "markdown",
      "source": [
        "### **\\_\\_getitem()\\_\\_**\n",
        "\n",
        "\n",
        "\n"
      ],
      "metadata": {
        "id": "gl33J_kaZaFy"
      }
    },
    {
      "cell_type": "markdown",
      "source": [
        "Kao što je prethodno rečeno, u našem projektu koristimo **map-style** dataset u kojem podacima pristupa preko key-value mehanizma. Prilikom učitavanja svake instance dataset-a **PyTorch** će pozvati ovu metodu za svaku instancu te joj automatski proslijediti `index` parametar u metodu koji označava index(redni broj-1) videa unutar direktorija iz kojeg se učitavaju podaci.\n",
        "\n",
        "Prvi korak u metodi je učitavanje videa specificiranog zadanim indeksom. Budući da je redoslijed videa u direktoriju jednak redoslijedu redaka u FileList.csv datoteci možemo koristit **self.fnames** listu definiranu unutar konstruktora koja će nam za zadani `index` vratiti ime datoteke/videa koje nam je potrebno za njegovo učitavanje. Učitavanje videa ćemo raditi korištenjem `loadvideo()` utility funkcije."
      ],
      "metadata": {
        "id": "t-NoiPQ6ZwEj"
      }
    },
    {
      "cell_type": "markdown",
      "source": [
        "Nakon poziva `loadvideo()` metode imamo tenzor koji sadrži podatke o R,G,B vrijednostima za svaki frame i svaki piksel na frame-u i to u [channel, frame, height, width] formatu."
      ],
      "metadata": {
        "id": "oReyWrFsq1N7"
      }
    },
    {
      "cell_type": "code",
      "source": [
        "    def __getitem__(self, index):\n",
        "        #index= INDEX videa u direktoriju odakle se dohvaćaju podaci\n",
        "        # Find filename of video\n",
        "        if self.split == \"EXTERNAL_TEST\":\n",
        "            video = os.path.join(self.external_test_location, self.fnames[index])\n",
        "        elif self.split == \"CLINICAL_TEST\":\n",
        "            video = os.path.join(self.root, \"ProcessedStrainStudyA4c\", self.fnames[index])\n",
        "        else:\n",
        "            video = os.path.join(self.root, \"Videos\", self.fnames[index])\n",
        "\n",
        "        # Load video into np.array\n",
        "        #format c,f,h,w\n",
        "        video = echonet.utils.loadvideo(video).astype(np.float32)"
      ],
      "metadata": {
        "id": "Bmg3hpRrvq9y"
      },
      "execution_count": null,
      "outputs": []
    },
    {
      "cell_type": "markdown",
      "source": [
        "Idući korak je provjera potrebe za ubacivanjem šuma u učitane podatke ukoliko je to bilo definirano s **noise** parametrom konstruktora koji definira postotak piksela na kojima će biti kreiran šum.. \n",
        "\n",
        "Šum se sastoji u postavljanju crne boje odnosno vrijednosti 0 za R,G,B vrijednosti budući da vrijednosti boja još nisu normalizirane u ovom trenutku.\n",
        "\n",
        "Budući da **noise** parametar predstavlja postotak piksela u videu kod kojih ćemo postaviti šum prvo moramo izračunati ukupan broj piksela videa koji se dobije prema formuli:\n",
        "\n",
        "\n",
        "```\n",
        "broj_pixela = broj_frameova * broj_redaka * broj_stupaca\n",
        "```\n",
        "\n",
        "Od ukupnog broja pixela u njih `self.noise * broj_pixela` će biti umetnut šum. Budući da je i ideja samog šuma u random smetnji tada ćemo na slučajan/random način izabrati `self.noise * broj_pixela` indeksa u rasponu od 0 do `broj_pixela`.\n",
        "\n",
        "Nakon odabira indeksa budući da je naš video objekt u formatu [channel, frame, height, width] moramo se vratiti u njegovu indeksaciju odnosno iz odabranog indeksa dobiti informaciju o kojem je frame-u riječ i o kojim je x,y koordinatama piksela unutar frame-a riječ.\n",
        "\n"
      ],
      "metadata": {
        "id": "BvAobnQZrTSb"
      }
    },
    {
      "cell_type": "code",
      "source": [
        "          if self.noise is not None:\n",
        "            # Ukupan broj pixela u cijelom videu\n",
        "            n = video.shape[1] * video.shape[2] * video.shape[3]\n",
        "            # Odaberi na random način indekse piksela u koje ćemo unijeti šum\n",
        "            # Biramo self.noise * n indeksa u rasponu 0- n\n",
        "            ind = np.random.choice(n, round(self.noise * n), replace=False)\n",
        "            # Vrati se u [c,f,h,w] indeksaciju\n",
        "            f = ind % video.shape[1]\n",
        "            ind //= video.shape[1]\n",
        "            i = ind % video.shape[2]\n",
        "            ind //= video.shape[2]\n",
        "            j = ind\n",
        "            # Postavi R,G,B vrijednosti na 0 -> crna boja = šum\n",
        "            video[:, f, i, j] = 0"
      ],
      "metadata": {
        "id": "tk6HGzZ-v4X6"
      },
      "execution_count": null,
      "outputs": []
    },
    {
      "cell_type": "markdown",
      "source": [
        "Nakon opcionalnog ubacivanja šumova slijedi obvezna normalizacija R,G,B vrijednosti na raspon [0-1] i to korištenjem formule za jediničnu normalnu varijablu z:\n",
        "\n",
        "\n",
        "```\n",
        "z = (x - μ) / σ\n",
        "```\n",
        "\n",
        "Uočavamo da su za normalizaciju potrebne prethodno izračunate artmetička sredina i standardna devijacija izračunate posebno za svaki kanal i proslijeđene u konstruktor. Kako bi mogli dijeliti video tenzor [channel, frame, height, width] formata po svakom kanalu s odgovarajućom aritmetičkom sredinom i standardnom devijacijom za zadani kanal potrebno je pretvoriti aritmetičku sredinu i standardnu devijaciju u tenzore dimenzija [3, 1, 1 ,1]\n",
        "\n"
      ],
      "metadata": {
        "id": "GTjTsG7kwzR7"
      }
    },
    {
      "cell_type": "code",
      "source": [
        "        if isinstance(self.mean, (float, int)):\n",
        "            video -= self.mean\n",
        "        else:\n",
        "            video -= self.mean.reshape(3, 1, 1, 1)\n",
        "\n",
        "        if isinstance(self.std, (float, int)):\n",
        "            video /= self.std\n",
        "        else:\n",
        "            video /= self.std.reshape(3, 1, 1, 1)"
      ],
      "metadata": {
        "id": "OMreCLSByrAq"
      },
      "execution_count": null,
      "outputs": []
    },
    {
      "cell_type": "markdown",
      "source": [
        "Sljedeći korak je osiguravanje kriterija postavljenih s `length`, `max_length` i `period` parametrima konstruktora. \n",
        "\n",
        "Prisjetimo se da `length` definira točan broj frame-ova koje će sadržavati video(ukoliko je specificiran, u suprotnome uzimamo sve frame-ove koje možemo) dok `max_length` definira maksimalan broj frame-ova koje video može sadržavati. \n",
        "\n",
        "Broj frame-ova koje ćemo uzeti u razmatranje ovisi o `period` parametru koji definira period uzorkovanja frame-ova videa. Npr. ukoliko naš video ima 20 frame-ova a uzorkujemo svaki drugi frame tada će rezultantni video imati 20 / 2 = 10 frame-ova. \n",
        "\n",
        "Također, potrebno je osigurati da veličina krajnjeg rezultatnog videa bude manja od `max_length` vrijednosti, ali u isto vrijeme i barem jednaka `length` vrijednosti ukoliko je ona specificirana.\n",
        "\n",
        "Ukoliko je veća od `max_length` uzimamo samo prvih `max_length` frame-ova.\n",
        "\n",
        "Ukoliko je manja od `length` *paddamo* video na njegovom kraju na način da frame-ove koji nedostaju dodamo na kraj videa te njihove R,G,B vrijdnosti postavimo u 0.\n",
        "> Napomena: za razliku od umetanja šuma u ovom trenutku R,G,B vrijednosti su normalizirane pa vrijendost 0 predstavlja vrijednost aritmeticke sredine izvornih R,G,B boja."
      ],
      "metadata": {
        "id": "MLKfLEHF2qEL"
      }
    },
    {
      "cell_type": "code",
      "source": [
        "        c, f, h, w = video.shape\n",
        "        if self.length is None:\n",
        "            # length označava broj frame-ova uzorkovanog videa\n",
        "            length = f // self.period\n",
        "        else:\n",
        "            # Rezultantni video mora imati točno length frame-ova\n",
        "            length = self.length\n",
        "\n",
        "        if self.max_length is not None:\n",
        "            # Uzmi prvih max_length frame-ova ako je length > max_length\n",
        "            length = min(length, self.max_length)\n",
        "\n",
        "        #Broj frameova rezultantog videa manji od broja frameova specificranog u length(za slučaj None uvijek prolazi)\n",
        "        if f < length * self.period:\n",
        "            # Paddamo video s frame-ovima pri kraju i to za onoliko frame-ova koliko nam nedostaje do željene duljine\n",
        "            video = np.concatenate((video, np.zeros((c, length * self.period - f, h, w), video.dtype)), axis=1)\n",
        "            c, f, h, w = video.shape  # pylint: disable=E0633"
      ],
      "metadata": {
        "id": "3FxZnSyW2x34"
      },
      "execution_count": null,
      "outputs": []
    },
    {
      "cell_type": "markdown",
      "source": [
        "Sljedeći dio koda je vezan uz uzorkovanje i dijeljenje videa u manje dijelove tzv. clipove. Ova značajka može biti korisna za povećanje broja instanci na način da iz jednog videa dobijemo veći broj manjih videa i time umjetno povećamo broj videa na način da unutar jednog video objekta imamo više zasebnih clipova. Ovo može biti korisno prilikom testiranja modela jer tada izvodimo predikcije na odabranih tipovima podataka, a ovim postupkom povećavamo veličinu testnog seta.\n",
        "\n",
        "Ukoliko je parametar postavljen na ključnu riječ \"all\" tada uzimamo sve moguće clipove unutar videa. Npr. svi mogući clipovi duljine 5 frame-ova unutar videa duljine 10 frame-ova bi bili [1,2,3,4,5], [2,3,4,5,6], ... Zaključujemo da se samo shiftamo za jedan frame udesno. Krajnja granica do koje se možemo shiftati je onaj frame nakon kojeg postoji još `length` frame-ova do kraja videa odnosno:\n",
        "\n",
        "\n",
        "```\n",
        "zadnji_indeks = broj_frameova - (length - 1) * period_uzorkovanja\n",
        "```\n",
        "što je upravo i definirano u kodu.\n",
        "\n",
        "Ukoliko je **self.clips** postavljen na broj tada iz videa želimo izvući **self.clips** clipova duljine `length`. Logika uvjeta za zadnji indeks je ista samo što za razliku od \"all\" slučaja ne uzimamo sve indekse u rasponu od [0 - zadnji_indeks] već na random način u tom rasponu biramo **self.clips** početnih indeksa. Ukoliko je **self.cips** postavljen na 1 te uzorkujemo cijeli video(`length = None`) tada će rezultat biti cijeli video uzorkovan specificiranom sample frekvencijom.\n",
        "\n",
        "Odabrane indekse početaka clipov spremamo u start niz.\n",
        "\n"
      ],
      "metadata": {
        "id": "fDItcoAL8x1s"
      }
    },
    {
      "cell_type": "code",
      "source": [
        "        if self.clips == \"all\":\n",
        "            start = np.arange(f - (length - 1) * self.period)\n",
        "        else:\n",
        "            start = np.random.choice(f - (length - 1) * self.period, self.clips)"
      ],
      "metadata": {
        "id": "lBOe9LUg8yQF"
      },
      "execution_count": null,
      "outputs": []
    },
    {
      "cell_type": "markdown",
      "source": [
        "Prilikom definiranja argumenata konstruktora spomenuli smo `target_type` parametar koji definira atribute koje ćemo pridružiti svakoj instanci dataset-a/videu. Mogući atributi su prethodno navedeni prilikom definiranja parametara konstruktora, a u nastavku su prikazani načini njihove inicijalizacije:\n",
        "\n",
        "- Filename: možemo ga lako dohvatiti iz **self.fnames** preko `indexa` koji se proslijeđuje **\\_\\_getitem\\_\\_** metodi\n",
        "- LargeIndex: za svaki video imamo pohranjene indekse svih frame-ova koji imaju podatke u VolumeTracings.csv datoteci u **self.frames**. Budući da je riječ o dijastoli, podaci za dijastolu će u tablici uvijek biti posljednje navedeni pa uzimamo zadnji član **self.frames** niza za video određen `indexom`.\n",
        "- SmallIndex: ista logika kao za `LargeIndex` samo što su u ovom slučaju podaci za sistolu navedeni odmah na početku pa uzimamo zadnji član **self.frames** niza za video određen `indexom`.\n",
        "- LargeFrame: podaci za frame na `LargeIndex` poziciji. Budući da smo dohvatili video u [channel, frame, height, width] formatu za dohvat podataka potrebno je samo specificirati indeks frame-a, a on je identičan `LargeIndex`\n",
        "- SmallFrame: podaci za frame na `SmallIndex` poziciji. Budući da smo dohvatili video u [channel, frame, height, width] formatu za dohvat podataka potrebno je samo specificirati indeks frame-a, a on je identičan `SmallIndex`\n",
        "- LargeTrace i SmallTrace: želimo dohvatiti podatke iz VolumeTracings.csv datoteke za frame definiran s `LargeIndex/SmallIndex`. Prethodno smo u konstruktoru pohranili VolumeTracings.csv podatke u **self.trace** dictionary grupirane po imenu videa i indeksu frame-a pri čemu su podaci pohranjeni u obliku liste 4-članih nizova (x1, y1, x2, y2). U našem slučaju imamo definirano ime videa kroz `index` parametar te znamo indeks frame-a preko `LargeIndex/SmallIndex` varijable pa stoga možemo na jednostavan način dohvatiti podatke o dužinama za zadani frame. \n",
        "\n",
        "Ovdje ćemo se još malo zadržati na `LargeTrace` i `SmallTrace` targetima. Naime, predstavljanje lijeve komore/klijetke korištenjem dužina je iznimno domišljato i efektivno rješenje prilikom definiranja dataset-a. Međutim, računalo će na koncu raditi s pikselima slike te ga moramo istrenirati kako bi na zadanom frame-u uočilo i segmentiralo lijevu komoru/klijetku srca. \n",
        "\n",
        "Osnova svakog treniranja modela jest postavljanje inputa u neuralnu mrežu te usporedba rezultata/izlaza mreže s očekivanim rezultatima. Na osnovu izlazne greške model ažurira svoje težine preko tzv. *backpropagation* postupka  s ciljem smanjivanja greške uz uvijek prisutni potencijalni rizik od *overfitta*. \n",
        "\n",
        "Izlaz segmentacijskog modela u našem slučaju će biti bitovna matrica svakog frame-a u kojoj će vrijednost 1 imati pikseli za koje model smatra da predstavljaju lijevu komoru/klijetku a ostali pikseli će biti 0. \n",
        "\n",
        "Kako bi mogli na efektivan način usporediti izlaze modela sa željenim izlazima koji su opisani preko modela dužina u VolumeTracings.csv datoteci potrebno je zadani model dužina također pretočiti u prikaz bitovne matrice.\n",
        "\n",
        "Spajanjem točaka dužina ravnim linijama dobit ćemo poligon koji predstavlja lijevu komoru/klijetku. \n",
        "\n",
        "[STAVI SLIKU KO IZ ČLANKA DI SPAJAŠ TOČKE DUŽINA]\n",
        "\n",
        "Niz 4-članih nizova formata [x1, y1, x2, y2] pretvorimo u 4 zasebna niza od kojih će svi biti jednake dužine te će zasebno predstavljati x1, y1, x2, i y2 koordinate. \n",
        "\n",
        "Bitan faktor u našem postupku povezivanja točaka dužina jest svojstvo dataset-a koji je definiran na način da su točke u VolumeTracings.csv datoteci sortirane uzlazno po Y1 parametru. \n",
        "\n",
        "Budući da je ishodište koordinatnog sustava slike u **gornjem lijevom kutu** zaključujemo da su točke (x1,y1) točke koje definiraju lijevi dio komore dok su točke (x2,y2) točke koje definiraju desnu stranu komore pri čemu Y2 < Y1 zbog čega su dužine nagnute kako je prikazano na prethodnoj slici. Točke (x1,y1) su sortirane uzlazno po Y1 parametru što znači da su navedene od vrha prema dnu slike. \n",
        "\n",
        "Također, prve 2 točke (x1,y1) i (x2,y2) označavaju glavnu središnju liniju(vidljivu na slici) koja nam prilikom iscrtavanja poligona nije bitna pa stoga nećemo uzeti u obzir koordinate tih točaka.\n",
        "\n",
        "Krenemo s iscrtavanjem od prve/najgornje točke (x1,y1) te povezujemo sve (x1,y1) točke s lijeve strane komore. \n",
        "\n",
        "Nakon što smo došli do zadnje točke potrebno je nastaviti s povezivanjem (x2,y2) točaka na desnoj strani komore.\n",
        "\n",
        "Međutim, naši nizovi X1, Y1, X2, Y2 su definirani prema redoslijedu sparivanja (x1,y1) i (x2,y2) dužina odnosno prvi član X2 i Y2 niza odgovaraju točki dužine koja počinje s najgornjom točkom (x1,y1). \n",
        "\n",
        "Nakon iscrtavanje lijeve strane komore nalazimo se na posljednjoj/najdonjoj točki. Kako bi nastavili s povezivanjem poligona iduća točka bi trebala biti najdonja točka desne strane komore koja odgovara zadnjim članovima nizova X2 i Y2 te ćemo povezivanje nastaviti sve do najgornje točke. \n",
        "\n",
        "Stoga zaključujemo da ćemo prilikom iscrtavanja **invertirati** nizove X2 i Y2.\n",
        "\n",
        "Za iscrtavanje poligona koristit ćemo `skimage.draw.polygon` metodu koja prima nizove X i Y koordinata točaka koje se povezuju po redoslijedu nizova te dimenzije slike/matrice u čijem koordinatnom sustavu se odvija iscrtavanje. Bitna stvar ove metode je njena povratna vrijednost koja odgovara nizovima X i Y koordinata točaka koji se nalaze **unutar** iscrtanog poligona što u našem konkretnom slučaju predstavlja područje lijeve komore/klijetke.\n",
        "\n",
        "Bitmapu generiramo na način da prvo inicijaliziramo matricu veličine frame-a na vrijednosti 0 te one piksele čije je koordinate vratila `skimage.draw.polygon` metoda postavimo na 1.\n",
        "\n",
        "Programska implementacija prethodno navedenih principa je realizirana sljedećim programskim kodom:"
      ],
      "metadata": {
        "id": "oaa_gW1M3IJ1"
      }
    },
    {
      "cell_type": "code",
      "source": [
        "        # Postavi specificirane targete\n",
        "        target = []\n",
        "        for t in self.target_type:\n",
        "            key = self.fnames[index]\n",
        "            if t == \"Filename\":\n",
        "                target.append(self.fnames[index])\n",
        "            elif t == \"LargeIndex\":\n",
        "                # Index = -1 -> posljednji član\n",
        "                target.append(np.int(self.frames[key][-1]))\n",
        "            elif t == \"SmallIndex\":\n",
        "                target.append(np.int(self.frames[key][0]))\n",
        "            elif t == \"LargeFrame\":\n",
        "                target.append(video[:, self.frames[key][-1], :, :])\n",
        "            elif t == \"SmallFrame\":\n",
        "                target.append(video[:, self.frames[key][0], :, :])\n",
        "            elif t in [\"LargeTrace\", \"SmallTrace\"]:\n",
        "                if t == \"LargeTrace\":\n",
        "                    t = self.trace[key][self.frames[key][-1]]\n",
        "                else:\n",
        "                    t = self.trace[key][self.frames[key][0]]\n",
        "                #Zasebni nizovi koordinata točaka\n",
        "                x1, y1, x2, y2 = t[:, 0], t[:, 1], t[:, 2], t[:, 3]\n",
        "                # Invertiraj x2 i y2 nizove\n",
        "                x = np.concatenate((x1[1:], np.flip(x2[1:])))\n",
        "                y = np.concatenate((y1[1:], np.flip(y2[1:])))\n",
        "                r, c = skimage.draw.polygon(np.rint(y).astype(np.int), np.rint(x).astype(np.int), (video.shape[2], video.shape[3]))\n",
        "                #Veličina maske = rezolucija videa\n",
        "                mask = np.zeros((video.shape[2], video.shape[3]), np.float32)\n",
        "                #Pixeli lijeve komore/klijetke = 1\n",
        "                mask[r, c] = 1\n",
        "                # Pohrani masku\n",
        "                target.append(mask)\n",
        "            else:\n",
        "                # Nije od prevelike važnosti u našem slučaju\n",
        "                if self.split == \"CLINICAL_TEST\" or self.split == \"EXTERNAL_TEST\":\n",
        "                    target.append(np.float32(0))\n",
        "                else:\n",
        "                    target.append(np.float32(self.outcome[index][self.header.index(t)]))\n",
        "\n",
        "        if target != []:\n",
        "            #Ukoliko je definirana target_transform metoda u konstruktoru transformiraj prethodno inicijalizirani target niz\n",
        "            target = tuple(target) if len(target) > 1 else target[0]\n",
        "            if self.target_transform is not None:\n",
        "                target = self.target_transform(target)"
      ],
      "metadata": {
        "id": "DnpQUr-cG16v"
      },
      "execution_count": null,
      "outputs": []
    },
    {
      "cell_type": "markdown",
      "source": [
        "Posljednji dio **\\_\\_getitem\\_\\_** metode tiče se uzorkovanja videa odnosno njegovog dijeljenja u manje isječke/clipove te *paddanja* videa ukoliko je to definirano u pozivu konstruktora. Naime, ukoliko je video duži od točno specificirane duljine `length` ili iz jednog videa želimo uzeti više isječaka/clipova tada to možemo odraditi na više načina. \n",
        "\n",
        "Ovaj dio veže se na prethodni dio dio određivanja `start` pozicija clipova koje definiraju početne indekse frame-ova clipova.\n",
        "\n",
        "Svaki clip će imati početni frame definiran unutar `start` niza te će biti dužine `length`. Npr, ukoliko početni video ima 100 frame-ova, clip je duljine 5 frame-ova, indeks početnog frame-a je 6 a želimo uzorkovati svako drugi frame(**self.period=2**) tada će se naš clip sastojati od frame-ova s indeksima 6, 8, 10, 12, 14 unutar početnog videa.\n",
        "\n",
        "Ukoliko je broj clipova postavljen na 1(default) tada ćemo kao rezultat imati jedan clip kao vrijednost `video` varijable, a u slučaju više clipova `video` varijabla će sadržavati clipove jedan iza drugog.\n",
        "\n",
        "Ukoliko želimo povećati rezoluciju videa to možemo odraditi jednostavnim mehanizmom *paddinga* čije dimenzije određuje **self.pad** parametar. Mehanizam se sastoji od \"uokviravanja\" trenutnog frame-a s okvirom čije se normalizirane R,G,B vrijednosti postavljaju na 0(srednja vrijednost boje) dok se središnji pikseli slike postavljaju na vrijednosti trenutnog frame-a.\n",
        "\n",
        "Na kraju od proširene slike frame-a uzimamo/croppamo dio veličine početne rezolucije frame-a."
      ],
      "metadata": {
        "id": "30nTHxAOIoOJ"
      }
    },
    {
      "cell_type": "code",
      "source": [
        "        # video = lista clipova\n",
        "        video = tuple(video[:, s + self.period * np.arange(length), :, :] for s in start)\n",
        "        if self.clips == 1:\n",
        "            #Samo 1 clip napravljen -> uzmi prvi i jedini član liste\n",
        "            video = video[0]\n",
        "        else:\n",
        "            # Spoji clipove jedan iza drugog u jedinstveni niz\n",
        "            video = np.stack(video)\n",
        "\n",
        "        if self.pad is not None:\n",
        "            # Početna rezolucija\n",
        "            c, l, h, w = video.shape\n",
        "            # Proširi rezoluciju za \"okvire\" sa svih strana frame-a\n",
        "            temp = np.zeros((c, l, h + 2 * self.pad, w + 2 * self.pad), dtype=video.dtype)\n",
        "            # Područja \"unutar okvira\" postavi na vrijednosti od frame-ova od videa\n",
        "            temp[:, :, self.pad:-self.pad, self.pad:-self.pad] = video\n",
        "            i, j = np.random.randint(0, 2 * self.pad, 2)\n",
        "            # Random croppaj dio veličine početne rezolucije videa\n",
        "            video = temp[:, :, i:(i + h), j:(j + w)]\n",
        "        # Vrati video i target u obliku Python tuple tipa\n",
        "        return video, target"
      ],
      "metadata": {
        "id": "rp2urMc2ILMB"
      },
      "execution_count": null,
      "outputs": []
    },
    {
      "cell_type": "markdown",
      "source": [
        "#### **\\_\\_len\\_\\_()**"
      ],
      "metadata": {
        "id": "7EmWQyFaz_qz"
      }
    },
    {
      "cell_type": "markdown",
      "source": [
        "Metoda koju je potrebno definirati prilikom definiranja vlastitog dataset-a u **PyTorchu**. Vraća broj instanci dataset-a. U našem slučaju su imena svih instanci pohranjeni u **self.fnames** pa je dovoljno uzeti duljinu te liste."
      ],
      "metadata": {
        "id": "_bdAgQNx0ibu"
      }
    },
    {
      "cell_type": "code",
      "source": [
        "    def __len__(self):\n",
        "        #broj videa=broj filenameova\n",
        "        return len(self.fnames)"
      ],
      "metadata": {
        "id": "f4cLma7yz7Eu"
      },
      "execution_count": null,
      "outputs": []
    },
    {
      "cell_type": "markdown",
      "source": [
        "#### **\\_\\_extra_repr\\_\\_**"
      ],
      "metadata": {
        "id": "F77LT7yV0PBG"
      }
    },
    {
      "cell_type": "markdown",
      "source": [
        "Definira dodatne informacije koje se dodaju na kraj Python **\\_\\_repr\\_\\_** stringa za zadani dataset objekt."
      ],
      "metadata": {
        "id": "UJxQz6Nc1oZS"
      }
    },
    {
      "cell_type": "code",
      "source": [
        "    def extra_repr(self) -> str:\n",
        "        \"\"\"Additional information to add at end of __repr__.\"\"\"\n",
        "        lines = [\"Target type: {target_type}\", \"Split: {split}\"]\n",
        "        return '\\n'.join(lines).format(**self.__dict__)"
      ],
      "metadata": {
        "id": "QLucnP8c0N7J"
      },
      "execution_count": null,
      "outputs": []
    },
    {
      "cell_type": "code",
      "source": [
        "!sudo apt-get install texlive-xetex texlive-fonts-recommended texlive-generic-recommended\n",
        "\n",
        "!jupyter nbconvert --to pdf SegmentacijaEhokardiograma.ipynb"
      ],
      "metadata": {
        "colab": {
          "base_uri": "https://localhost:8080/"
        },
        "id": "OJ22aR98FkvO",
        "outputId": "27763431-3990-41bf-98eb-73103f6f90d5"
      },
      "execution_count": null,
      "outputs": [
        {
          "output_type": "stream",
          "name": "stdout",
          "text": [
            "Reading package lists... Done\n",
            "Building dependency tree       \n",
            "Reading state information... Done\n",
            "The following package was automatically installed and is no longer required:\n",
            "  libnvidia-common-460\n",
            "Use 'sudo apt autoremove' to remove it.\n",
            "The following additional packages will be installed:\n",
            "  fonts-droid-fallback fonts-lato fonts-lmodern fonts-noto-mono fonts-texgyre\n",
            "  javascript-common libcupsfilters1 libcupsimage2 libgs9 libgs9-common\n",
            "  libijs-0.35 libjbig2dec0 libjs-jquery libkpathsea6 libpotrace0 libptexenc1\n",
            "  libruby2.5 libsynctex1 libtexlua52 libtexluajit2 libzzip-0-13 lmodern\n",
            "  poppler-data preview-latex-style rake ruby ruby-did-you-mean ruby-minitest\n",
            "  ruby-net-telnet ruby-power-assert ruby-test-unit ruby2.5\n",
            "  rubygems-integration t1utils tex-common tex-gyre texlive-base\n",
            "  texlive-binaries texlive-latex-base texlive-latex-extra\n",
            "  texlive-latex-recommended texlive-pictures texlive-plain-generic tipa\n",
            "Suggested packages:\n",
            "  fonts-noto apache2 | lighttpd | httpd poppler-utils ghostscript\n",
            "  fonts-japanese-mincho | fonts-ipafont-mincho fonts-japanese-gothic\n",
            "  | fonts-ipafont-gothic fonts-arphic-ukai fonts-arphic-uming fonts-nanum ri\n",
            "  ruby-dev bundler debhelper gv | postscript-viewer perl-tk xpdf-reader\n",
            "  | pdf-viewer texlive-fonts-recommended-doc texlive-latex-base-doc\n",
            "  python-pygments icc-profiles libfile-which-perl\n",
            "  libspreadsheet-parseexcel-perl texlive-latex-extra-doc\n",
            "  texlive-latex-recommended-doc texlive-pstricks dot2tex prerex ruby-tcltk\n",
            "  | libtcltk-ruby texlive-pictures-doc vprerex\n",
            "The following NEW packages will be installed:\n",
            "  fonts-droid-fallback fonts-lato fonts-lmodern fonts-noto-mono fonts-texgyre\n",
            "  javascript-common libcupsfilters1 libcupsimage2 libgs9 libgs9-common\n",
            "  libijs-0.35 libjbig2dec0 libjs-jquery libkpathsea6 libpotrace0 libptexenc1\n",
            "  libruby2.5 libsynctex1 libtexlua52 libtexluajit2 libzzip-0-13 lmodern\n",
            "  poppler-data preview-latex-style rake ruby ruby-did-you-mean ruby-minitest\n",
            "  ruby-net-telnet ruby-power-assert ruby-test-unit ruby2.5\n",
            "  rubygems-integration t1utils tex-common tex-gyre texlive-base\n",
            "  texlive-binaries texlive-fonts-recommended texlive-generic-recommended\n",
            "  texlive-latex-base texlive-latex-extra texlive-latex-recommended\n",
            "  texlive-pictures texlive-plain-generic texlive-xetex tipa\n",
            "0 upgraded, 47 newly installed, 0 to remove and 49 not upgraded.\n",
            "Need to get 146 MB of archives.\n",
            "After this operation, 460 MB of additional disk space will be used.\n",
            "Get:1 http://archive.ubuntu.com/ubuntu bionic/main amd64 fonts-droid-fallback all 1:6.0.1r16-1.1 [1,805 kB]\n",
            "Get:2 http://archive.ubuntu.com/ubuntu bionic/main amd64 fonts-lato all 2.0-2 [2,698 kB]\n",
            "Get:3 http://archive.ubuntu.com/ubuntu bionic/main amd64 poppler-data all 0.4.8-2 [1,479 kB]\n",
            "Get:4 http://archive.ubuntu.com/ubuntu bionic/main amd64 tex-common all 6.09 [33.0 kB]\n",
            "Get:5 http://archive.ubuntu.com/ubuntu bionic/main amd64 fonts-lmodern all 2.004.5-3 [4,551 kB]\n",
            "Get:6 http://archive.ubuntu.com/ubuntu bionic/main amd64 fonts-noto-mono all 20171026-2 [75.5 kB]\n",
            "Get:7 http://archive.ubuntu.com/ubuntu bionic/universe amd64 fonts-texgyre all 20160520-1 [8,761 kB]\n",
            "Get:8 http://archive.ubuntu.com/ubuntu bionic/main amd64 javascript-common all 11 [6,066 B]\n",
            "Get:9 http://archive.ubuntu.com/ubuntu bionic-updates/main amd64 libcupsfilters1 amd64 1.20.2-0ubuntu3.1 [108 kB]\n",
            "Get:10 http://archive.ubuntu.com/ubuntu bionic-updates/main amd64 libcupsimage2 amd64 2.2.7-1ubuntu2.9 [18.6 kB]\n",
            "Get:11 http://archive.ubuntu.com/ubuntu bionic/main amd64 libijs-0.35 amd64 0.35-13 [15.5 kB]\n",
            "Get:12 http://archive.ubuntu.com/ubuntu bionic/main amd64 libjbig2dec0 amd64 0.13-6 [55.9 kB]\n",
            "Get:13 http://archive.ubuntu.com/ubuntu bionic-updates/main amd64 libgs9-common all 9.26~dfsg+0-0ubuntu0.18.04.16 [5,093 kB]\n",
            "Get:14 http://archive.ubuntu.com/ubuntu bionic-updates/main amd64 libgs9 amd64 9.26~dfsg+0-0ubuntu0.18.04.16 [2,265 kB]\n",
            "Get:15 http://archive.ubuntu.com/ubuntu bionic/main amd64 libjs-jquery all 3.2.1-1 [152 kB]\n",
            "Get:16 http://archive.ubuntu.com/ubuntu bionic-updates/main amd64 libkpathsea6 amd64 2017.20170613.44572-8ubuntu0.1 [54.9 kB]\n",
            "Get:17 http://archive.ubuntu.com/ubuntu bionic/main amd64 libpotrace0 amd64 1.14-2 [17.4 kB]\n",
            "Get:18 http://archive.ubuntu.com/ubuntu bionic-updates/main amd64 libptexenc1 amd64 2017.20170613.44572-8ubuntu0.1 [34.5 kB]\n",
            "Get:19 http://archive.ubuntu.com/ubuntu bionic/main amd64 rubygems-integration all 1.11 [4,994 B]\n",
            "Get:20 http://archive.ubuntu.com/ubuntu bionic-updates/main amd64 ruby2.5 amd64 2.5.1-1ubuntu1.12 [48.6 kB]\n",
            "Get:21 http://archive.ubuntu.com/ubuntu bionic/main amd64 ruby amd64 1:2.5.1 [5,712 B]\n",
            "Get:22 http://archive.ubuntu.com/ubuntu bionic-updates/main amd64 rake all 12.3.1-1ubuntu0.1 [44.9 kB]\n",
            "Get:23 http://archive.ubuntu.com/ubuntu bionic/main amd64 ruby-did-you-mean all 1.2.0-2 [9,700 B]\n",
            "Get:24 http://archive.ubuntu.com/ubuntu bionic/main amd64 ruby-minitest all 5.10.3-1 [38.6 kB]\n",
            "Get:25 http://archive.ubuntu.com/ubuntu bionic/main amd64 ruby-net-telnet all 0.1.1-2 [12.6 kB]\n",
            "Get:26 http://archive.ubuntu.com/ubuntu bionic/main amd64 ruby-power-assert all 0.3.0-1 [7,952 B]\n",
            "Get:27 http://archive.ubuntu.com/ubuntu bionic/main amd64 ruby-test-unit all 3.2.5-1 [61.1 kB]\n",
            "Get:28 http://archive.ubuntu.com/ubuntu bionic-updates/main amd64 libruby2.5 amd64 2.5.1-1ubuntu1.12 [3,073 kB]\n",
            "Get:29 http://archive.ubuntu.com/ubuntu bionic-updates/main amd64 libsynctex1 amd64 2017.20170613.44572-8ubuntu0.1 [41.4 kB]\n",
            "Get:30 http://archive.ubuntu.com/ubuntu bionic-updates/main amd64 libtexlua52 amd64 2017.20170613.44572-8ubuntu0.1 [91.2 kB]\n",
            "Get:31 http://archive.ubuntu.com/ubuntu bionic-updates/main amd64 libtexluajit2 amd64 2017.20170613.44572-8ubuntu0.1 [230 kB]\n",
            "Get:32 http://archive.ubuntu.com/ubuntu bionic-updates/main amd64 libzzip-0-13 amd64 0.13.62-3.1ubuntu0.18.04.1 [26.0 kB]\n",
            "Get:33 http://archive.ubuntu.com/ubuntu bionic/main amd64 lmodern all 2.004.5-3 [9,631 kB]\n",
            "Get:34 http://archive.ubuntu.com/ubuntu bionic/main amd64 preview-latex-style all 11.91-1ubuntu1 [185 kB]\n",
            "Get:35 http://archive.ubuntu.com/ubuntu bionic/main amd64 t1utils amd64 1.41-2 [56.0 kB]\n",
            "Get:36 http://archive.ubuntu.com/ubuntu bionic/universe amd64 tex-gyre all 20160520-1 [4,998 kB]\n",
            "Get:37 http://archive.ubuntu.com/ubuntu bionic-updates/main amd64 texlive-binaries amd64 2017.20170613.44572-8ubuntu0.1 [8,179 kB]\n",
            "Get:38 http://archive.ubuntu.com/ubuntu bionic/main amd64 texlive-base all 2017.20180305-1 [18.7 MB]\n",
            "Get:39 http://archive.ubuntu.com/ubuntu bionic/universe amd64 texlive-fonts-recommended all 2017.20180305-1 [5,262 kB]\n",
            "Get:40 http://archive.ubuntu.com/ubuntu bionic/universe amd64 texlive-plain-generic all 2017.20180305-2 [23.6 MB]\n",
            "Get:41 http://archive.ubuntu.com/ubuntu bionic/universe amd64 texlive-generic-recommended all 2017.20180305-1 [15.9 kB]\n",
            "Get:42 http://archive.ubuntu.com/ubuntu bionic/main amd64 texlive-latex-base all 2017.20180305-1 [951 kB]\n",
            "Get:43 http://archive.ubuntu.com/ubuntu bionic/main amd64 texlive-latex-recommended all 2017.20180305-1 [14.9 MB]\n",
            "Get:44 http://archive.ubuntu.com/ubuntu bionic/universe amd64 texlive-pictures all 2017.20180305-1 [4,026 kB]\n",
            "Get:45 http://archive.ubuntu.com/ubuntu bionic/universe amd64 texlive-latex-extra all 2017.20180305-2 [10.6 MB]\n",
            "Get:46 http://archive.ubuntu.com/ubuntu bionic/universe amd64 tipa all 2:1.3-20 [2,978 kB]\n",
            "Get:47 http://archive.ubuntu.com/ubuntu bionic/universe amd64 texlive-xetex all 2017.20180305-1 [10.7 MB]\n",
            "Fetched 146 MB in 11s (13.0 MB/s)\n",
            "debconf: unable to initialize frontend: Dialog\n",
            "debconf: (No usable dialog-like program is installed, so the dialog based frontend cannot be used. at /usr/share/perl5/Debconf/FrontEnd/Dialog.pm line 76, <> line 47.)\n",
            "debconf: falling back to frontend: Readline\n",
            "debconf: unable to initialize frontend: Readline\n",
            "debconf: (This frontend requires a controlling tty.)\n",
            "debconf: falling back to frontend: Teletype\n",
            "dpkg-preconfigure: unable to re-open stdin: \n",
            "Selecting previously unselected package fonts-droid-fallback.\n",
            "(Reading database ... 155639 files and directories currently installed.)\n",
            "Preparing to unpack .../00-fonts-droid-fallback_1%3a6.0.1r16-1.1_all.deb ...\n",
            "Unpacking fonts-droid-fallback (1:6.0.1r16-1.1) ...\n",
            "Selecting previously unselected package fonts-lato.\n",
            "Preparing to unpack .../01-fonts-lato_2.0-2_all.deb ...\n",
            "Unpacking fonts-lato (2.0-2) ...\n",
            "Selecting previously unselected package poppler-data.\n",
            "Preparing to unpack .../02-poppler-data_0.4.8-2_all.deb ...\n",
            "Unpacking poppler-data (0.4.8-2) ...\n",
            "Selecting previously unselected package tex-common.\n",
            "Preparing to unpack .../03-tex-common_6.09_all.deb ...\n",
            "Unpacking tex-common (6.09) ...\n",
            "Selecting previously unselected package fonts-lmodern.\n",
            "Preparing to unpack .../04-fonts-lmodern_2.004.5-3_all.deb ...\n",
            "Unpacking fonts-lmodern (2.004.5-3) ...\n",
            "Selecting previously unselected package fonts-noto-mono.\n",
            "Preparing to unpack .../05-fonts-noto-mono_20171026-2_all.deb ...\n",
            "Unpacking fonts-noto-mono (20171026-2) ...\n",
            "Selecting previously unselected package fonts-texgyre.\n",
            "Preparing to unpack .../06-fonts-texgyre_20160520-1_all.deb ...\n",
            "Unpacking fonts-texgyre (20160520-1) ...\n",
            "Selecting previously unselected package javascript-common.\n",
            "Preparing to unpack .../07-javascript-common_11_all.deb ...\n",
            "Unpacking javascript-common (11) ...\n",
            "Selecting previously unselected package libcupsfilters1:amd64.\n",
            "Preparing to unpack .../08-libcupsfilters1_1.20.2-0ubuntu3.1_amd64.deb ...\n",
            "Unpacking libcupsfilters1:amd64 (1.20.2-0ubuntu3.1) ...\n",
            "Selecting previously unselected package libcupsimage2:amd64.\n",
            "Preparing to unpack .../09-libcupsimage2_2.2.7-1ubuntu2.9_amd64.deb ...\n",
            "Unpacking libcupsimage2:amd64 (2.2.7-1ubuntu2.9) ...\n",
            "Selecting previously unselected package libijs-0.35:amd64.\n",
            "Preparing to unpack .../10-libijs-0.35_0.35-13_amd64.deb ...\n",
            "Unpacking libijs-0.35:amd64 (0.35-13) ...\n",
            "Selecting previously unselected package libjbig2dec0:amd64.\n",
            "Preparing to unpack .../11-libjbig2dec0_0.13-6_amd64.deb ...\n",
            "Unpacking libjbig2dec0:amd64 (0.13-6) ...\n",
            "Selecting previously unselected package libgs9-common.\n",
            "Preparing to unpack .../12-libgs9-common_9.26~dfsg+0-0ubuntu0.18.04.16_all.deb ...\n",
            "Unpacking libgs9-common (9.26~dfsg+0-0ubuntu0.18.04.16) ...\n",
            "Selecting previously unselected package libgs9:amd64.\n",
            "Preparing to unpack .../13-libgs9_9.26~dfsg+0-0ubuntu0.18.04.16_amd64.deb ...\n",
            "Unpacking libgs9:amd64 (9.26~dfsg+0-0ubuntu0.18.04.16) ...\n",
            "Selecting previously unselected package libjs-jquery.\n",
            "Preparing to unpack .../14-libjs-jquery_3.2.1-1_all.deb ...\n",
            "Unpacking libjs-jquery (3.2.1-1) ...\n",
            "Selecting previously unselected package libkpathsea6:amd64.\n",
            "Preparing to unpack .../15-libkpathsea6_2017.20170613.44572-8ubuntu0.1_amd64.deb ...\n",
            "Unpacking libkpathsea6:amd64 (2017.20170613.44572-8ubuntu0.1) ...\n",
            "Selecting previously unselected package libpotrace0.\n",
            "Preparing to unpack .../16-libpotrace0_1.14-2_amd64.deb ...\n",
            "Unpacking libpotrace0 (1.14-2) ...\n",
            "Selecting previously unselected package libptexenc1:amd64.\n",
            "Preparing to unpack .../17-libptexenc1_2017.20170613.44572-8ubuntu0.1_amd64.deb ...\n",
            "Unpacking libptexenc1:amd64 (2017.20170613.44572-8ubuntu0.1) ...\n",
            "Selecting previously unselected package rubygems-integration.\n",
            "Preparing to unpack .../18-rubygems-integration_1.11_all.deb ...\n",
            "Unpacking rubygems-integration (1.11) ...\n",
            "Selecting previously unselected package ruby2.5.\n",
            "Preparing to unpack .../19-ruby2.5_2.5.1-1ubuntu1.12_amd64.deb ...\n",
            "Unpacking ruby2.5 (2.5.1-1ubuntu1.12) ...\n",
            "Selecting previously unselected package ruby.\n",
            "Preparing to unpack .../20-ruby_1%3a2.5.1_amd64.deb ...\n",
            "Unpacking ruby (1:2.5.1) ...\n",
            "Selecting previously unselected package rake.\n",
            "Preparing to unpack .../21-rake_12.3.1-1ubuntu0.1_all.deb ...\n",
            "Unpacking rake (12.3.1-1ubuntu0.1) ...\n",
            "Selecting previously unselected package ruby-did-you-mean.\n",
            "Preparing to unpack .../22-ruby-did-you-mean_1.2.0-2_all.deb ...\n",
            "Unpacking ruby-did-you-mean (1.2.0-2) ...\n",
            "Selecting previously unselected package ruby-minitest.\n",
            "Preparing to unpack .../23-ruby-minitest_5.10.3-1_all.deb ...\n",
            "Unpacking ruby-minitest (5.10.3-1) ...\n",
            "Selecting previously unselected package ruby-net-telnet.\n",
            "Preparing to unpack .../24-ruby-net-telnet_0.1.1-2_all.deb ...\n",
            "Unpacking ruby-net-telnet (0.1.1-2) ...\n",
            "Selecting previously unselected package ruby-power-assert.\n",
            "Preparing to unpack .../25-ruby-power-assert_0.3.0-1_all.deb ...\n",
            "Unpacking ruby-power-assert (0.3.0-1) ...\n",
            "Selecting previously unselected package ruby-test-unit.\n",
            "Preparing to unpack .../26-ruby-test-unit_3.2.5-1_all.deb ...\n",
            "Unpacking ruby-test-unit (3.2.5-1) ...\n",
            "Selecting previously unselected package libruby2.5:amd64.\n",
            "Preparing to unpack .../27-libruby2.5_2.5.1-1ubuntu1.12_amd64.deb ...\n",
            "Unpacking libruby2.5:amd64 (2.5.1-1ubuntu1.12) ...\n",
            "Selecting previously unselected package libsynctex1:amd64.\n",
            "Preparing to unpack .../28-libsynctex1_2017.20170613.44572-8ubuntu0.1_amd64.deb ...\n",
            "Unpacking libsynctex1:amd64 (2017.20170613.44572-8ubuntu0.1) ...\n",
            "Selecting previously unselected package libtexlua52:amd64.\n",
            "Preparing to unpack .../29-libtexlua52_2017.20170613.44572-8ubuntu0.1_amd64.deb ...\n",
            "Unpacking libtexlua52:amd64 (2017.20170613.44572-8ubuntu0.1) ...\n",
            "Selecting previously unselected package libtexluajit2:amd64.\n",
            "Preparing to unpack .../30-libtexluajit2_2017.20170613.44572-8ubuntu0.1_amd64.deb ...\n",
            "Unpacking libtexluajit2:amd64 (2017.20170613.44572-8ubuntu0.1) ...\n",
            "Selecting previously unselected package libzzip-0-13:amd64.\n",
            "Preparing to unpack .../31-libzzip-0-13_0.13.62-3.1ubuntu0.18.04.1_amd64.deb ...\n",
            "Unpacking libzzip-0-13:amd64 (0.13.62-3.1ubuntu0.18.04.1) ...\n",
            "Selecting previously unselected package lmodern.\n",
            "Preparing to unpack .../32-lmodern_2.004.5-3_all.deb ...\n",
            "Unpacking lmodern (2.004.5-3) ...\n",
            "Selecting previously unselected package preview-latex-style.\n",
            "Preparing to unpack .../33-preview-latex-style_11.91-1ubuntu1_all.deb ...\n",
            "Unpacking preview-latex-style (11.91-1ubuntu1) ...\n",
            "Selecting previously unselected package t1utils.\n",
            "Preparing to unpack .../34-t1utils_1.41-2_amd64.deb ...\n",
            "Unpacking t1utils (1.41-2) ...\n",
            "Selecting previously unselected package tex-gyre.\n",
            "Preparing to unpack .../35-tex-gyre_20160520-1_all.deb ...\n",
            "Unpacking tex-gyre (20160520-1) ...\n",
            "Selecting previously unselected package texlive-binaries.\n",
            "Preparing to unpack .../36-texlive-binaries_2017.20170613.44572-8ubuntu0.1_amd64.deb ...\n",
            "Unpacking texlive-binaries (2017.20170613.44572-8ubuntu0.1) ...\n",
            "Selecting previously unselected package texlive-base.\n",
            "Preparing to unpack .../37-texlive-base_2017.20180305-1_all.deb ...\n",
            "Unpacking texlive-base (2017.20180305-1) ...\n",
            "Selecting previously unselected package texlive-fonts-recommended.\n",
            "Preparing to unpack .../38-texlive-fonts-recommended_2017.20180305-1_all.deb ...\n",
            "Unpacking texlive-fonts-recommended (2017.20180305-1) ...\n",
            "Selecting previously unselected package texlive-plain-generic.\n",
            "Preparing to unpack .../39-texlive-plain-generic_2017.20180305-2_all.deb ...\n",
            "Unpacking texlive-plain-generic (2017.20180305-2) ...\n",
            "Selecting previously unselected package texlive-generic-recommended.\n",
            "Preparing to unpack .../40-texlive-generic-recommended_2017.20180305-1_all.deb ...\n",
            "Unpacking texlive-generic-recommended (2017.20180305-1) ...\n",
            "Selecting previously unselected package texlive-latex-base.\n",
            "Preparing to unpack .../41-texlive-latex-base_2017.20180305-1_all.deb ...\n",
            "Unpacking texlive-latex-base (2017.20180305-1) ...\n",
            "Selecting previously unselected package texlive-latex-recommended.\n",
            "Preparing to unpack .../42-texlive-latex-recommended_2017.20180305-1_all.deb ...\n",
            "Unpacking texlive-latex-recommended (2017.20180305-1) ...\n",
            "Selecting previously unselected package texlive-pictures.\n",
            "Preparing to unpack .../43-texlive-pictures_2017.20180305-1_all.deb ...\n",
            "Unpacking texlive-pictures (2017.20180305-1) ...\n",
            "Selecting previously unselected package texlive-latex-extra.\n",
            "Preparing to unpack .../44-texlive-latex-extra_2017.20180305-2_all.deb ...\n",
            "Unpacking texlive-latex-extra (2017.20180305-2) ...\n",
            "Selecting previously unselected package tipa.\n",
            "Preparing to unpack .../45-tipa_2%3a1.3-20_all.deb ...\n",
            "Unpacking tipa (2:1.3-20) ...\n",
            "Selecting previously unselected package texlive-xetex.\n",
            "Preparing to unpack .../46-texlive-xetex_2017.20180305-1_all.deb ...\n",
            "Unpacking texlive-xetex (2017.20180305-1) ...\n",
            "Setting up libgs9-common (9.26~dfsg+0-0ubuntu0.18.04.16) ...\n",
            "Setting up libkpathsea6:amd64 (2017.20170613.44572-8ubuntu0.1) ...\n",
            "Setting up libjs-jquery (3.2.1-1) ...\n",
            "Setting up libtexlua52:amd64 (2017.20170613.44572-8ubuntu0.1) ...\n",
            "Setting up fonts-droid-fallback (1:6.0.1r16-1.1) ...\n",
            "Setting up libsynctex1:amd64 (2017.20170613.44572-8ubuntu0.1) ...\n",
            "Setting up libptexenc1:amd64 (2017.20170613.44572-8ubuntu0.1) ...\n",
            "Setting up tex-common (6.09) ...\n",
            "debconf: unable to initialize frontend: Dialog\n",
            "debconf: (No usable dialog-like program is installed, so the dialog based frontend cannot be used. at /usr/share/perl5/Debconf/FrontEnd/Dialog.pm line 76.)\n",
            "debconf: falling back to frontend: Readline\n",
            "update-language: texlive-base not installed and configured, doing nothing!\n",
            "Setting up poppler-data (0.4.8-2) ...\n",
            "Setting up tex-gyre (20160520-1) ...\n",
            "Setting up preview-latex-style (11.91-1ubuntu1) ...\n",
            "Setting up fonts-texgyre (20160520-1) ...\n",
            "Setting up fonts-noto-mono (20171026-2) ...\n",
            "Setting up fonts-lato (2.0-2) ...\n",
            "Setting up libcupsfilters1:amd64 (1.20.2-0ubuntu3.1) ...\n",
            "Setting up libcupsimage2:amd64 (2.2.7-1ubuntu2.9) ...\n",
            "Setting up libjbig2dec0:amd64 (0.13-6) ...\n",
            "Setting up ruby-did-you-mean (1.2.0-2) ...\n",
            "Setting up t1utils (1.41-2) ...\n",
            "Setting up ruby-net-telnet (0.1.1-2) ...\n",
            "Setting up libijs-0.35:amd64 (0.35-13) ...\n",
            "Setting up rubygems-integration (1.11) ...\n",
            "Setting up libpotrace0 (1.14-2) ...\n",
            "Setting up javascript-common (11) ...\n",
            "Setting up ruby-minitest (5.10.3-1) ...\n",
            "Setting up libzzip-0-13:amd64 (0.13.62-3.1ubuntu0.18.04.1) ...\n",
            "Setting up libgs9:amd64 (9.26~dfsg+0-0ubuntu0.18.04.16) ...\n",
            "Setting up libtexluajit2:amd64 (2017.20170613.44572-8ubuntu0.1) ...\n",
            "Setting up fonts-lmodern (2.004.5-3) ...\n",
            "Setting up ruby-power-assert (0.3.0-1) ...\n",
            "Setting up texlive-binaries (2017.20170613.44572-8ubuntu0.1) ...\n",
            "update-alternatives: using /usr/bin/xdvi-xaw to provide /usr/bin/xdvi.bin (xdvi.bin) in auto mode\n",
            "update-alternatives: using /usr/bin/bibtex.original to provide /usr/bin/bibtex (bibtex) in auto mode\n",
            "Setting up texlive-base (2017.20180305-1) ...\n",
            "mktexlsr: Updating /var/lib/texmf/ls-R-TEXLIVEDIST... \n",
            "mktexlsr: Updating /var/lib/texmf/ls-R-TEXMFMAIN... \n",
            "mktexlsr: Updating /var/lib/texmf/ls-R... \n",
            "mktexlsr: Done.\n",
            "tl-paper: setting paper size for dvips to a4: /var/lib/texmf/dvips/config/config-paper.ps\n",
            "tl-paper: setting paper size for dvipdfmx to a4: /var/lib/texmf/dvipdfmx/dvipdfmx-paper.cfg\n",
            "tl-paper: setting paper size for xdvi to a4: /var/lib/texmf/xdvi/XDvi-paper\n",
            "tl-paper: setting paper size for pdftex to a4: /var/lib/texmf/tex/generic/config/pdftexconfig.tex\n",
            "debconf: unable to initialize frontend: Dialog\n",
            "debconf: (No usable dialog-like program is installed, so the dialog based frontend cannot be used. at /usr/share/perl5/Debconf/FrontEnd/Dialog.pm line 76.)\n",
            "debconf: falling back to frontend: Readline\n",
            "Setting up texlive-fonts-recommended (2017.20180305-1) ...\n",
            "Setting up texlive-plain-generic (2017.20180305-2) ...\n",
            "Setting up texlive-generic-recommended (2017.20180305-1) ...\n",
            "Setting up texlive-latex-base (2017.20180305-1) ...\n",
            "Setting up lmodern (2.004.5-3) ...\n",
            "Setting up texlive-latex-recommended (2017.20180305-1) ...\n",
            "Setting up texlive-pictures (2017.20180305-1) ...\n",
            "Setting up tipa (2:1.3-20) ...\n",
            "Regenerating '/var/lib/texmf/fmtutil.cnf-DEBIAN'... done.\n",
            "Regenerating '/var/lib/texmf/fmtutil.cnf-TEXLIVEDIST'... done.\n",
            "update-fmtutil has updated the following file(s):\n",
            "\t/var/lib/texmf/fmtutil.cnf-DEBIAN\n",
            "\t/var/lib/texmf/fmtutil.cnf-TEXLIVEDIST\n",
            "If you want to activate the changes in the above file(s),\n",
            "you should run fmtutil-sys or fmtutil.\n",
            "Setting up texlive-latex-extra (2017.20180305-2) ...\n",
            "Setting up texlive-xetex (2017.20180305-1) ...\n",
            "Setting up ruby2.5 (2.5.1-1ubuntu1.12) ...\n",
            "Setting up ruby (1:2.5.1) ...\n",
            "Setting up ruby-test-unit (3.2.5-1) ...\n",
            "Setting up rake (12.3.1-1ubuntu0.1) ...\n",
            "Setting up libruby2.5:amd64 (2.5.1-1ubuntu1.12) ...\n",
            "Processing triggers for mime-support (3.60ubuntu1) ...\n",
            "Processing triggers for libc-bin (2.27-3ubuntu1.3) ...\n",
            "/sbin/ldconfig.real: /usr/local/lib/python3.7/dist-packages/ideep4py/lib/libmkldnn.so.0 is not a symbolic link\n",
            "\n",
            "Processing triggers for man-db (2.8.3-2ubuntu0.1) ...\n",
            "Processing triggers for fontconfig (2.12.6-0ubuntu2) ...\n",
            "Processing triggers for tex-common (6.09) ...\n",
            "debconf: unable to initialize frontend: Dialog\n",
            "debconf: (No usable dialog-like program is installed, so the dialog based frontend cannot be used. at /usr/share/perl5/Debconf/FrontEnd/Dialog.pm line 76.)\n",
            "debconf: falling back to frontend: Readline\n",
            "Running updmap-sys. This may take some time... done.\n",
            "Running mktexlsr /var/lib/texmf ... done.\n",
            "Building format(s) --all.\n",
            "\tThis may take some time... done.\n",
            "[NbConvertApp] Converting notebook SegmentacijaEhokardiograma.ipynb to pdf\n",
            "[NbConvertApp] Writing 466173 bytes to ./notebook.tex\n",
            "[NbConvertApp] Building PDF\n",
            "[NbConvertApp] Running xelatex 3 times: ['xelatex', './notebook.tex', '-quiet']\n",
            "[NbConvertApp] Running bibtex 1 time: ['bibtex', './notebook']\n",
            "[NbConvertApp] WARNING | bibtex had problems, most likely because there were no citations\n",
            "[NbConvertApp] PDF successfully created\n",
            "[NbConvertApp] Writing 300900 bytes to SegmentacijaEhokardiograma.pdf\n"
          ]
        }
      ]
    }
  ]
}